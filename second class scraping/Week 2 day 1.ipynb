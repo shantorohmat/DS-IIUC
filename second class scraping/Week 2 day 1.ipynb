{
 "cells": [
  {
   "cell_type": "code",
   "execution_count": null,
   "id": "d984edf1",
   "metadata": {},
   "outputs": [],
   "source": [
    "!pip install requests_html"
   ]
  },
  {
   "cell_type": "code",
   "execution_count": null,
   "id": "1c2ed4d4",
   "metadata": {},
   "outputs": [],
   "source": [
    "from requests_html import HTMLSession"
   ]
  },
  {
   "cell_type": "markdown",
   "id": "6d4d7bc5",
   "metadata": {},
   "source": [
    "## DSE news scraping"
   ]
  },
  {
   "cell_type": "code",
   "execution_count": null,
   "id": "926435e4",
   "metadata": {},
   "outputs": [],
   "source": [
    "session = HTMLSession()"
   ]
  },
  {
   "cell_type": "code",
   "execution_count": null,
   "id": "9ad8e9f9",
   "metadata": {},
   "outputs": [],
   "source": [
    "url = \"https://dsebd.org/old_news.php?startDate=2022-08-20&endDate=2022-08-26&criteria=4&archive=news\"\n",
    "r = session.get(url)"
   ]
  },
  {
   "cell_type": "code",
   "execution_count": null,
   "id": "c99b0bfb",
   "metadata": {},
   "outputs": [],
   "source": [
    "print(r.status_code)## status cod0 = 200 means link is alive"
   ]
  },
  {
   "cell_type": "code",
   "execution_count": null,
   "id": "c263338a",
   "metadata": {},
   "outputs": [],
   "source": [
    "with open(\"E:/DS - IIUC/Python/classes/second class scraping/news.html\",\"w\") as f:\n",
    "          f.write(r.text)\n",
    "          "
   ]
  },
  {
   "cell_type": "code",
   "execution_count": null,
   "id": "2ccc28fd",
   "metadata": {},
   "outputs": [],
   "source": [
    "dse = r.html.find('#RightBody > div.row > div > div.table-responsive > table')[0].text"
   ]
  },
  {
   "cell_type": "code",
   "execution_count": null,
   "id": "e1c4a09b",
   "metadata": {},
   "outputs": [],
   "source": [
    "dse_all = dse.split(\"\\n\")"
   ]
  },
  {
   "cell_type": "code",
   "execution_count": null,
   "id": "66f6f0e7",
   "metadata": {},
   "outputs": [],
   "source": [
    "## Trading Code, News Title, News, Post Date"
   ]
  },
  {
   "cell_type": "code",
   "execution_count": null,
   "id": "071d4ad3",
   "metadata": {},
   "outputs": [],
   "source": [
    "dse_all\n"
   ]
  },
  {
   "cell_type": "code",
   "execution_count": null,
   "id": "97a6f01c",
   "metadata": {},
   "outputs": [],
   "source": [
    "Trading_code = dse_all[1::8]"
   ]
  },
  {
   "cell_type": "code",
   "execution_count": null,
   "id": "fba032f8",
   "metadata": {},
   "outputs": [],
   "source": [
    "Trading_code"
   ]
  },
  {
   "cell_type": "code",
   "execution_count": null,
   "id": "cebf3711",
   "metadata": {},
   "outputs": [],
   "source": [
    "News_title = dse_all[3::8]"
   ]
  },
  {
   "cell_type": "code",
   "execution_count": null,
   "id": "ad2369a7",
   "metadata": {},
   "outputs": [],
   "source": [
    "News_title"
   ]
  },
  {
   "cell_type": "code",
   "execution_count": null,
   "id": "95563c92",
   "metadata": {},
   "outputs": [],
   "source": [
    "News = dse_all[5::8]"
   ]
  },
  {
   "cell_type": "code",
   "execution_count": null,
   "id": "4bdc0def",
   "metadata": {},
   "outputs": [],
   "source": [
    "News"
   ]
  },
  {
   "cell_type": "code",
   "execution_count": null,
   "id": "214565b2",
   "metadata": {},
   "outputs": [],
   "source": [
    "Post_date = dse_all[7::8]\n"
   ]
  },
  {
   "cell_type": "code",
   "execution_count": null,
   "id": "95842afe",
   "metadata": {},
   "outputs": [],
   "source": [
    "Post_date"
   ]
  },
  {
   "cell_type": "markdown",
   "id": "194bbf83",
   "metadata": {},
   "source": [
    "## save file in txt file ##"
   ]
  },
  {
   "cell_type": "code",
   "execution_count": null,
   "id": "ee9848fc",
   "metadata": {},
   "outputs": [],
   "source": [
    "with open(\"E:/DS - IIUC/Python/classes/second class scraping/dse_news.txt\",\"w\",encoding=\"utf-8\") as f:\n",
    "    f.write(\"Trading_code    News Title   News   Post Date\\n\")\n",
    "    for tc,nt,n,pd in zip(Trading_code,News_title,News,Post_date):\n",
    "        f.write(f\"{tc}  /// {nt} ///  {n} ///  {pd}\\n\\n\")\n",
    "        ##f.write(\".....................................................................................................\\n\")"
   ]
  },
  {
   "cell_type": "code",
   "execution_count": null,
   "id": "4f23bc2a",
   "metadata": {},
   "outputs": [],
   "source": [
    "with open(\"news.txt\",\"w\") as f:\n",
    "    f.write(\"Trading_code    News Title   News   Post Date\\n\")\n",
    "    for i in range(len(Trading_code)):\n",
    "        f.write(f\"{Trading_code[i]}  ////// {News_title[i]}  ////// {News[i]}  /////// {Post_date[i]}\\n\")\n",
    "        f.write(\"...........................................................................................................................\")"
   ]
  },
  {
   "cell_type": "markdown",
   "id": "31a714b3",
   "metadata": {},
   "source": [
    "## DSE News scraping "
   ]
  },
  {
   "cell_type": "code",
   "execution_count": null,
   "id": "4edfbb91",
   "metadata": {},
   "outputs": [],
   "source": [
    "\n",
    "\n",
    "def dse_news(i,month,year):     \n",
    "    url = f\"https://dsebd.org/old_news.php?startDate={year}-0{i}-01&endDate={year}-0{i}-30&criteria=4&archive=news\"\n",
    "    print(url)\n",
    "#     r = session.get(url)\n",
    "#     dse = r.html.find('#RightBody > div.row > div > div.table-responsive > table')[0].text\n",
    "#     dse_all = dse.split(\"\\n\")\n",
    "#     Trading_code = dse_all[1::8]\n",
    "#     News_title = dse_all[3::8]\n",
    "#     News = dse_all[5::8]\n",
    "#     Post_date = dse_all[7::8]\n",
    "#     with open(f\"E:/DS - IIUC/Python/classes/second class scraping/DSE_NEWS/{year}/{month}.txt\",\"w\", encoding=\"utf-8\") as f:\n",
    "#         f.write(\"Trading_code    News Title   News   Post Date\\n\")\n",
    "#         for i in range(len(Trading_code)):\n",
    "#             f.write(f\"{Trading_code[i]}  ////// {News_title[i]}  ////// {News[i]}  /////// {Post_date[i]}\\n\")\n",
    "#             f.write(\"........................................................................................................................\")"
   ]
  },
  {
   "cell_type": "code",
   "execution_count": null,
   "id": "3593451c",
   "metadata": {
    "scrolled": true
   },
   "outputs": [],
   "source": [
    "month = {1: \"January\",2 : \"February\", 3 : \"March\", 4:\"April\", 5:\"May\",6:\"June\",7:\"July\",8:\"August\",9:\"September\",\n",
    "         10:\"October\",11:\"November\", 12:\"December\",}\n",
    "for j in range(2019,2023):\n",
    "    for i in range(1,13):\n",
    "        dse_news(i,month[i],j)\n",
    "        "
   ]
  },
  {
   "cell_type": "markdown",
   "id": "3f6c947f",
   "metadata": {},
   "source": [
    "## https://www.bangla-kobita.com/"
   ]
  },
  {
   "cell_type": "markdown",
   "id": "0c2e8015",
   "metadata": {},
   "source": [
    "## bangla-kobita scraping"
   ]
  },
  {
   "cell_type": "code",
   "execution_count": null,
   "id": "1a21d33f",
   "metadata": {},
   "outputs": [],
   "source": [
    "session = HTMLSession()"
   ]
  },
  {
   "cell_type": "code",
   "execution_count": null,
   "id": "9da15239",
   "metadata": {},
   "outputs": [],
   "source": [
    "url = \"https://www.bangla-kobita.com/helalhafiz/ognyutshob/\""
   ]
  },
  {
   "cell_type": "code",
   "execution_count": null,
   "id": "ddeb4aff",
   "metadata": {},
   "outputs": [],
   "source": [
    "r = session.get(url)"
   ]
  },
  {
   "cell_type": "code",
   "execution_count": null,
   "id": "e32d725a",
   "metadata": {},
   "outputs": [],
   "source": [
    "r"
   ]
  },
  {
   "cell_type": "code",
   "execution_count": null,
   "id": "f6b26ece",
   "metadata": {},
   "outputs": [],
   "source": [
    "bk = r.html.find(\"#back-to-top\")[0].text"
   ]
  },
  {
   "cell_type": "code",
   "execution_count": null,
   "id": "dc700388",
   "metadata": {},
   "outputs": [],
   "source": [
    "bk = bk.split(\"\\n\")"
   ]
  },
  {
   "cell_type": "code",
   "execution_count": null,
   "id": "cbe7a80e",
   "metadata": {},
   "outputs": [],
   "source": [
    "bk"
   ]
  },
  {
   "cell_type": "code",
   "execution_count": null,
   "id": "945115b2",
   "metadata": {},
   "outputs": [],
   "source": [
    "## poem name  peom time book read type"
   ]
  },
  {
   "cell_type": "code",
   "execution_count": null,
   "id": "25ed3495",
   "metadata": {},
   "outputs": [],
   "source": [
    "written_date = bk[-50]\n",
    "written_date"
   ]
  },
  {
   "cell_type": "code",
   "execution_count": null,
   "id": "6b5bc7f5",
   "metadata": {},
   "outputs": [],
   "source": [
    "poem_name = r.html.find(\"body > div.container > div.row.body-content > div.col-md-8 > div:nth-child(5) > h1 > span\")[0].text"
   ]
  },
  {
   "cell_type": "code",
   "execution_count": null,
   "id": "0b065284",
   "metadata": {},
   "outputs": [],
   "source": [
    "poem_name"
   ]
  },
  {
   "cell_type": "code",
   "execution_count": null,
   "id": "98179b97",
   "metadata": {},
   "outputs": [],
   "source": [
    "poet = r.html.find(\"body > div.container > div.row.body-content > div.col-md-8 > div:nth-child(5) > div.author-name\")[0].text"
   ]
  },
  {
   "cell_type": "code",
   "execution_count": null,
   "id": "ba5b3c62",
   "metadata": {},
   "outputs": [],
   "source": [
    "poet"
   ]
  },
  {
   "cell_type": "code",
   "execution_count": null,
   "id": "85b7fe30",
   "metadata": {},
   "outputs": [],
   "source": [
    "peom = bk[2::1]"
   ]
  },
  {
   "cell_type": "code",
   "execution_count": null,
   "id": "7da24d97",
   "metadata": {},
   "outputs": [],
   "source": [
    "peom = peom[:-54]"
   ]
  },
  {
   "cell_type": "code",
   "execution_count": null,
   "id": "4858d760",
   "metadata": {},
   "outputs": [],
   "source": [
    "peom = r.html.find(\"body > div.container > div.row.body-content > div.col-md-8 > div:nth-child(5) > div.post-content.noselect\")[0].text"
   ]
  },
  {
   "cell_type": "code",
   "execution_count": null,
   "id": "db8037c8",
   "metadata": {},
   "outputs": [],
   "source": [
    "peom = peom.split(\"\\n\")\n",
    "peom \n"
   ]
  },
  {
   "cell_type": "code",
   "execution_count": null,
   "id": "5f61f5ea",
   "metadata": {},
   "outputs": [],
   "source": [
    "x = peom[:-2]\n",
    "x"
   ]
  },
  {
   "cell_type": "code",
   "execution_count": null,
   "id": "cec917f0",
   "metadata": {},
   "outputs": [],
   "source": [
    "written_time = peom[-2]\n",
    "written_time[10::1]"
   ]
  },
  {
   "cell_type": "code",
   "execution_count": null,
   "id": "55d4db61",
   "metadata": {},
   "outputs": [],
   "source": [
    "book_name = peom[-1]\n",
    "book_name[5::1]"
   ]
  },
  {
   "cell_type": "code",
   "execution_count": null,
   "id": "2442f51f",
   "metadata": {},
   "outputs": [],
   "source": [
    "def fun(s):\n",
    "    session = HTMLSession()\n",
    "    url = f\"https://www.bangla-kobita.com/helalhafiz/{s}/\"\n",
    "    r = session.get(url)\n",
    "#     bk = r.html.find(\"body > div.container > div.row.body-content > div.col-md-8 > div:nth-child(5)\")[0].text\n",
    "#     bk = bk.split(\"\\n\")\n",
    "    poem_name = r.html.find(\"body > div.container > div.row.body-content > div.col-md-8 > div:nth-child(5) > h1\")[0].text\n",
    "    poet = r.html.find(\"body > div.container > div.row.body-content > div.col-md-8 > div:nth-child(5) > div.author-name\")[0].text\n",
    "    poem = r.html.find(\"body > div.container > div.row.body-content > div.col-md-8 > div:nth-child(5) > div.post-content.noselect\")[0].text\n",
    "    poem = poem.split(\"\\n\")\n",
    "#     ?poem = poem[:-2]\n",
    "    written_time = poem[-2]\n",
    "    time = written_time[10::1]\n",
    "    book_name = poem[-1]\n",
    "    book = book_name[5::1]\n",
    "    with open(f\"E:/DS - IIUC/Python/classes/second class scraping/hellal hafez/{s}.txt\",\"w\",encoding=\"utf-8\") as f:\n",
    "        f.write(\"poem_name    poet    poem    written_time    book_name\\n\")\n",
    "       ## for pn,pt,p,wt,bn in zip(poem_name,poet,poem,written_time,book_name):\n",
    "        f.write(f\"{poem_name}///////{poet}////////{poem}//////{time}///////{book}\")\n",
    "        f.write(\"\\n\")\n",
    "        \n"
   ]
  },
  {
   "cell_type": "code",
   "execution_count": null,
   "id": "f7ac2d5b",
   "metadata": {},
   "outputs": [],
   "source": [
    "poem = [\"ognyutshob\",\"onyorokom-songshar\",\"khal\"]\n",
    "for i in range(len(poem)):\n",
    "    fun(poem[i])"
   ]
  },
  {
   "cell_type": "markdown",
   "id": "37a425a0",
   "metadata": {},
   "source": [
    "### Hallel hafez poem"
   ]
  },
  {
   "cell_type": "code",
   "execution_count": null,
   "id": "168a3d9e",
   "metadata": {},
   "outputs": [],
   "source": [
    "from requests_html import HTMLSession"
   ]
  },
  {
   "cell_type": "code",
   "execution_count": null,
   "id": "6f42508b",
   "metadata": {},
   "outputs": [],
   "source": [
    "session = HTMLSession()"
   ]
  },
  {
   "cell_type": "code",
   "execution_count": null,
   "id": "9fdb15de",
   "metadata": {},
   "outputs": [],
   "source": [
    "url = \"https://www.bangla-kobita.com/helalhafiz/ognyutshob/\""
   ]
  },
  {
   "cell_type": "code",
   "execution_count": null,
   "id": "9083adfb",
   "metadata": {},
   "outputs": [],
   "source": [
    "r = session.get(url)\n",
    "r"
   ]
  },
  {
   "cell_type": "code",
   "execution_count": null,
   "id": "dc9406c7",
   "metadata": {},
   "outputs": [],
   "source": [
    "def fun(s):\n",
    "    session = HTMLSession()\n",
    "    url = f\"https://www.bangla-kobita.com/helalhafiz/{s}/\"\n",
    "    r = session.get(url)\n",
    "#     bk = r.html.find(\"body > div.container > div.row.body-content > div.col-md-8 > div:nth-child(5)\")[0].text\n",
    "#     bk = bk.split(\"\\n\")\n",
    "    poem_name = r.html.find(\"body > div.container > div.row.body-content > div.col-md-8 > div:nth-child(5) > h1\")[0].text\n",
    "    poet = r.html.find(\"body > div.container > div.row.body-content > div.col-md-8 > div:nth-child(5) > div.author-name\")[0].text\n",
    "    poem = r.html.find(\"body > div.container > div.row.body-content > div.col-md-8 > div:nth-child(5) > div.post-content.noselect\")[0].text\n",
    "    poem = poem.split(\"\\n\")\n",
    "    details = r.html.find(\"body > div.container > div.row.body-content > div.col-md-8 > div:nth-child(5) > div.post-summary\")[0].text\n",
    "    with open(f\"E:/DS - IIUC/Python/classes/second class scraping/hellal hafez/{s}.txt\",\"w\",encoding=\"utf-8\") as f:\n",
    "        f.write(\"কবিতার নাম    কবি    কবিতা    লিখার সময়    কাব্যগ্রন্থ\\n\")\n",
    "       ## for pn,pt,p,wt,bn in zip(poem_name,poet,poem,written_time,book_name):\n",
    "        f.write(f\"{poem_name} \\n {poet} \\n {poem} \\n {details}\")\n",
    "        f.write(\"\\n\")\n",
    "        "
   ]
  },
  {
   "cell_type": "code",
   "execution_count": null,
   "id": "54fc0ccc",
   "metadata": {},
   "outputs": [],
   "source": [
    "poem = [\"ognyutshob\",\"onyorokom-songshar\",\"khal\",\"ocol-premer-podya\",\"post20161126125546\",\"post20161126114827\",\"post20161126115113\",\"post20161126114040\"]\n",
    "for i in range(len(poem)):\n",
    "    fun(poem[i])"
   ]
  },
  {
   "cell_type": "code",
   "execution_count": null,
   "id": "e74e2bdb",
   "metadata": {},
   "outputs": [],
   "source": []
  }
 ],
 "metadata": {
  "kernelspec": {
   "display_name": "Python 3",
   "language": "python",
   "name": "python3"
  },
  "language_info": {
   "codemirror_mode": {
    "name": "ipython",
    "version": 3
   },
   "file_extension": ".py",
   "mimetype": "text/x-python",
   "name": "python",
   "nbconvert_exporter": "python",
   "pygments_lexer": "ipython3",
   "version": "3.8.8"
  }
 },
 "nbformat": 4,
 "nbformat_minor": 5
}
