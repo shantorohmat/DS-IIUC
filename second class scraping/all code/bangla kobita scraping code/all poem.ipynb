{
 "cells": [
  {
   "cell_type": "code",
   "execution_count": 1,
   "id": "597f6b0f",
   "metadata": {},
   "outputs": [
    {
     "name": "stdout",
     "output_type": "stream",
     "text": [
      "Requirement already satisfied: requests_html in c:\\users\\hp\\anaconda3\\lib\\site-packages (0.10.0)\n",
      "Requirement already satisfied: bs4 in c:\\users\\hp\\anaconda3\\lib\\site-packages (from requests_html) (0.0.1)\n",
      "Requirement already satisfied: pyppeteer>=0.0.14 in c:\\users\\hp\\anaconda3\\lib\\site-packages (from requests_html) (1.0.2)\n",
      "Requirement already satisfied: parse in c:\\users\\hp\\anaconda3\\lib\\site-packages (from requests_html) (1.19.0)\n",
      "Requirement already satisfied: requests in c:\\users\\hp\\anaconda3\\lib\\site-packages (from requests_html) (2.25.1)\n",
      "Requirement already satisfied: pyquery in c:\\users\\hp\\anaconda3\\lib\\site-packages (from requests_html) (1.4.3)\n",
      "Requirement already satisfied: fake-useragent in c:\\users\\hp\\anaconda3\\lib\\site-packages (from requests_html) (0.1.11)\n",
      "Requirement already satisfied: w3lib in c:\\users\\hp\\anaconda3\\lib\\site-packages (from requests_html) (2.0.1)\n",
      "Requirement already satisfied: importlib-metadata>=1.4 in c:\\users\\hp\\anaconda3\\lib\\site-packages (from pyppeteer>=0.0.14->requests_html) (4.10.1)\n",
      "Requirement already satisfied: certifi>=2021 in c:\\users\\hp\\anaconda3\\lib\\site-packages (from pyppeteer>=0.0.14->requests_html) (2022.6.15)\n",
      "Requirement already satisfied: appdirs<2.0.0,>=1.4.3 in c:\\users\\hp\\anaconda3\\lib\\site-packages (from pyppeteer>=0.0.14->requests_html) (1.4.4)\n",
      "Requirement already satisfied: urllib3<2.0.0,>=1.25.8 in c:\\users\\hp\\anaconda3\\lib\\site-packages (from pyppeteer>=0.0.14->requests_html) (1.26.4)\n",
      "Requirement already satisfied: pyee<9.0.0,>=8.1.0 in c:\\users\\hp\\anaconda3\\lib\\site-packages (from pyppeteer>=0.0.14->requests_html) (8.2.2)\n",
      "Requirement already satisfied: tqdm<5.0.0,>=4.42.1 in c:\\users\\hp\\anaconda3\\lib\\site-packages (from pyppeteer>=0.0.14->requests_html) (4.59.0)\n",
      "Requirement already satisfied: websockets<11.0,>=10.0 in c:\\users\\hp\\anaconda3\\lib\\site-packages (from pyppeteer>=0.0.14->requests_html) (10.3)\n",
      "Requirement already satisfied: zipp>=0.5 in c:\\users\\hp\\anaconda3\\lib\\site-packages (from importlib-metadata>=1.4->pyppeteer>=0.0.14->requests_html) (3.4.1)\n",
      "Requirement already satisfied: beautifulsoup4 in c:\\users\\hp\\anaconda3\\lib\\site-packages (from bs4->requests_html) (4.9.3)\n",
      "Requirement already satisfied: soupsieve>1.2 in c:\\users\\hp\\anaconda3\\lib\\site-packages (from beautifulsoup4->bs4->requests_html) (2.2.1)\n",
      "Requirement already satisfied: cssselect>0.7.9 in c:\\users\\hp\\anaconda3\\lib\\site-packages (from pyquery->requests_html) (1.1.0)\n",
      "Requirement already satisfied: lxml>=2.1 in c:\\users\\hp\\anaconda3\\lib\\site-packages (from pyquery->requests_html) (4.6.1)\n",
      "Requirement already satisfied: idna<3,>=2.5 in c:\\users\\hp\\anaconda3\\lib\\site-packages (from requests->requests_html) (2.10)\n",
      "Requirement already satisfied: chardet<5,>=3.0.2 in c:\\users\\hp\\anaconda3\\lib\\site-packages (from requests->requests_html) (3.0.4)\n"
     ]
    }
   ],
   "source": [
    "!pip install requests_html"
   ]
  },
  {
   "cell_type": "code",
   "execution_count": 2,
   "id": "5ed74a4f",
   "metadata": {},
   "outputs": [],
   "source": [
    "from requests_html import HTMLSession"
   ]
  },
  {
   "cell_type": "code",
   "execution_count": 3,
   "id": "3c4ebac4",
   "metadata": {},
   "outputs": [],
   "source": [
    "session = HTMLSession()"
   ]
  },
  {
   "cell_type": "code",
   "execution_count": 4,
   "id": "4b7a8aa4",
   "metadata": {},
   "outputs": [],
   "source": [
    "url = \"https://www.bangla-kobita.com/helalhafiz/ognyutshob/\""
   ]
  },
  {
   "cell_type": "code",
   "execution_count": 5,
   "id": "cf78c7c1",
   "metadata": {},
   "outputs": [
    {
     "data": {
      "text/plain": [
       "<Response [200]>"
      ]
     },
     "execution_count": 5,
     "metadata": {},
     "output_type": "execute_result"
    }
   ],
   "source": [
    "r = session.get(url)\n",
    "r"
   ]
  },
  {
   "cell_type": "code",
   "execution_count": 6,
   "id": "1f057b5f",
   "metadata": {},
   "outputs": [],
   "source": [
    "def fun(s):\n",
    "    session = HTMLSession()\n",
    "    url = f\"https://www.bangla-kobita.com/helalhafiz/{s}/\"\n",
    "    r = session.get(url)\n",
    "#     bk = r.html.find(\"body > div.container > div.row.body-content > div.col-md-8 > div:nth-child(5)\")[0].text\n",
    "#     bk = bk.split(\"\\n\")\n",
    "    poem_name = r.html.find(\"body > div.container > div.row.body-content > div.col-md-8 > div:nth-child(5) > h1\")[0].text\n",
    "    poet = r.html.find(\"body > div.container > div.row.body-content > div.col-md-8 > div:nth-child(5) > div.author-name\")[0].text\n",
    "    poem = r.html.find(\"body > div.container > div.row.body-content > div.col-md-8 > div:nth-child(5) > div.post-content.noselect\")[0].text\n",
    "    poem = poem.split(\"\\n\")\n",
    "    details = r.html.find(\"body > div.container > div.row.body-content > div.col-md-8 > div:nth-child(5) > div.post-summary\")[0].text\n",
    "    with open(f\"E:/DS - IIUC/Python/classes/second class scraping/Poem/hellal hafez/{s}.txt\",\"w\",encoding=\"utf-8\") as f:\n",
    "        f.write(\"কবিতার নাম    কবি    কবিতা    লিখার সময়    কাব্যগ্রন্থ\\n\")\n",
    "       ## for pn,pt,p,wt,bn in zip(poem_name,poet,poem,written_time,book_name):\n",
    "        f.write(f\"{poem_name} \\n {poet} \\n {poem} \\n {details}\")\n",
    "        f.write(\"\\n\")\n",
    "        "
   ]
  },
  {
   "cell_type": "code",
   "execution_count": 7,
   "id": "8f7a7067",
   "metadata": {},
   "outputs": [],
   "source": [
    "poem = [\"ognyutshob\",\"onyorokom-songshar\",\"khal\",\"ocol-premer-podya\",\"post20161126125546\",\"post20161126114827\",\"post20161126115113\",\"post20161126114040\"]\n",
    "for i in range(len(poem)):\n",
    "    fun(poem[i])"
   ]
  },
  {
   "cell_type": "markdown",
   "id": "034e5e86",
   "metadata": {},
   "source": [
    "## Rudra Mohammad"
   ]
  },
  {
   "cell_type": "code",
   "execution_count": 9,
   "id": "bc476d1b",
   "metadata": {},
   "outputs": [],
   "source": [
    "from requests_html import HTMLSession"
   ]
  },
  {
   "cell_type": "code",
   "execution_count": 10,
   "id": "f3c7d883",
   "metadata": {},
   "outputs": [],
   "source": [
    "session = HTMLSession()"
   ]
  },
  {
   "cell_type": "code",
   "execution_count": 11,
   "id": "e974ae5a",
   "metadata": {},
   "outputs": [],
   "source": [
    "url = \"https://www.bangla-kobita.com/rudramohammad/ovimaner-kheya/\"\n"
   ]
  },
  {
   "cell_type": "code",
   "execution_count": 12,
   "id": "b1ddf535",
   "metadata": {},
   "outputs": [
    {
     "data": {
      "text/plain": [
       "<Response [200]>"
      ]
     },
     "execution_count": 12,
     "metadata": {},
     "output_type": "execute_result"
    }
   ],
   "source": [
    "r = session.get(url)\n",
    "r"
   ]
  },
  {
   "cell_type": "code",
   "execution_count": 13,
   "id": "a2c2f155",
   "metadata": {},
   "outputs": [],
   "source": [
    "def fun(s):\n",
    "    session = HTMLSession()\n",
    "    url = f\"https://www.bangla-kobita.com/rudramohammad/{s}/\"\n",
    "    r = session.get(url)\n",
    "#     bk = r.html.find(\"body > div.container > div.row.body-content > div.col-md-8 > div:nth-child(5)\")[0].text\n",
    "#     bk = bk.split(\"\\n\")\n",
    "    poem_name = r.html.find(\"body > div.container > div.row.body-content > div.col-md-8 > div:nth-child(5) > h1\")[0].text\n",
    "    poet = r.html.find(\"body > div.container > div.row.body-content > div.col-md-8 > div:nth-child(5) > div.author-name\")[0].text\n",
    "    poem = r.html.find(\"body > div.container > div.row.body-content > div.col-md-8 > div:nth-child(5) > div.post-content.noselect\")[0].text\n",
    "    poem = poem.split(\"\\n\")\n",
    "    details = r.html.find(\"body > div.container > div.row.body-content > div.col-md-8 > div:nth-child(5) > div.post-summary\")[0].text\n",
    "    with open(f\"E:/DS - IIUC/Python/classes/second class scraping/Poem/rudra mohammad/{s}.txt\",\"w\",encoding=\"utf-8\") as f:\n",
    "        f.write(\"কবিতার নাম    কবি    কবিতা    লিখার সময়    কাব্যগ্রন্থ\\n\")\n",
    "       ## for pn,pt,p,wt,bn in zip(poem_name,poet,poem,written_time,book_name):\n",
    "        f.write(f\"{poem_name} \\n {poet} \\n {poem} \\n {details}\")\n",
    "        f.write(\"\\n\")\n",
    "        "
   ]
  },
  {
   "cell_type": "code",
   "execution_count": 14,
   "id": "48b123d1",
   "metadata": {},
   "outputs": [],
   "source": [
    "poem = [\"ovimaner-kheya\"]\n",
    "for i in range(len(poem)):\n",
    "    fun(poem[i])"
   ]
  },
  {
   "cell_type": "code",
   "execution_count": 17,
   "id": "002f4bf5",
   "metadata": {},
   "outputs": [],
   "source": [
    "session = HTMLSession()"
   ]
  },
  {
   "cell_type": "code",
   "execution_count": 18,
   "id": "ea64bb49",
   "metadata": {},
   "outputs": [],
   "source": [
    "url = \"https://www.bangla-kobita.com/helalhafiz/ognyutshob/\""
   ]
  },
  {
   "cell_type": "code",
   "execution_count": 19,
   "id": "6baf1763",
   "metadata": {},
   "outputs": [
    {
     "data": {
      "text/plain": [
       "<Response [200]>"
      ]
     },
     "execution_count": 19,
     "metadata": {},
     "output_type": "execute_result"
    }
   ],
   "source": [
    "r = session.get(url)\n",
    "r"
   ]
  },
  {
   "cell_type": "code",
   "execution_count": 115,
   "id": "b6363f2f",
   "metadata": {},
   "outputs": [],
   "source": [
    "def fun(s):\n",
    "    session = HTMLSession()\n",
    "    url = f\"https://www.bangla-kobita.com/helalhafiz/{s}/\"\n",
    "    r = session.get(url)\n",
    "#     bk = r.html.find(\"body > div.container > div.row.body-content > div.col-md-8 > div:nth-child(5)\")[0].text\n",
    "#     bk = bk.split(\"\\n\")\n",
    "    poem_name = r.html.find(\"body > div.container > div.row.body-content > div.col-md-8 > div:nth-child(5) > h1\")[0].text\n",
    "    poet = r.html.find(\"body > div.container > div.row.body-content > div.col-md-8 > div:nth-child(5) > div.author-name\")[0].text\n",
    "    poem = r.html.find(\"body > div.container > div.row.body-content > div.col-md-8 > div:nth-child(5) > div.post-content.noselect\")[0].text\n",
    "    poem = poem.split(\"\\n\")\n",
    "    poem += \"s\"\n",
    "    details = r.html.find(\"body > div.container > div.row.body-content > div.col-md-8 > div:nth-child(5) > div.post-summary\")[0].text\n",
    "    with open(f\"E:/DS - IIUC/Python/classes/second class scraping/Poem/hellal hafez/{s}.txt\",\"w\",encoding=\"utf-8\") as f:\n",
    "#         f.write(\"কবিতার নাম    কবি    কবিতা    লিখার সময়    কাব্যগ্রন্থ\\n\")\n",
    "       ## for pn,pt,p,wt,bn in zip(poem_name,poet,poem,written_time,book_name):\n",
    "#         f.write(f\"{poem_name} \\n {poet} \\n {poem} \\n {details}\")\n",
    "#         f.write(\"\\n\")\n",
    "        f.write(f\"{poem_name} \\n {poet} \\n\")\n",
    "        for i in range(300):\n",
    "            if(poem[i]==\"s\"):\n",
    "                break\n",
    "            f.write(poem[i])\n",
    "            f.write(\"\\n\")\n",
    "                \n",
    "        f.write(f\"\\n {details}\")\n",
    "        f.write(\"\\n\")"
   ]
  },
  {
   "cell_type": "code",
   "execution_count": 116,
   "id": "4ccc239e",
   "metadata": {},
   "outputs": [],
   "source": [
    "poem = [\"ognyutshob\",\"onyorokom-songshar\",\"khal\",\"ocol-premer-podya\",\"post20161126125546\",\"post20161126114827\",\"post20161126115113\",\"post20161126114040\"]\n",
    "for i in range(len(poem)):\n",
    "    fun(poem[i])"
   ]
  },
  {
   "cell_type": "markdown",
   "id": "ebc353ec",
   "metadata": {},
   "source": [
    "## Rudra Mohammad"
   ]
  },
  {
   "cell_type": "code",
   "execution_count": 23,
   "id": "c48a2a53",
   "metadata": {},
   "outputs": [],
   "source": [
    "from requests_html import HTMLSession"
   ]
  },
  {
   "cell_type": "code",
   "execution_count": 24,
   "id": "fcba7159",
   "metadata": {},
   "outputs": [],
   "source": [
    "session = HTMLSession()"
   ]
  },
  {
   "cell_type": "code",
   "execution_count": 25,
   "id": "ab31662b",
   "metadata": {},
   "outputs": [],
   "source": [
    "url = \"https://www.bangla-kobita.com/rudramohammad/ovimaner-kheya/\"\n"
   ]
  },
  {
   "cell_type": "code",
   "execution_count": 26,
   "id": "4057e6b1",
   "metadata": {},
   "outputs": [
    {
     "data": {
      "text/plain": [
       "<Response [200]>"
      ]
     },
     "execution_count": 26,
     "metadata": {},
     "output_type": "execute_result"
    }
   ],
   "source": [
    "r = session.get(url)\n",
    "r"
   ]
  },
  {
   "cell_type": "code",
   "execution_count": 111,
   "id": "75454820",
   "metadata": {},
   "outputs": [],
   "source": [
    "def fun(s):\n",
    "    session = HTMLSession()\n",
    "    url = f\"https://www.bangla-kobita.com/rudramohammad/{s}/\"\n",
    "    r = session.get(url)\n",
    "#     bk = r.html.find(\"body > div.container > div.row.body-content > div.col-md-8 > div:nth-child(5)\")[0].text\n",
    "#     bk = bk.split(\"\\n\")\n",
    "    poem_name = r.html.find(\"body > div.container > div.row.body-content > div.col-md-8 > div:nth-child(5) > h1\")[0].text\n",
    "    poet = r.html.find(\"body > div.container > div.row.body-content > div.col-md-8 > div:nth-child(5) > div.author-name\")[0].text\n",
    "    poem = r.html.find(\"body > div.container > div.row.body-content > div.col-md-8 > div:nth-child(5) > div.post-content.noselect\")[0].text\n",
    "    poem = poem.split(\"\\n\")\n",
    "    poem +=\"s\"\n",
    "    details = r.html.find(\"body > div.container > div.row.body-content > div.col-md-8 > div:nth-child(5) > div.post-summary\")[0].text\n",
    "    with open(f\"E:/DS - IIUC/Python/classes/second class scraping/Poem/rudra mohammad/{s}.txt\",\"w\",encoding=\"utf-8\") as f:\n",
    "#         f.write(\"কবিতার নাম    কবি    কবিতা    লিখার সময়    কাব্যগ্রন্থ\\n\")\n",
    "       ## for pn,pt,p,wt,bn in zip(poem_name,poet,poem,written_time,book_name):\n",
    "        f.write(f\"{poem_name} \\n {poet} \\n\")\n",
    "        for i in range(300):\n",
    "            if(poem[i]==\"s\"):\n",
    "                break\n",
    "            f.write(poem[i])\n",
    "            f.write(\"\\n\")\n",
    "                \n",
    "        f.write(f\"\\n {details}\")\n",
    "        f.write(\"\\n\")\n",
    "        "
   ]
  },
  {
   "cell_type": "code",
   "execution_count": 112,
   "id": "deaf39fb",
   "metadata": {},
   "outputs": [],
   "source": [
    "poem = [\"ovimaner-kheya\",\"amar-vitor-bahire-ontore-ontore\",\"ami-sei-oviman\",\"iccher-dorojay\",\"istehar\"]\n",
    "for i in range(len(poem)):\n",
    "    fun(poem[i])"
   ]
  },
  {
   "cell_type": "code",
   "execution_count": null,
   "id": "cb01f7ac",
   "metadata": {},
   "outputs": [],
   "source": []
  },
  {
   "cell_type": "markdown",
   "id": "67013ca5",
   "metadata": {},
   "source": [
    "## shamsul haque"
   ]
  },
  {
   "cell_type": "code",
   "execution_count": 103,
   "id": "9c16fc79",
   "metadata": {
    "collapsed": true
   },
   "outputs": [
    {
     "name": "stdout",
     "output_type": "stream",
     "text": [
      "অভিমানের খেয়া\n",
      "\n",
      "\n",
      "- রুদ্র মুহম্মদ শহিদুল্লাহ\n",
      "এতোদিন কিছু একা থেকে শুধু খেলেছি একাই,\n",
      "পরাজিত প্রেম তনুর তিমিরে হেনেছে আঘাত\n",
      "পারিজাতহীন কঠিন পাথরে।\n",
      "\n",
      "\n",
      "প্রাপ্য পাইনি করাল দুপুরে,\n",
      "নির্মম ক্লেদে মাথা রেখে রাত কেটেছে প্রহর বেলা-\n",
      "এই খেলা আর কতোকাল আর কতোটা জীবন!\n",
      "কিছুটাতো চাই- হোক ভুল, হোক মিথ্যে প্রবোধ,\n",
      "অভিলাষী মন চন্দ্রে না-পাক জোস্নায় পাক সামান্য ঠাঁই,\n",
      "কিছুটাতো চাই, কিছুটাতো চাই।\n",
      "\n",
      "\n",
      "আরো কিছুদিন, আরো কিছুদিন- আর কতোদিন?\n",
      "ভাষাহীন তরু বিশ্বাসী ছায়া কতোটা বিলাবে?\n",
      "কতো আর এই রক্ত-তিলকে তপ্ত প্রনাম!\n",
      "জীবনের কাছে জন্ম কি তবে প্রতারনাময়?\n",
      "\n",
      "\n",
      "এতো ক্ষয়, এতো ভুল জ'মে ওঠে বুকের বুননে,\n",
      "এই আঁখি জানে, পাখিরাও জানে কতোটা ক্ষরন\n",
      "কতোটা দ্বিধায় সন্ত্রাসে ফুল ফোটে না শাখায়।\n",
      "\n",
      "\n",
      "তুমি জানো নাই- আমি তো জানি,\n",
      "কতোটা গ্লানিতে এতো কথা নিয়ে,\n",
      "এতো গান এতো হাসি নিয়ে বুকে\n",
      "নিশ্চুপ হয়ে থাকি।\n",
      "\n",
      "\n",
      "বেদনার পায়ে চুমু খেয়ে বলি এইতো জীবন,\n",
      "এইতো মাধুরী, এইতো অধর ছুঁয়েছে সুখের সুতনু সুনীল রাত।\n",
      "\n",
      "\n",
      "তুমি জানো নাই- আমি তো জানি।\n",
      "মাটি খুঁড়ে কারা শস্য তুলেছে,\n",
      "মাংশের ঘরে আগুন পুষেছে,\n",
      "যারা কোনোদিন আকাশ চায়নি নীলিমা চেয়েছে শুধু,\n",
      "করতলে তারা ধ'রে আছে আজ বিশ্বাসী হাতিয়ার।\n",
      "\n",
      "\n",
      "পরাজয় এসে কণ্ঠ ছুঁয়েছে লেলিহান শিখা,\n",
      "চিতার চাবুক মর্মে হেনেছো মোহন ঘতক।\n",
      "তবুতো পাওয়ার প্রত্যাশা নিয়ে মুখর হুদয়,\n",
      "পুষ্পের প্রতি প্রসারিত এই তীব্র শোভন বাহু।\n",
      "\n",
      "\n",
      "বৈশাখি মেঘ ঢেকেছে আকাশ,\n",
      "পালকের পাখি নীড়ে ফিরে যায\n",
      "ভাষাহীন এই নির্বাক চোখ আর কতোদিন?\n",
      "নীল অভিমানে পুড়ে একা আর কতোটা জীবন?\n",
      "কতোটা জীবন!!\n",
      "\n",
      "\n",
      "৩১/০৫/৭৬\n",
      "কাঁঠালবাগান, ঢাকা।\n",
      "আমার ভিতর বাহিরে অন্তরে অন্তরে (গীতি কবিতা)\n",
      "\n",
      "\n",
      "- রুদ্র মুহম্মদ শহিদুল্লাহ\n",
      "আমার ভিতর বাহিরে অন্তরে অন্তরে\n",
      "আছো তুমি হৃদয় জুড়ে।\n",
      "আমার ... ... ...।\n",
      "\n",
      "\n",
      "ঢেকে রাখে যেমন কুসুম,\n",
      "পাপড়ির আবডালে ফসলের ঘুম।\n",
      "তেম্নি তোমার নিবিড় চলা (২)\n",
      "মরমের মূল পথ ধরে।\n",
      "আমার ... ... ...।\n",
      "\n",
      "\n",
      "পুষে রাখে যেমন ঝিনুক,\n",
      "খোলসের আবরণে মুক্তোর সুখ।\n",
      "তেম্নি তোমার গভীর ছোঁয়া (২)\n",
      "ভিতরের নীল বন্দরে।\n",
      "আমার ... ... ...।\n",
      "\n",
      "\n",
      "ভালো আছি, ভালো থেকো,\n",
      "আকাশের ঠিকানায় চিঠি লিখ।\n",
      "দিও তোমার মালাখানি (২)\n",
      "বাউল এই মনটারে।\n",
      "আমার ... ... ...।\n",
      "\n",
      "\n",
      "২৮ জোষ্টি ১৩৯৬\n",
      "মিঠেখালি, মোংলা।\n",
      "আমি সেই অভিমান\n",
      "\n",
      "\n",
      "- রুদ্র মুহম্মদ শহিদুল্লাহ\n",
      "আমি সেই অবহেলা, আমি সেই নতমুখ,\n",
      "নিরবে ফিরে যাওয়া অভিমান-ভেজা চোখ,\n",
      "আমাকে গ্রহন করো।\n",
      "\n",
      "\n",
      "উৎসব থেকে ফিরে যাওয়া আমি সেই প্রত্যাখ্যান,\n",
      "আমি সেই অনিচ্ছা নির্বাসন বুকে নেয়া ঘােলাটে চাঁদ।\n",
      "আমাকে আর কি বেদনা দেখাবে?\n",
      "\n",
      "\n",
      "তপ্ত সীসার মতাে পুড়ে পুড়ে একদিন\n",
      "কঠিন হয়েছি শেষে, হয়েছি জমাট শিলা।\n",
      "তবু সেই পাথরের অন্তর থেকে\n",
      "কেঁদে ওঠে একরাশ জলের আকুতি,\n",
      "ঝর্নার মতাে তারা নেমে যেতে চায় কিছু মাটির শরীরে-\n",
      "\n",
      "\n",
      "আমি সেই নতমুখ, পাথরের নিচের করুন বেদনার জল,\n",
      "আমি সেই অভিমান- আমাকে গ্রহন করো্॥\n",
      "\n",
      "\n",
      "১১/০১/১৯৭৭\n",
      "মিঠেখালি, মোংলা।\n",
      "ইচ্ছের দরোজায়\n",
      "\n",
      "\n",
      "- রুদ্র মুহম্মদ শহিদুল্লাহ\n",
      "সব কথা হয়ে গেলে শেষ\n",
      "শব্দের প্লাবনে একা জেগে রবো নির্জন ঢেউ,\n",
      "ভেসে ভেসে জড়াবো নিজেকে।\n",
      "শরীরের সকল নগ্নতায় আমি খেলা কোরে যাবো,\n",
      "তীর ভেবে ভেঙে পড়বো আমার যৌবনে।\n",
      "\n",
      "\n",
      "কথা কি শেষ হয়ে যায়- সব কথা?\n",
      "নাকি বুকের ভেতরে সব অসমাপ্ত ইচ্ছের মতো\n",
      "দ্বিধাগ্রস্ত জেগে থাকে বুকে নিয়ে বিনিদ্র রাত,\n",
      "জেগে জেগে নিজেকে দ্যাখে ভীষন উৎসাহে?\n",
      "\n",
      "\n",
      "সব কথা শেষ হলে দরোজায় করাঘাত রেখে যাবো,\n",
      "উৎকন্ঠার ধ্বনিরা বিলিন হবে ইথারের স্বাস্থ্যে-\n",
      "দ্যাখা হবে না।\n",
      "\n",
      "\n",
      "শিথানের জানালা খুলে রেখে যাবো একটি চোখ,\n",
      "শিশির চুমু খাবে চোখের উত্তাপে- চুমু খাবে।\n",
      "জানালায় রেখে যাবো একটি বিনিদ্র চোখ,\n",
      "যে-চোখ আকাশ দ্যাখে, মানুষের স্বভাব দ্যাখে,\n",
      "যে-চোখ স্বাতির মগ্নতা দেখে প্রেমাদ্র বুকে\n",
      "অনুভব জ্বেলে রাখে অশেষ বাসনা।\n",
      "\n",
      "\n",
      "সব কথা শেষ হলে ফিরে যাবো,\n",
      "একটি চোখ রেখে যাবো শিথানের জানালায়।\n",
      "সব কথা শেষ হলে করাঘাত জাগাবে তোমায়,\n",
      "তুমি এসে খুলবে দুয়োর- দ্যাখা হবে না।।\n",
      "\n",
      "\n",
      "১৭/০৩/১৯৭৫\n",
      "লালবাগ, ঢাকা।\n",
      "ইশতেহার\n",
      "\n",
      "\n",
      "- রুদ্র মুহম্মদ শহিদুল্লাহ\n",
      "পৃথিবীতে মানুষ তখনো ব্যক্তিস্বার্থে ভাগ হয়ে যায়নি।\n",
      "ভূমির কোনো মালিকানা হয়নি তখনো।\n",
      "তখনো মানুষ শুধু পৃথিবীর সন্তান।\n",
      "\n",
      "অরন্য আর মরুভূমির\n",
      "সমুদ্র আর পাহাড়ের ভাষা তখন আমরা জানি।\n",
      "আমরা ভূমিকে কর্ষন কোরে শস্য জন্মাতে শিখেছি।\n",
      "আমরা বিশল্যকরনীর চিকিৎসা জানি।\n",
      "আমরা শীত আর উত্তাপে সহনশীল\n",
      "ত্বক তৈরি করেছি আমাদের শরীরে।\n",
      "আমরা তখন সোমরস, নৃত্য আর\n",
      "শরীরের পবিত্র উৎসব শিখেছি ।\n",
      "\n",
      "আমাদের নারীরা জমিনে শস্য ফলায়\n",
      "আর আমাদের পুরুষেরা শিকার করে ঘাই হরিন।\n",
      "আমরা সবাই মিলে খাই আর পান করি ।\n",
      "জ্বলন্ত আগুনকে ঘিরে সবাই আমরা নাচি\n",
      "আর প্রশংসা করি পৃথিবীর ।\n",
      "আমরা আমাদের বিশ্বাস আর সুন্দরগুলোকে বন্দনা করি।\n",
      "\n",
      "পৃথিবীর পূর্নিমা রাতের ঝলোমলো জোস্নায়\n",
      "পৃথিবীর নারী আর পুরুষেরা\n",
      "পাহাড়ের সবুজ অরন্যে এসে শরীরের উৎসব করে।\n",
      "\n",
      "তখন কী আনন্দরঞ্জিত আমাদের বিশ্বাস।\n",
      "তখন কী শ্রমমুখর আমাদের দিনমান।\n",
      "তখন কী গৌরবময় আমাদের মৃত্যু।\n",
      "\n",
      "\n",
      "তারপর –\n",
      "কৌমজীবন ভেঙে আমরা গড়লাম সামন্ত সমাজ।\n",
      "বন্যপ্রানীর বিরুদ্ধে ব্যবহারযোগ্য অস্ত্রগুলো\n",
      "আমরা ব্যবহার করলাম আমাদের নিজের বিরুদ্ধে।\n",
      "আমাদের কেউ কেউ শ্রমহীনতায় প্রশান্তি খুঁজে পেতে চাইলো ।\n",
      "দুর্বল মানুষেরা হয়ে উঠলো আমাদের সেবার সামগ্রী।\n",
      "আমাদের কারো কারো তর্জনী জীবন ও মৃত্যুর নির্ধারক হলো।\n",
      "\n",
      "ভারী জিনিস টানার জন্যে আমরা যে চাকা তৈরি করেছিলাম\n",
      "তাকে ব্যবহার করলাম আমাদের পায়ের পেশীর আরামের জন্যে।\n",
      "আমাদের বন্য অস্ত্র সভ্যতার নামে\n",
      "গ্রাস করে চললো মানুষের জীবন ও জনপদ ।\n",
      "\n",
      "আমরা আমাদের চোখকে সুদূরপ্রসারী করার জন্যে দূরবীন\n",
      "আর সূক্ষ্ নিরীক্ষনের জন্যে অনুবীক্ষন তৈরি করলাম।\n",
      "আমাদের বাহুর বিকল্প হলো ভারি অস্ত্র আর কারখানা।\n",
      "আমাদের পায়ের গতি বর্ধন করলো উড়ন্ত বিমান।\n",
      "\n",
      "আমাদের কন্ঠস্বর বর্ধিত হলো,\n",
      "আমাদের ভাষা ও বক্তব্য গ্রন্থিত হলো,\n",
      "আমরা রচনা করলাম আমাদের অগ্রযাত্রার ইতিহাস।\n",
      "আমাদের মস্তিষ্ককে আরো নিখুঁত ও ব্যপক করার জন্যে\n",
      "আমরা তৈরি করলাম কম্পিউটর ।\n",
      "\n",
      "আমাদের নির্মিত যন্ত্র শৃঙ্খলিত করলো আমাদের\n",
      "আমাদের নির্মিত নগর আবদ্ধ করলো আমাদের\n",
      "আমাদের পুঁজি ও ক্ষমতা অবরুদ্ধ করলো আমাদের\n",
      "আমাদের নভোযান উৎকেন্দ্রিক করলো আমাদের।\n",
      "\n",
      "অস্তিত্ব রক্ষার নামে আমরা তৈরী করলাম মারনাস্ত্র।\n",
      "জীবনরক্ষার নামে আমরা তৈরি করলাম\n",
      "জীবনবিনাশী হাতিয়ার।\n",
      "আমরা তৈরি করলাম পৃথিবী নির্মূল-সক্ষম পারমানবিক বোমা।\n",
      "\n",
      "একটার পর একটা খাঁচা নির্মান করেছি আমরা।\n",
      "আবার সে-খাঁচা ভেঙে নোতুন খাঁচা বানিয়েছি।\n",
      "আবার খাঁচা ভেঙেছি, আবার খাঁচা বানিয়েছি-\n",
      "খাঁচার পর খাঁচায় আটকা পড়তে পড়তে\n",
      "খাঁচার আঘাতে ভাঙতে ভাঙতে, টুকরো টুকরো হয়ে\n",
      "আজ আমরা একা হয়ে গেছি।\n",
      "প্রত্যেকে একা হয়ে গেছি।\n",
      "\n",
      "\n",
      "কী ভয়ংকর এই একাকীত্ব!\n",
      "কী নির্মম এই বান্ধবহীনতা!\n",
      "কী বেদনাময় এই বিশ্বাসহীনতা!\n",
      "\n",
      "এই সৌরমন্ডলের\n",
      "এই পৃথিবীর এক কীর্তনখোলা নদীর পাড়ে\n",
      "যে-শিশুর জন্ম।\n",
      "দিগন্তবিস্তৃত মাঠে ছুটে বেড়ানোর অদম্য স্বপ্ন\n",
      "যে-কিশোরের।\n",
      "জোস্না যাকে প্লাবিত করে।\n",
      "বনভূমি যাকে দুর্বিনীত করে।\n",
      "নদীর জোয়ার যাকে ডাকে নশার ডাকের মতো।\n",
      "\n",
      "\n",
      "অথচ যার ঘাড়ে চাপিয়ে দেয়া হয়েছে ঔপনিবেশিক জোয়াল\n",
      "গোলাম বানানোর শিক্ষাযন্ত্র ।\n",
      "অথচ যার ঘাড়ে চাপিয়ে দেয়া হয়েছে\n",
      "এক হৃদয়হীন ধর্মের আচার।\n",
      "অথচ যাকে শৃঙ্খলিত করা হয়েছে স্বপ্নহীন সংস্কারে ।\n",
      "\n",
      "যে-তরুন উনসত্তরের অন্দোলনে ঝাঁপিয়ে পড়েছে।\n",
      "যে-তরুন অস্ত্র হাতে স্বাধীনতাযুদ্ধে গিয়েছে।\n",
      "যে-তরুনের বিশ্বাস, স্বপ্ন, সাধ,\n",
      "স্বাধীনতা-উত্তরকালে ভেঙে খান খান হয়েছে।\n",
      "অন্তবে রক্তাক্ত যে-তরুন নিরুপায় দেখেছে নৈরাজ্য,\n",
      "প্রতারনা আর নির্মমতাকে।\n",
      "দুর্ভিক্ষ আর দুঃশাসন যার নির্ভৃত বাসনাগুলো\n",
      "দুমড়ে মুচড়ে তছনছ করেছে।\n",
      "\n",
      "\n",
      "যে-যুবক দেখেছে এক অদৃশ্য হাতের খেলা।\n",
      "দেখেছে অদৃশ্য এক কালোহাত।\n",
      "যে-যুবক মিছিলে নেমেছে।\n",
      "বুলেটের সামনে দাঁড়িয়েছে\n",
      "আকন্ঠ মদের নেশায় চুর হয়ে থেকেছে\n",
      "অনাহারে উড়নচন্ডি ঘুরেছে\n",
      "যে-যুবক ভয়ানক অনিশ্চয়তা আর বাজির মুখে\n",
      "ছুঁড়ে দিয়েছে নিজেকে।\n",
      "\n",
      "\n",
      "যে-পুরুষ এক শ্যমল নারীর সাথে জীবন বিনিময় করেছে।\n",
      "যে-পুরুষ ক্ষুধা, মৃত্যু আর বেদনার সাথে লড়ছে এখনো,\n",
      "লড়ছে বৈষম্য আর শ্রেনীর বিরুদ্ধে–\n",
      "সে আমি।\n",
      "\n",
      "আমি একা ।\n",
      "এই ব্রহ্মান্ডের ভেতর একটি বিন্দুর মতো আমি একা।\n",
      "আমার অন্তর রক্তাক্ত।\n",
      "আমার মস্তিষ্ক জর্জরিত।\n",
      "আমার স্বপ্ন নিয়ন্ত্রিত।\n",
      "আমার শবীর লাবন্যহীন।\n",
      "আমার জীভ কাটা।\n",
      "তবু এক নোতুন পৃথিবীর স্বপ্ন আমাকে কাতর করে,\n",
      "আমাকে তড়ায়…\n",
      "\n",
      "আমাদের কৃষকেরা\n",
      "শূন্য পাকস্থলি আর বুকের ক্ষয়কাশ নিয়ে মাঠে যায়।\n",
      "আমাদের নারীরা ক্ষুধায় পীড়িত, হাড্ডিসার।\n",
      "আমাদের শ্রমিকেরা স্বাস্থহীন।\n",
      "আমাদের শিশুরা অপুষ্ট, বীভৎস-করুন।\n",
      "আমাদের অধিকাংশ মানুষ ক্ষুধা, অকালমৃত্যু আর\n",
      "দীর্ঘশ্বাসের সমুদ্রে ডুবে আছে ।\n",
      "\n",
      "পৃথিবীর যুদ্ধবাজ লোকদের জটিল পরিচালনায়\n",
      "ষড়যন্ত্রে আর নির্মমতায়,\n",
      "আমরা এক ভয়াবহ অনিশ্চয়তা\n",
      "আর চরম অসহায়ত্বের আবর্তে আটকে পড়েছি।\n",
      "কী বেদনাময় এই অনিশ্চয়তা!\n",
      "কী বিভৎস এই ভালোবাসাহীনতা!\n",
      "কী নির্মম এই স্বপ্নহীনতা!\n",
      "\n",
      "আজ আমরা আবার সেই\n",
      "বিশ্বাস আর আনন্দকে ফিরে পেতে চাই।\n",
      "আজ আমরা আবার সেই\n",
      "সাহস আর সরলতাকে ফিরে পেতে চাই।\n",
      "আজ আমরা আবার সেই\n",
      "শ্রম আর উৎসবকে ফিরে পেতে চাই।\n",
      "আজ আমরা আবার সেই\n",
      "ভালোবাসা আর প্রশান্তিকে ফিরে পেতে চাই।\n",
      "আজ আমরা আবার সেই\n",
      "স্বাস্থ্য আর শরীরের লাবন্যকে ফিরে পেতে চাই।\n",
      "আজ আমরা আবার সেই\n",
      "কান্নাহীন আর দীর্ঘশ্বাসহীন জীবনের কাছে যেতে চাই।\n",
      "আর আমরা শোষন আর শঠতা\n",
      "অকালমৃত্যু আর ক্ষুধার যন্ত্রনা থেকে মুক্তি পেতে চাই ।\n",
      "\n",
      "আমাদের সমৃদ্ধ এই বিজ্ঞান নিয়ে\n",
      "আমাদের অভিজ্ঞতাময় এই শিল্পসম্ভার নিয়ে\n",
      "আমাদের দূরলক্ষ্য আর সুক্ষ্ম বীক্ষন নিয়ে\n",
      "আমাদের দ্বন্ধময় বেগবান দর্শন নিয়ে\n",
      "আমরা ফিরে যাবো আমাদের বিশ্বাসের পৃথিবীতে,\n",
      "আমাদের শ্রম, উৎসব, আনন্দ আর প্রশান্তির পৃথিবীতে।\n",
      "\n",
      "\n",
      "পরমানুর সঠিক ব্যবহার\n",
      "আমাদের শস্যের উৎপাদন প্রয়োজনতুল্য করে তুলবে।\n",
      "আমাদের কারখানাগুলো কখনোই হত্যার অস্ত্র তৈরি করবে না।\n",
      "আমাদের চিকিৎসাবিজ্ঞান নিরোগ করবে পৃথিবীকে।\n",
      "আমাদের মর্যদার ভিত্তি হবে মেধা, সাহস আর শ্রম।\n",
      "\n",
      "\n",
      "আমাদের পুরুষেরা সুলতানের ছবির পুরুষের মতো\n",
      "স্বাস্থ্যবান, কর্মঠ আর প্রচন্ড পৌরুষদীপ্ত হবে।\n",
      "আমাদের নারীরা হবে শ্রমবতী, লক্ষীমন্ত আর লাবন্যময়ী।\n",
      "আমাদের শিশুরা হবে পৃথিবীর সুন্দরতম সম্পদ।\n",
      "\n",
      "আমরা শস্য আর স্বাস্থ্যের, সুন্দর আর গৌরবের\n",
      "কবিতা লিখবো।\n",
      "আমরা গান গাইবো\n",
      "আমাদের বসন্ত আর বৃষ্টির বন্দনা কোরে।\n",
      "আমরা উৎসব করবো শস্যের।\n",
      "আমরা উৎসব করবো পূর্নিমার।\n",
      "আমরা উৎসবা করবো\n",
      "আমাদের গৌরবময় মৃত্যু আর বেগমান জীবনের ।\n",
      "\n",
      "কিন্তু –\n",
      "এই স্বপ্নের জীবনে যাবার পথ আটকে আছে\n",
      "সামান্য কিছু মানুষ ।\n",
      "অস্ত্র আর সেনা-ছাউনিগুলো তাদের দখলে ।\n",
      "সমাজ পরিচালনার নামে তারা এক ভয়ংকর কারাগার\n",
      "তৈরী করেছে আমাদের চারপাশে ।\n",
      "\n",
      "তারা ক্ষুধা দিয়ে আমাদের বন্দী করেছে।\n",
      "তারা বস্ত্রহীনতা দিয়ে আমাদের বন্দী করেছে।\n",
      "তারা গৃহহীনতা দিয়ে আমাদের বন্দী করেছে।\n",
      "তারা জুলুম দিয়ে আমাদের বন্দী করেছে।\n",
      "বুলেট দিয়ে বন্দী করেছে ।\n",
      "\n",
      "তারা সবচে' কম শ্রম দেয়\n",
      "আর সবচে বেশি সম্পদ ভোগ করে।\n",
      "তারা সবচে' ভালো খাদ্যগুলো খায়\n",
      "আর সবচে' দামি পোশাকগুলো পরে।\n",
      "তাদের পুরুষদের শরীর মেদে আবৃত, কদাকার।\n",
      "তাদের মেয়েদের মুখের ত্বক দেখা যায় না, প্রসাধনে ঢাকা।\n",
      "তারা আলস্য আর কর্মহীনতায় কাতর, কুৎসিত।\n",
      "\n",
      "তাদের ইর্ষা কুটিলতাময়।\n",
      "তাদের হিংসা পর্বতপ্রমান।\n",
      "তাদের নির্মমতা ক্ষমাহীন।\n",
      "তাদের জুলুম অশ্রুতপূর্ব।\n",
      "\n",
      "\n",
      "তারা আমাদের জীভ কেটে নিতে চায়।\n",
      "তারা আমাদের চোখ উপড়ে ফেলতে চায়।\n",
      "তারা আমাদের মেধা বিকৃত করতে চায়।\n",
      "তারা আমাদের শ্রবন বধির করে দিতে চায়।\n",
      "তারা আমাদের পেশীগুলো অকেজো করে দিতে চায়।\n",
      "আমাদের সন্তানদেরও তারা চায় গোলাম বানাতে।\n",
      "\n",
      "একদা অরন্যে\n",
      "যেভাবে অতিকায় বন্যপ্রানী হত্যা কোরে\n",
      "আমরা অরন্যজীবনে শান্তি ফিরিয়ে এনেছি,\n",
      "আজ এইসব অতিকায় কদাকার বন্যমানুষগুলো\n",
      "নির্মুল করে\n",
      "আমরা আবার সমতার পৃথিবী বানাবো।\n",
      "সম্পদ আর আনন্দের পৃথিবী বানাবো।\n",
      "শ্রম আর প্রশান্তির পৃথিবী বানাবো।\n",
      "\n",
      "\n",
      "১০/০৩/১৯৮৩\n",
      "মুহম্মদপুর, ঢাকা।\n"
     ]
    }
   ],
   "source": []
  },
  {
   "cell_type": "code",
   "execution_count": 23,
   "id": "713d2493",
   "metadata": {},
   "outputs": [],
   "source": [
    "from requests_html import HTMLSession"
   ]
  },
  {
   "cell_type": "code",
   "execution_count": 24,
   "id": "fa094790",
   "metadata": {},
   "outputs": [],
   "source": [
    "session = HTMLSession()"
   ]
  },
  {
   "cell_type": "code",
   "execution_count": 117,
   "id": "a3f7329c",
   "metadata": {},
   "outputs": [],
   "source": [
    "url = \"https://www.bangla-kobita.com/shamsulhaque/odvut-bol/\"\n"
   ]
  },
  {
   "cell_type": "code",
   "execution_count": 118,
   "id": "e4194548",
   "metadata": {},
   "outputs": [
    {
     "data": {
      "text/plain": [
       "<Response [200]>"
      ]
     },
     "execution_count": 118,
     "metadata": {},
     "output_type": "execute_result"
    }
   ],
   "source": [
    "r = session.get(url)\n",
    "r"
   ]
  },
  {
   "cell_type": "code",
   "execution_count": 119,
   "id": "89dc9114",
   "metadata": {},
   "outputs": [],
   "source": [
    "def fun(s):\n",
    "    session = HTMLSession()\n",
    "    url = f\"https://www.bangla-kobita.com/shamsulhaque/{s}/\"\n",
    "    r = session.get(url)\n",
    "#     bk = r.html.find(\"body > div.container > div.row.body-content > div.col-md-8 > div:nth-child(5)\")[0].text\n",
    "#     bk = bk.split(\"\\n\")\n",
    "    poem_name = r.html.find(\"body > div.container > div.row.body-content > div.col-md-8 > div:nth-child(5) > h1\")[0].text\n",
    "    poet = r.html.find(\"body > div.container > div.row.body-content > div.col-md-8 > div:nth-child(5) > div.author-name\")[0].text\n",
    "    poem = r.html.find(\"body > div.container > div.row.body-content > div.col-md-8 > div:nth-child(5) > div.post-content.noselect\")[0].text\n",
    "    poem = poem.split(\"\\n\")\n",
    "    poem +=\"s\"\n",
    "    details = r.html.find(\"body > div.container > div.row.body-content > div.col-md-8 > div:nth-child(5) > div.post-summary\")[0].text\n",
    "    with open(f\"E:/DS - IIUC/Python/classes/second class scraping/Poem/shamsul haque/{s}.txt\",\"w\",encoding=\"utf-8\") as f:\n",
    "#         f.write(\"কবিতার নাম    কবি    কবিতা    লিখার সময়    কাব্যগ্রন্থ\\n\")\n",
    "       ## for pn,pt,p,wt,bn in zip(poem_name,poet,poem,written_time,book_name):\n",
    "        f.write(f\"{poem_name} \\n {poet} \\n\")\n",
    "        for i in range(300):\n",
    "            if(poem[i]==\"s\"):\n",
    "                break\n",
    "            f.write(poem[i])\n",
    "            f.write(\"\\n\")\n",
    "                \n",
    "        f.write(f\"\\n {details}\")\n",
    "        f.write(\"\\n\")\n",
    "        "
   ]
  },
  {
   "cell_type": "code",
   "execution_count": 120,
   "id": "bb0d5652",
   "metadata": {},
   "outputs": [],
   "source": [
    "poem = [\"odvut-bol\",\"age-ebong-pore\",\"ami-ektukhani-darabo\",\"ekoda-ek-rajje\",\"ekhon-modhyoraat\",\"tumi-e-shudhu-tumi\"]\n",
    "for i in range(len(poem)):\n",
    "    fun(poem[i])"
   ]
  },
  {
   "cell_type": "code",
   "execution_count": null,
   "id": "274c23a9",
   "metadata": {},
   "outputs": [],
   "source": []
  },
  {
   "cell_type": "markdown",
   "id": "2e72b364",
   "metadata": {},
   "source": [
    "## sunil gangopadhyay"
   ]
  },
  {
   "cell_type": "code",
   "execution_count": 121,
   "id": "ea6c6010",
   "metadata": {},
   "outputs": [],
   "source": [
    "from requests_html import HTMLSession"
   ]
  },
  {
   "cell_type": "code",
   "execution_count": 122,
   "id": "cca2fb69",
   "metadata": {},
   "outputs": [],
   "source": [
    "session = HTMLSession()"
   ]
  },
  {
   "cell_type": "code",
   "execution_count": 123,
   "id": "0e9e8fec",
   "metadata": {},
   "outputs": [],
   "source": [
    "url = \"https://www.bangla-kobita.com/sunilgangopadhyay/\"\n"
   ]
  },
  {
   "cell_type": "code",
   "execution_count": 124,
   "id": "917d54ac",
   "metadata": {},
   "outputs": [
    {
     "data": {
      "text/plain": [
       "<Response [200]>"
      ]
     },
     "execution_count": 124,
     "metadata": {},
     "output_type": "execute_result"
    }
   ],
   "source": [
    "r = session.get(url)\n",
    "r"
   ]
  },
  {
   "cell_type": "code",
   "execution_count": 125,
   "id": "d877ea12",
   "metadata": {},
   "outputs": [],
   "source": [
    "def fun(s):\n",
    "    session = HTMLSession()\n",
    "    url = f\"https://www.bangla-kobita.com/sunilgangopadhyay/{s}/\"\n",
    "    r = session.get(url)\n",
    "#     bk = r.html.find(\"body > div.container > div.row.body-content > div.col-md-8 > div:nth-child(5)\")[0].text\n",
    "#     bk = bk.split(\"\\n\")\n",
    "    poem_name = r.html.find(\"body > div.container > div.row.body-content > div.col-md-8 > div:nth-child(5) > h1\")[0].text\n",
    "    poet = r.html.find(\"body > div.container > div.row.body-content > div.col-md-8 > div:nth-child(5) > div.author-name\")[0].text\n",
    "    poem = r.html.find(\"body > div.container > div.row.body-content > div.col-md-8 > div:nth-child(5) > div.post-content.noselect\")[0].text\n",
    "    poem = poem.split(\"\\n\")\n",
    "    poem +=\"s\"\n",
    "    details = r.html.find(\"body > div.container > div.row.body-content > div.col-md-8 > div:nth-child(5) > div.post-summary\")[0].text\n",
    "    with open(f\"E:/DS - IIUC/Python/classes/second class scraping/Poem/sunil gangopadhyay/{s}.txt\",\"w\",encoding=\"utf-8\") as f:\n",
    "#         f.write(\"কবিতার নাম    কবি    কবিতা    লিখার সময়    কাব্যগ্রন্থ\\n\")\n",
    "       ## for pn,pt,p,wt,bn in zip(poem_name,poet,poem,written_time,book_name):\n",
    "        f.write(f\"{poem_name} \\n {poet} \\n\")\n",
    "        for i in range(300):\n",
    "            if(poem[i]==\"s\"):\n",
    "                break\n",
    "            f.write(poem[i])\n",
    "            f.write(\"\\n\")\n",
    "                \n",
    "        f.write(f\"\\n {details}\")\n",
    "        f.write(\"\\n\")\n",
    "        "
   ]
  },
  {
   "cell_type": "code",
   "execution_count": 126,
   "id": "8d7573c5",
   "metadata": {},
   "outputs": [],
   "source": [
    "poem = [\"anarthak-noy\",\"onirdishto-nayeeka\",\"anno-lok\",\"aupekkha\",\"amar-koyekti-nijossya-shabda\",\"ekti-kotha\"]\n",
    "for i in range(len(poem)):\n",
    "    fun(poem[i])"
   ]
  },
  {
   "cell_type": "code",
   "execution_count": null,
   "id": "cc15544b",
   "metadata": {},
   "outputs": [],
   "source": []
  }
 ],
 "metadata": {
  "kernelspec": {
   "display_name": "Python 3",
   "language": "python",
   "name": "python3"
  },
  "language_info": {
   "codemirror_mode": {
    "name": "ipython",
    "version": 3
   },
   "file_extension": ".py",
   "mimetype": "text/x-python",
   "name": "python",
   "nbconvert_exporter": "python",
   "pygments_lexer": "ipython3",
   "version": "3.8.8"
  }
 },
 "nbformat": 4,
 "nbformat_minor": 5
}
