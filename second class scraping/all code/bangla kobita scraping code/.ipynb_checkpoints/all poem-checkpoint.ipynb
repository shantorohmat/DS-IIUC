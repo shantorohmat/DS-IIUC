{
 "cells": [
  {
   "cell_type": "code",
   "execution_count": 1,
   "id": "82240a8a",
   "metadata": {
    "scrolled": true
   },
   "outputs": [
    {
     "name": "stdout",
     "output_type": "stream",
     "text": [
      "^C\n"
     ]
    }
   ],
   "source": [
    "!pip install requests_html"
   ]
  },
  {
   "cell_type": "code",
   "execution_count": 2,
   "id": "1e1573e4",
   "metadata": {},
   "outputs": [
    {
     "name": "stdout",
     "output_type": "stream",
     "text": [
      "Requirement already satisfied: requests_html in c:\\users\\hp\\anaconda3\\lib\\site-packages (0.10.0)\n",
      "Requirement already satisfied: parse in c:\\users\\hp\\anaconda3\\lib\\site-packages (from requests_html) (1.19.0)\n",
      "Requirement already satisfied: pyquery in c:\\users\\hp\\anaconda3\\lib\\site-packages (from requests_html) (1.4.3)\n",
      "Requirement already satisfied: fake-useragent in c:\\users\\hp\\anaconda3\\lib\\site-packages (from requests_html) (0.1.11)\n",
      "Requirement already satisfied: bs4 in c:\\users\\hp\\anaconda3\\lib\\site-packages (from requests_html) (0.0.1)\n",
      "Requirement already satisfied: pyppeteer>=0.0.14 in c:\\users\\hp\\anaconda3\\lib\\site-packages (from requests_html) (1.0.2)\n",
      "Requirement already satisfied: w3lib in c:\\users\\hp\\anaconda3\\lib\\site-packages (from requests_html) (2.0.1)\n",
      "Requirement already satisfied: requests in c:\\users\\hp\\anaconda3\\lib\\site-packages (from requests_html) (2.25.1)\n",
      "Requirement already satisfied: tqdm<5.0.0,>=4.42.1 in c:\\users\\hp\\anaconda3\\lib\\site-packages (from pyppeteer>=0.0.14->requests_html) (4.59.0)\n",
      "Requirement already satisfied: pyee<9.0.0,>=8.1.0 in c:\\users\\hp\\anaconda3\\lib\\site-packages (from pyppeteer>=0.0.14->requests_html) (8.2.2)\n",
      "Requirement already satisfied: urllib3<2.0.0,>=1.25.8 in c:\\users\\hp\\anaconda3\\lib\\site-packages (from pyppeteer>=0.0.14->requests_html) (1.26.4)\n",
      "Requirement already satisfied: importlib-metadata>=1.4 in c:\\users\\hp\\anaconda3\\lib\\site-packages (from pyppeteer>=0.0.14->requests_html) (4.10.1)\n",
      "Requirement already satisfied: certifi>=2021 in c:\\users\\hp\\anaconda3\\lib\\site-packages (from pyppeteer>=0.0.14->requests_html) (2022.6.15)\n",
      "Requirement already satisfied: appdirs<2.0.0,>=1.4.3 in c:\\users\\hp\\anaconda3\\lib\\site-packages (from pyppeteer>=0.0.14->requests_html) (1.4.4)\n",
      "Requirement already satisfied: websockets<11.0,>=10.0 in c:\\users\\hp\\anaconda3\\lib\\site-packages (from pyppeteer>=0.0.14->requests_html) (10.3)\n",
      "Requirement already satisfied: zipp>=0.5 in c:\\users\\hp\\anaconda3\\lib\\site-packages (from importlib-metadata>=1.4->pyppeteer>=0.0.14->requests_html) (3.4.1)\n",
      "Requirement already satisfied: beautifulsoup4 in c:\\users\\hp\\anaconda3\\lib\\site-packages (from bs4->requests_html) (4.9.3)\n",
      "Requirement already satisfied: soupsieve>1.2 in c:\\users\\hp\\anaconda3\\lib\\site-packages (from beautifulsoup4->bs4->requests_html) (2.2.1)\n",
      "Requirement already satisfied: cssselect>0.7.9 in c:\\users\\hp\\anaconda3\\lib\\site-packages (from pyquery->requests_html) (1.1.0)\n",
      "Requirement already satisfied: lxml>=2.1 in c:\\users\\hp\\anaconda3\\lib\\site-packages (from pyquery->requests_html) (4.6.1)\n",
      "Requirement already satisfied: idna<3,>=2.5 in c:\\users\\hp\\anaconda3\\lib\\site-packages (from requests->requests_html) (2.10)\n",
      "Requirement already satisfied: chardet<5,>=3.0.2 in c:\\users\\hp\\anaconda3\\lib\\site-packages (from requests->requests_html) (3.0.4)\n",
      "Requirement already satisfied: requests_html in c:\\users\\hp\\anaconda3\\lib\\site-packages (0.10.0)\n",
      "Requirement already satisfied: fake-useragent in c:\\users\\hp\\anaconda3\\lib\\site-packages (from requests_html) (0.1.11)\n",
      "Requirement already satisfied: parse in c:\\users\\hp\\anaconda3\\lib\\site-packages (from requests_html) (1.19.0)\n",
      "Requirement already satisfied: w3lib in c:\\users\\hp\\anaconda3\\lib\\site-packages (from requests_html) (2.0.1)\n",
      "Requirement already satisfied: pyppeteer>=0.0.14 in c:\\users\\hp\\anaconda3\\lib\\site-packages (from requests_html) (1.0.2)\n",
      "Requirement already satisfied: pyquery in c:\\users\\hp\\anaconda3\\lib\\site-packages (from requests_html) (1.4.3)\n",
      "Requirement already satisfied: bs4 in c:\\users\\hp\\anaconda3\\lib\\site-packages (from requests_html) (0.0.1)\n",
      "Requirement already satisfied: requests in c:\\users\\hp\\anaconda3\\lib\\site-packages (from requests_html) (2.25.1)\n",
      "Requirement already satisfied: pyee<9.0.0,>=8.1.0 in c:\\users\\hp\\anaconda3\\lib\\site-packages (from pyppeteer>=0.0.14->requests_html) (8.2.2)\n",
      "Requirement already satisfied: appdirs<2.0.0,>=1.4.3 in c:\\users\\hp\\anaconda3\\lib\\site-packages (from pyppeteer>=0.0.14->requests_html) (1.4.4)\n",
      "Requirement already satisfied: urllib3<2.0.0,>=1.25.8 in c:\\users\\hp\\anaconda3\\lib\\site-packages (from pyppeteer>=0.0.14->requests_html) (1.26.4)\n",
      "Requirement already satisfied: tqdm<5.0.0,>=4.42.1 in c:\\users\\hp\\anaconda3\\lib\\site-packages (from pyppeteer>=0.0.14->requests_html) (4.59.0)\n",
      "Requirement already satisfied: importlib-metadata>=1.4 in c:\\users\\hp\\anaconda3\\lib\\site-packages (from pyppeteer>=0.0.14->requests_html) (4.10.1)\n",
      "Requirement already satisfied: websockets<11.0,>=10.0 in c:\\users\\hp\\anaconda3\\lib\\site-packages (from pyppeteer>=0.0.14->requests_html) (10.3)\n",
      "Requirement already satisfied: certifi>=2021 in c:\\users\\hp\\anaconda3\\lib\\site-packages (from pyppeteer>=0.0.14->requests_html) (2022.6.15)\n",
      "Requirement already satisfied: zipp>=0.5 in c:\\users\\hp\\anaconda3\\lib\\site-packages (from importlib-metadata>=1.4->pyppeteer>=0.0.14->requests_html) (3.4.1)\n",
      "Requirement already satisfied: beautifulsoup4 in c:\\users\\hp\\anaconda3\\lib\\site-packages (from bs4->requests_html) (4.9.3)\n",
      "Requirement already satisfied: soupsieve>1.2 in c:\\users\\hp\\anaconda3\\lib\\site-packages (from beautifulsoup4->bs4->requests_html) (2.2.1)\n",
      "Requirement already satisfied: lxml>=2.1 in c:\\users\\hp\\anaconda3\\lib\\site-packages (from pyquery->requests_html) (4.6.1)\n",
      "Requirement already satisfied: cssselect>0.7.9 in c:\\users\\hp\\anaconda3\\lib\\site-packages (from pyquery->requests_html) (1.1.0)\n",
      "Requirement already satisfied: chardet<5,>=3.0.2 in c:\\users\\hp\\anaconda3\\lib\\site-packages (from requests->requests_html) (3.0.4)\n",
      "Requirement already satisfied: idna<3,>=2.5 in c:\\users\\hp\\anaconda3\\lib\\site-packages (from requests->requests_html) (2.10)\n"
     ]
    }
   ],
   "source": [
    "!pip install requests_html"
   ]
  },
  {
   "cell_type": "code",
   "execution_count": 3,
   "id": "93c5b7f4",
   "metadata": {},
   "outputs": [
    {
     "ename": "NameError",
     "evalue": "name 'HTMLSession' is not defined",
     "output_type": "error",
     "traceback": [
      "\u001b[1;31m---------------------------------------------------------------------------\u001b[0m",
      "\u001b[1;31mNameError\u001b[0m                                 Traceback (most recent call last)",
      "\u001b[1;32m<ipython-input-3-fb0cf7ebd9f4>\u001b[0m in \u001b[0;36m<module>\u001b[1;34m\u001b[0m\n\u001b[1;32m----> 1\u001b[1;33m \u001b[0msession\u001b[0m \u001b[1;33m=\u001b[0m \u001b[0mHTMLSession\u001b[0m\u001b[1;33m(\u001b[0m\u001b[1;33m)\u001b[0m\u001b[1;33m\u001b[0m\u001b[1;33m\u001b[0m\u001b[0m\n\u001b[0m",
      "\u001b[1;31mNameError\u001b[0m: name 'HTMLSession' is not defined"
     ]
    }
   ],
   "source": [
    "session = HTMLSession()"
   ]
  },
  {
   "cell_type": "code",
   "execution_count": null,
   "id": "6af72c38",
   "metadata": {},
   "outputs": [],
   "source": [
    "url = \"https://www.bangla-kobita.com/helalhafiz/ognyutshob/\""
   ]
  },
  {
   "cell_type": "code",
   "execution_count": null,
   "id": "75dfea4c",
   "metadata": {},
   "outputs": [],
   "source": [
    "r = session.get(url)\n",
    "r"
   ]
  },
  {
   "cell_type": "code",
   "execution_count": null,
   "id": "dc9406c7",
   "metadata": {},
   "outputs": [],
   "source": [
    "def fun(s):\n",
    "    session = HTMLSession()\n",
    "    url = f\"https://www.bangla-kobita.com/helalhafiz/{s}/\"\n",
    "    r = session.get(url)\n",
    "#     bk = r.html.find(\"body > div.container > div.row.body-content > div.col-md-8 > div:nth-child(5)\")[0].text\n",
    "#     bk = bk.split(\"\\n\")\n",
    "    poem_name = r.html.find(\"body > div.container > div.row.body-content > div.col-md-8 > div:nth-child(5) > h1\")[0].text\n",
    "    poet = r.html.find(\"body > div.container > div.row.body-content > div.col-md-8 > div:nth-child(5) > div.author-name\")[0].text\n",
    "    poem = r.html.find(\"body > div.container > div.row.body-content > div.col-md-8 > div:nth-child(5) > div.post-content.noselect\")[0].text\n",
    "    poem = poem.split(\"\\n\")\n",
    "    details = r.html.find(\"body > div.container > div.row.body-content > div.col-md-8 > div:nth-child(5) > div.post-summary\")[0].text\n",
    "    with open(f\"E:/DS - IIUC/Python/classes/second class scraping/Poem/hellal hafez/{s}.txt\",\"w\",encoding=\"utf-8\") as f:\n",
    "        f.write(\"কবিতার নাম    কবি    কবিতা    লিখার সময়    কাব্যগ্রন্থ\\n\")\n",
    "       ## for pn,pt,p,wt,bn in zip(poem_name,poet,poem,written_time,book_name):\n",
    "        f.write(f\"{poem_name} \\n {poet} \\n {poem} \\n {details}\")\n",
    "        f.write(\"\\n\")\n",
    "        "
   ]
  },
  {
   "cell_type": "code",
   "execution_count": null,
   "id": "54fc0ccc",
   "metadata": {},
   "outputs": [],
   "source": [
    "poem = [\"ognyutshob\",\"onyorokom-songshar\",\"khal\",\"ocol-premer-podya\",\"post20161126125546\",\"post20161126114827\",\"post20161126115113\",\"post20161126114040\"]\n",
    "for i in range(len(poem)):\n",
    "    fun(poem[i])"
   ]
  },
  {
   "cell_type": "markdown",
   "id": "4d660c39",
   "metadata": {},
   "source": [
    "## Rudra Mohammad"
   ]
  },
  {
   "cell_type": "code",
   "execution_count": null,
   "id": "d79912a6",
   "metadata": {},
   "outputs": [],
   "source": [
    "from requests_html import HTMLSession"
   ]
  },
  {
   "cell_type": "code",
   "execution_count": null,
   "id": "c3ca99f8",
   "metadata": {},
   "outputs": [],
   "source": [
    "session = HTMLSession()"
   ]
  },
  {
   "cell_type": "code",
   "execution_count": null,
   "id": "80916689",
   "metadata": {},
   "outputs": [],
   "source": [
    "url = \"https://www.bangla-kobita.com/rudramohammad/ovimaner-kheya/\"\n"
   ]
  },
  {
   "cell_type": "code",
   "execution_count": null,
   "id": "1d1a9578",
   "metadata": {},
   "outputs": [],
   "source": [
    "r = session.get(url)\n",
    "r"
   ]
  },
  {
   "cell_type": "code",
   "execution_count": null,
   "id": "dc9406c7",
   "metadata": {},
   "outputs": [],
   "source": [
    "def fun(s):\n",
    "    session = HTMLSession()\n",
    "    url = f\"https://www.bangla-kobita.com/rudramohammad/{s}/\"\n",
    "    r = session.get(url)\n",
    "#     bk = r.html.find(\"body > div.container > div.row.body-content > div.col-md-8 > div:nth-child(5)\")[0].text\n",
    "#     bk = bk.split(\"\\n\")\n",
    "    poem_name = r.html.find(\"body > div.container > div.row.body-content > div.col-md-8 > div:nth-child(5) > h1\")[0].text\n",
    "    poet = r.html.find(\"body > div.container > div.row.body-content > div.col-md-8 > div:nth-child(5) > div.author-name\")[0].text\n",
    "    poem = r.html.find(\"body > div.container > div.row.body-content > div.col-md-8 > div:nth-child(5) > div.post-content.noselect\")[0].text\n",
    "    poem = poem.split(\"\\n\")\n",
    "    details = r.html.find(\"body > div.container > div.row.body-content > div.col-md-8 > div:nth-child(5) > div.post-summary\")[0].text\n",
    "    with open(f\"E:/DS - IIUC/Python/classes/second class scraping/Poem/rudra mohammad/{s}.txt\",\"w\",encoding=\"utf-8\") as f:\n",
    "        f.write(\"কবিতার নাম    কবি    কবিতা    লিখার সময়    কাব্যগ্রন্থ\\n\")\n",
    "       ## for pn,pt,p,wt,bn in zip(poem_name,poet,poem,written_time,book_name):\n",
    "        f.write(f\"{poem_name} \\n {poet} \\n {poem} \\n {details}\")\n",
    "        f.write(\"\\n\")\n",
    "        "
   ]
  },
  {
   "cell_type": "markdown",
   "id": "5814ada7",
   "metadata": {},
   "source": [
    "poem = [\"ovimaner-kheya\"]\n",
    "for i in range(len(poem)):\n",
    "    fun(poem[i])"
   ]
  },
  {
   "cell_type": "code",
   "execution_count": null,
   "id": "36d7c89e",
   "metadata": {},
   "outputs": [],
   "source": []
  },
  {
   "cell_type": "code",
   "execution_count": null,
   "id": "82240a8a",
   "metadata": {
    "scrolled": true
   },
   "outputs": [],
   "source": [
    "!pip install requests_html"
   ]
  },
  {
   "cell_type": "code",
   "execution_count": null,
   "id": "1e1573e4",
   "metadata": {},
   "outputs": [],
   "source": [
    "!pip install requests_html"
   ]
  },
  {
   "cell_type": "code",
   "execution_count": null,
   "id": "93c5b7f4",
   "metadata": {},
   "outputs": [],
   "source": [
    "session = HTMLSession()"
   ]
  },
  {
   "cell_type": "code",
   "execution_count": null,
   "id": "6af72c38",
   "metadata": {},
   "outputs": [],
   "source": [
    "url = \"https://www.bangla-kobita.com/helalhafiz/ognyutshob/\""
   ]
  },
  {
   "cell_type": "code",
   "execution_count": null,
   "id": "75dfea4c",
   "metadata": {},
   "outputs": [],
   "source": [
    "r = session.get(url)\n",
    "r"
   ]
  },
  {
   "cell_type": "code",
   "execution_count": null,
   "id": "dc9406c7",
   "metadata": {},
   "outputs": [],
   "source": [
    "def fun(s):\n",
    "    session = HTMLSession()\n",
    "    url = f\"https://www.bangla-kobita.com/helalhafiz/{s}/\"\n",
    "    r = session.get(url)\n",
    "#     bk = r.html.find(\"body > div.container > div.row.body-content > div.col-md-8 > div:nth-child(5)\")[0].text\n",
    "#     bk = bk.split(\"\\n\")\n",
    "    poem_name = r.html.find(\"body > div.container > div.row.body-content > div.col-md-8 > div:nth-child(5) > h1\")[0].text\n",
    "    poet = r.html.find(\"body > div.container > div.row.body-content > div.col-md-8 > div:nth-child(5) > div.author-name\")[0].text\n",
    "    poem = r.html.find(\"body > div.container > div.row.body-content > div.col-md-8 > div:nth-child(5) > div.post-content.noselect\")[0].text\n",
    "    poem = poem.split(\"\\n\")\n",
    "    details = r.html.find(\"body > div.container > div.row.body-content > div.col-md-8 > div:nth-child(5) > div.post-summary\")[0].text\n",
    "    with open(f\"E:/DS - IIUC/Python/classes/second class scraping/Poem/hellal hafez/{s}.txt\",\"w\",encoding=\"utf-8\") as f:\n",
    "        f.write(\"কবিতার নাম    কবি    কবিতা    লিখার সময়    কাব্যগ্রন্থ\\n\")\n",
    "       ## for pn,pt,p,wt,bn in zip(poem_name,poet,poem,written_time,book_name):\n",
    "        f.write(f\"{poem_name} \\n {poet} \\n {poem} \\n {details}\")\n",
    "        f.write(\"\\n\")\n",
    "        "
   ]
  },
  {
   "cell_type": "code",
   "execution_count": null,
   "id": "54fc0ccc",
   "metadata": {},
   "outputs": [],
   "source": [
    "poem = [\"ognyutshob\",\"onyorokom-songshar\",\"khal\",\"ocol-premer-podya\",\"post20161126125546\",\"post20161126114827\",\"post20161126115113\",\"post20161126114040\"]\n",
    "for i in range(len(poem)):\n",
    "    fun(poem[i])"
   ]
  },
  {
   "cell_type": "markdown",
   "id": "4d660c39",
   "metadata": {},
   "source": [
    "## Rudra Mohammad"
   ]
  },
  {
   "cell_type": "code",
   "execution_count": null,
   "id": "d79912a6",
   "metadata": {},
   "outputs": [],
   "source": [
    "from requests_html import HTMLSession"
   ]
  },
  {
   "cell_type": "code",
   "execution_count": null,
   "id": "c3ca99f8",
   "metadata": {},
   "outputs": [],
   "source": [
    "session = HTMLSession()"
   ]
  },
  {
   "cell_type": "code",
   "execution_count": null,
   "id": "80916689",
   "metadata": {},
   "outputs": [],
   "source": [
    "url = \"https://www.bangla-kobita.com/rudramohammad/ovimaner-kheya/\"\n"
   ]
  },
  {
   "cell_type": "code",
   "execution_count": null,
   "id": "75dfea4c",
   "metadata": {},
   "outputs": [],
   "source": [
    "r = session.get(url)\n",
    "r"
   ]
  },
  {
   "cell_type": "code",
   "execution_count": null,
   "id": "dc9406c7",
   "metadata": {},
   "outputs": [],
   "source": [
    "def fun(s):\n",
    "    session = HTMLSession()\n",
    "    url = f\"https://www.bangla-kobita.com/rudramohammad/{s}/\"\n",
    "    r = session.get(url)\n",
    "#     bk = r.html.find(\"body > div.container > div.row.body-content > div.col-md-8 > div:nth-child(5)\")[0].text\n",
    "#     bk = bk.split(\"\\n\")\n",
    "    poem_name = r.html.find(\"body > div.container > div.row.body-content > div.col-md-8 > div:nth-child(5) > h1\")[0].text\n",
    "    poet = r.html.find(\"body > div.container > div.row.body-content > div.col-md-8 > div:nth-child(5) > div.author-name\")[0].text\n",
    "    poem = r.html.find(\"body > div.container > div.row.body-content > div.col-md-8 > div:nth-child(5) > div.post-content.noselect\")[0].text\n",
    "    poem = poem.split(\"\\n\")\n",
    "    details = r.html.find(\"body > div.container > div.row.body-content > div.col-md-8 > div:nth-child(5) > div.post-summary\")[0].text\n",
    "    with open(f\"E:/DS - IIUC/Python/classes/second class scraping/Poem/rudra mohammad/{s}.txt\",\"w\",encoding=\"utf-8\") as f:\n",
    "        f.write(\"কবিতার নাম    কবি    কবিতা    লিখার সময়    কাব্যগ্রন্থ\\n\")\n",
    "       ## for pn,pt,p,wt,bn in zip(poem_name,poet,poem,written_time,book_name):\n",
    "        f.write(f\"{poem_name} \\n {poet} \\n {poem} \\n {details}\")\n",
    "        f.write(\"\\n\")\n",
    "        "
   ]
  },
  {
   "cell_type": "markdown",
   "id": "9626e909",
   "metadata": {},
   "source": [
    "poem = [\"ovimaner-kheya\"]\n",
    "for i in range(len(poem)):\n",
    "    fun(poem[i])"
   ]
  },
  {
   "cell_type": "code",
   "execution_count": null,
   "id": "36d7c89e",
   "metadata": {},
   "outputs": [],
   "source": [
    "import nbformat as nbf\n",
    "from glob import glob\n",
    "\n",
    "import uuid\n",
    "def get_cell_id(id_length=8):\n",
    "    return uuid.uuid4().hex[:id_length]\n",
    "\n",
    "# your notebook name/keyword\n",
    "nb_name = 'my_notebook'\n",
    "notebooks = list(filter(lambda x: nb_name in x, glob(\"./*.ipynb\", recursive=True)))\n",
    "\n",
    "# iterate over notebooks\n",
    "for ipath in sorted(notebooks):\n",
    "    # load notebook\n",
    "    ntbk = nbf.read(ipath, nbf.NO_CONVERT)\n",
    "    \n",
    "    cell_ids = []\n",
    "    for cell in ntbk.cells:\n",
    "        cell_ids.append(cell['id'])\n",
    "\n",
    "    # reset cell ids if there are duplicates\n",
    "    if not len(cell_ids) == len(set(cell_ids)): \n",
    "        for cell in ntbk.cells:\n",
    "            cell['id'] = get_cell_id()\n",
    "\n",
    "        nbf.write(ntbk, ipath)"
   ]
  },
  {
   "cell_type": "code",
   "execution_count": null,
   "id": "06764ee7",
   "metadata": {},
   "outputs": [],
   "source": []
  }
 ],
 "metadata": {
  "kernelspec": {
   "display_name": "Python 3",
   "language": "python",
   "name": "python3"
  },
  "language_info": {
   "codemirror_mode": {
    "name": "ipython",
    "version": 3
   },
   "file_extension": ".py",
   "mimetype": "text/x-python",
   "name": "python",
   "nbconvert_exporter": "python",
   "pygments_lexer": "ipython3",
   "version": "3.8.8"
  }
 },
 "nbformat": 4,
 "nbformat_minor": 5
}
