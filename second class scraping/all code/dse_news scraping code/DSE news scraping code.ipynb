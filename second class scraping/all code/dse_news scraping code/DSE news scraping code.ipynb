{
 "cells": [
  {
   "cell_type": "code",
   "execution_count": 1,
   "id": "05928040",
   "metadata": {},
   "outputs": [
    {
     "name": "stdout",
     "output_type": "stream",
     "text": [
      "Requirement already satisfied: requests_html in c:\\users\\hp\\anaconda3\\lib\\site-packages (0.10.0)\n",
      "Requirement already satisfied: pyppeteer>=0.0.14 in c:\\users\\hp\\anaconda3\\lib\\site-packages (from requests_html) (1.0.2)\n",
      "Requirement already satisfied: w3lib in c:\\users\\hp\\anaconda3\\lib\\site-packages (from requests_html) (2.0.1)\n",
      "Requirement already satisfied: parse in c:\\users\\hp\\anaconda3\\lib\\site-packages (from requests_html) (1.19.0)\n",
      "Requirement already satisfied: requests in c:\\users\\hp\\anaconda3\\lib\\site-packages (from requests_html) (2.25.1)\n",
      "Requirement already satisfied: fake-useragent in c:\\users\\hp\\anaconda3\\lib\\site-packages (from requests_html) (0.1.11)\n",
      "Requirement already satisfied: pyquery in c:\\users\\hp\\anaconda3\\lib\\site-packages (from requests_html) (1.4.3)\n",
      "Requirement already satisfied: bs4 in c:\\users\\hp\\anaconda3\\lib\\site-packages (from requests_html) (0.0.1)\n",
      "Requirement already satisfied: websockets<11.0,>=10.0 in c:\\users\\hp\\anaconda3\\lib\\site-packages (from pyppeteer>=0.0.14->requests_html) (10.3)\n",
      "Requirement already satisfied: importlib-metadata>=1.4 in c:\\users\\hp\\anaconda3\\lib\\site-packages (from pyppeteer>=0.0.14->requests_html) (4.10.1)\n",
      "Requirement already satisfied: appdirs<2.0.0,>=1.4.3 in c:\\users\\hp\\anaconda3\\lib\\site-packages (from pyppeteer>=0.0.14->requests_html) (1.4.4)\n",
      "Requirement already satisfied: urllib3<2.0.0,>=1.25.8 in c:\\users\\hp\\anaconda3\\lib\\site-packages (from pyppeteer>=0.0.14->requests_html) (1.26.4)\n",
      "Requirement already satisfied: certifi>=2021 in c:\\users\\hp\\anaconda3\\lib\\site-packages (from pyppeteer>=0.0.14->requests_html) (2022.6.15)\n",
      "Requirement already satisfied: pyee<9.0.0,>=8.1.0 in c:\\users\\hp\\anaconda3\\lib\\site-packages (from pyppeteer>=0.0.14->requests_html) (8.2.2)\n",
      "Requirement already satisfied: tqdm<5.0.0,>=4.42.1 in c:\\users\\hp\\anaconda3\\lib\\site-packages (from pyppeteer>=0.0.14->requests_html) (4.59.0)\n",
      "Requirement already satisfied: zipp>=0.5 in c:\\users\\hp\\anaconda3\\lib\\site-packages (from importlib-metadata>=1.4->pyppeteer>=0.0.14->requests_html) (3.4.1)\n",
      "Requirement already satisfied: beautifulsoup4 in c:\\users\\hp\\anaconda3\\lib\\site-packages (from bs4->requests_html) (4.9.3)\n",
      "Requirement already satisfied: soupsieve>1.2 in c:\\users\\hp\\anaconda3\\lib\\site-packages (from beautifulsoup4->bs4->requests_html) (2.2.1)\n",
      "Requirement already satisfied: cssselect>0.7.9 in c:\\users\\hp\\anaconda3\\lib\\site-packages (from pyquery->requests_html) (1.1.0)\n",
      "Requirement already satisfied: lxml>=2.1 in c:\\users\\hp\\anaconda3\\lib\\site-packages (from pyquery->requests_html) (4.6.1)\n",
      "Requirement already satisfied: idna<3,>=2.5 in c:\\users\\hp\\anaconda3\\lib\\site-packages (from requests->requests_html) (2.10)\n",
      "Requirement already satisfied: chardet<5,>=3.0.2 in c:\\users\\hp\\anaconda3\\lib\\site-packages (from requests->requests_html) (3.0.4)\n"
     ]
    }
   ],
   "source": [
    "!pip install requests_html"
   ]
  },
  {
   "cell_type": "code",
   "execution_count": 2,
   "id": "c382bb47",
   "metadata": {},
   "outputs": [],
   "source": [
    "from requests_html import HTMLSession"
   ]
  },
  {
   "cell_type": "code",
   "execution_count": 3,
   "id": "5ad6017b",
   "metadata": {},
   "outputs": [],
   "source": [
    "session = HTMLSession()"
   ]
  },
  {
   "cell_type": "code",
   "execution_count": 4,
   "id": "24e1ac6f",
   "metadata": {},
   "outputs": [],
   "source": [
    "url = \"https://dsebd.org/old_news.php?startDate=2022-08-20&endDate=2022-08-26&criteria=4&archive=news\"\n",
    "r = session.get(url)"
   ]
  },
  {
   "cell_type": "code",
   "execution_count": 21,
   "id": "ab8f9bbc",
   "metadata": {},
   "outputs": [
    {
     "name": "stdout",
     "output_type": "stream",
     "text": [
      "200\n"
     ]
    }
   ],
   "source": [
    "print(r.status_code)## status cod0 = 200 means link is alive"
   ]
  },
  {
   "cell_type": "code",
   "execution_count": 26,
   "id": "4edfbb91",
   "metadata": {},
   "outputs": [],
   "source": [
    "def dse_news(i,month,year):     \n",
    "    url = f\"https://dsebd.org/old_news.php?startDate={year}-0{i}-01&endDate={year}-0{i}-31&criteria=4&archive=news\"\n",
    "    r = session.get(url)\n",
    "    dse = r.html.find('#RightBody > div.row > div > div.table-responsive > table')[0].text\n",
    "    dse_all = dse.split(\"\\n\")\n",
    "    Trading_code = dse_all[1::8]\n",
    "    News_title = dse_all[3::8]\n",
    "    News = dse_all[5::8]   \n",
    "    Post_date = dse_all[7::8]\n",
    "    with open(f\"E:/DS - IIUC/Python/classes/second class scraping/DSE_NEWS/{year}/{month} dse_news.txt\",\"w\", encoding=\"utf-8\") as f:\n",
    "        f.write(\"Trading_code    News Title   News   Post Date\\n\")\n",
    "        for i in range(len(Trading_code)):\n",
    "            f.write(f\"{Trading_code[i]}  ////// {News_title[i]}  ////// {News[i]}  /////// {Post_date[i]}\\n\")\n",
    "            f.write(\"........................................................................................................................\")"
   ]
  },
  {
   "cell_type": "code",
   "execution_count": 27,
   "id": "3593451c",
   "metadata": {
    "scrolled": true
   },
   "outputs": [],
   "source": [
    "month = {1: \"January\",2 : \"February\", 3 : \"March\", 4:\"April\", 5:\"May\",6:\"June\",7:\"July\",8:\"August\",9:\"September\",\n",
    "         10:\"October\",11:\"November\", 12:\"December\",}\n",
    "for j in range(2019,2023):\n",
    "    for i in range(1,13):\n",
    "        dse_news(i,month[i],j)\n",
    "        "
   ]
  },
  {
   "cell_type": "code",
   "execution_count": null,
   "id": "5e1b11fe",
   "metadata": {},
   "outputs": [],
   "source": []
  }
 ],
 "metadata": {
  "kernelspec": {
   "display_name": "Python 3",
   "language": "python",
   "name": "python3"
  },
  "language_info": {
   "codemirror_mode": {
    "name": "ipython",
    "version": 3
   },
   "file_extension": ".py",
   "mimetype": "text/x-python",
   "name": "python",
   "nbconvert_exporter": "python",
   "pygments_lexer": "ipython3",
   "version": "3.8.8"
  }
 },
 "nbformat": 4,
 "nbformat_minor": 5
}
