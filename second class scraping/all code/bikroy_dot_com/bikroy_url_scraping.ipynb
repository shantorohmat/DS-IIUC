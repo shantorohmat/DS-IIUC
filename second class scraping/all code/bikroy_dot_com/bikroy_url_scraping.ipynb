{
 "cells": [
  {
   "cell_type": "code",
   "execution_count": 1,
   "id": "1ca5041c",
   "metadata": {},
   "outputs": [],
   "source": [
    "import pandas as pd\n",
    "from datetime import datetime\n",
    "import requests\n",
    "import time \n",
    "from requests_html import HTMLSession\n",
    "from PIL import Image\n",
    "from io import BytesIO\n",
    "\n",
    "from selenium import webdriver\n",
    "from selenium.webdriver.common.keys import Keys\n",
    "from selenium.webdriver.chrome.service import Service\n",
    "from selenium.webdriver.common.by import By\n",
    "from selenium.webdriver.support.ui import WebDriverWait\n",
    "from selenium.webdriver.support import expected_conditions as EC\n",
    "from IPython.display import display, clear_output"
   ]
  },
  {
   "cell_type": "code",
   "execution_count": 2,
   "id": "9d90e8d5",
   "metadata": {},
   "outputs": [],
   "source": [
    "s = Service('chromedriver')\n",
    "driver = webdriver.Chrome(service = s)"
   ]
  },
  {
   "cell_type": "code",
   "execution_count": 3,
   "id": "d95dddbe",
   "metadata": {},
   "outputs": [],
   "source": [
    "\n",
    "start = time.time()\n",
    "pages = 5\n",
    "all_url = []\n",
    "page_cnt,url_cnt = 0,0\n",
    "with open('E:/DS - IIUC/Python/classes/second class scraping/bikroy_dotcom/url.txt','w') as f:\n",
    "    for p in range(1,pages+1):\n",
    "        url = f'https://bikroy.com/en/ads/bangladesh/mobiles?sort=date&order=desc&buy_now=0&urgent=0&page={p}'\n",
    "#         f.write(url+\"\\n\")\n",
    "#         f.write(\"..............................................................................................................\\n\")\n",
    "    \n",
    "        driver.get(url)\n",
    "        time.sleep(3)\n",
    "        page_cnt += 1\n",
    "        for i in range(1,28):\n",
    "            try:\n",
    "                single_url = driver.find_element(by = By.XPATH,value = f'//*[@id=\"app-wrapper\"]/div[1]/div[3]/div/div[2]/div[4]/div[2]/div/div[1]/div[1]/ul/li[{i}]/a').get_attribute('href')\n",
    "                all_url.append(single_url)\n",
    "                url_cnt += 1\n",
    "#                 f.write(\"Page : \"+str(page_cnt) + \"url \" + str(url_cnt)+\"\\n\")\n",
    "                f.write(single_url+\"\\n\")\n",
    "            except Exception as e:\n",
    "                f.write(e+\"\\n\")\n",
    "                f.write(\"No data link\\n\")\n",
    "    t = time.time()-start\n",
    "    f.write(str(t)+\"\\n\")\n",
    "    f.write(str(url_cnt))\n",
    "            "
   ]
  },
  {
   "cell_type": "code",
   "execution_count": null,
   "id": "f94e0efc",
   "metadata": {},
   "outputs": [],
   "source": []
  }
 ],
 "metadata": {
  "kernelspec": {
   "display_name": "Python 3",
   "language": "python",
   "name": "python3"
  },
  "language_info": {
   "codemirror_mode": {
    "name": "ipython",
    "version": 3
   },
   "file_extension": ".py",
   "mimetype": "text/x-python",
   "name": "python",
   "nbconvert_exporter": "python",
   "pygments_lexer": "ipython3",
   "version": "3.8.8"
  }
 },
 "nbformat": 4,
 "nbformat_minor": 5
}
