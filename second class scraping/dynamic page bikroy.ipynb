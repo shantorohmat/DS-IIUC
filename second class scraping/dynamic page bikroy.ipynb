{
 "cells": [
  {
   "cell_type": "code",
   "execution_count": null,
   "id": "4321b27a",
   "metadata": {},
   "outputs": [],
   "source": [
    "!pip install Selenium"
   ]
  },
  {
   "cell_type": "code",
   "execution_count": 9,
   "id": "f2d8758f",
   "metadata": {},
   "outputs": [],
   "source": [
    "import pandas as pd\n",
    "from datetime import datetime\n",
    "import requests\n",
    "import time \n",
    "from requests_html import HTMLSession\n",
    "from PIL import Image\n",
    "from io import BytesIO\n",
    "\n",
    "from selenium import webdriver\n",
    "from selenium.webdriver.common.keys import Keys\n",
    "from selenium.webdriver.chrome.service import Service\n",
    "from selenium.webdriver.common.by import By\n",
    "from selenium.webdriver.support.ui import WebDriverWait\n",
    "from selenium.webdriver.support import expected_conditions as EC\n",
    "from IPython.display import display, clear_output"
   ]
  },
  {
   "cell_type": "code",
   "execution_count": 10,
   "id": "16492612",
   "metadata": {},
   "outputs": [],
   "source": [
    "s = Service('chromedriver')\n",
    "driver = webdriver.Chrome(service=s)"
   ]
  },
  {
   "cell_type": "code",
   "execution_count": null,
   "id": "d9be2918",
   "metadata": {},
   "outputs": [],
   "source": [
    "driver.get(\"https://bikroy.com/bn/ads/bangladesh/mobiles\")"
   ]
  },
  {
   "cell_type": "code",
   "execution_count": null,
   "id": "59825be1",
   "metadata": {},
   "outputs": [],
   "source": [
    "driver.close()"
   ]
  },
  {
   "cell_type": "code",
   "execution_count": null,
   "id": "93c8fecf",
   "metadata": {},
   "outputs": [],
   "source": [
    "driver.title"
   ]
  },
  {
   "cell_type": "code",
   "execution_count": null,
   "id": "973d142d",
   "metadata": {},
   "outputs": [],
   "source": [
    "driver.back()"
   ]
  },
  {
   "cell_type": "code",
   "execution_count": null,
   "id": "55a7b485",
   "metadata": {},
   "outputs": [],
   "source": [
    "driver.forward()"
   ]
  },
  {
   "cell_type": "code",
   "execution_count": null,
   "id": "cdf23d17",
   "metadata": {},
   "outputs": [],
   "source": [
    "product_link = driver.find_elements(by=By.CLASS_NAME, value=\"card-link--3ssYv\") ## container--2uFyv\n",
    "product_link"
   ]
  },
  {
   "cell_type": "code",
   "execution_count": null,
   "id": "5b0bdbb2",
   "metadata": {},
   "outputs": [],
   "source": [
    "# p.get_attribute('href') for p in product_link\n",
    "for p in product_link:\n",
    "    x = p.get_attribute(\"href\")\n",
    "    print(x)\n"
   ]
  },
  {
   "cell_type": "markdown",
   "id": "388b9d2b",
   "metadata": {},
   "source": [
    "## single product scrapping"
   ]
  },
  {
   "cell_type": "code",
   "execution_count": null,
   "id": "f7f2978b",
   "metadata": {},
   "outputs": [],
   "source": [
    "driver.get('https://bikroy.com/bn/ad/xiaomi-poco-c31-intck-offer-new-for-sale-rangpur')"
   ]
  },
  {
   "cell_type": "code",
   "execution_count": null,
   "id": "d7697142",
   "metadata": {},
   "outputs": [],
   "source": [
    "title = driver.find_element(By.XPATH,'//*[@id=\"app-wrapper\"]/div[1]/div[2]/div[2]/div[1]/div[1]/div/div[1]/div/div[1]/div[2]/div/div/h1')"
   ]
  },
  {
   "cell_type": "code",
   "execution_count": null,
   "id": "4d290bce",
   "metadata": {},
   "outputs": [],
   "source": [
    "title.text"
   ]
  },
  {
   "cell_type": "code",
   "execution_count": null,
   "id": "bcff5470",
   "metadata": {},
   "outputs": [],
   "source": [
    "feature = driver.find_element(By.XPATH,'//*[@id=\"app-wrapper\"]/div[1]/div[2]/div[2]/div[1]/div[1]/div/div[1]/div/div[2]/div[3]')"
   ]
  },
  {
   "cell_type": "code",
   "execution_count": null,
   "id": "6a8b5e5c",
   "metadata": {},
   "outputs": [],
   "source": [
    "feature.text.split('\\n')"
   ]
  },
  {
   "cell_type": "code",
   "execution_count": null,
   "id": "95ff17b7",
   "metadata": {},
   "outputs": [],
   "source": [
    " description =  driver.find_element(By.XPATH,'//*[@id=\"collapsible-content-0\"]')"
   ]
  },
  {
   "cell_type": "code",
   "execution_count": null,
   "id": "7e51c5a7",
   "metadata": {},
   "outputs": [],
   "source": [
    "' '.join(description.text.split('\\n'))"
   ]
  },
  {
   "cell_type": "markdown",
   "id": "5427d16e",
   "metadata": {},
   "source": [
    "### image"
   ]
  },
  {
   "cell_type": "code",
   "execution_count": null,
   "id": "018db7ce",
   "metadata": {},
   "outputs": [],
   "source": [
    "im = driver.find_element(By.XPATH,'//*[@id=\"app-wrapper\"]/div[1]/div[2]/div[2]/div[1]/div[1]/div/div[1]/div/div[1]/div[1]/div/ul/li[3]/img')"
   ]
  },
  {
   "cell_type": "code",
   "execution_count": null,
   "id": "d1fdf2ad",
   "metadata": {},
   "outputs": [],
   "source": [
    "print(im.get_attribute('src'))"
   ]
  },
  {
   "cell_type": "markdown",
   "id": "88da22bc",
   "metadata": {},
   "source": [
    "###  print url"
   ]
  },
  {
   "cell_type": "code",
   "execution_count": null,
   "id": "e586bff6",
   "metadata": {},
   "outputs": [],
   "source": [
    "url = f\"https://bikroy.com/bn/ads/bangladesh/mobiles?sort=date&order=desc&buy_now=0&urgent=0&page=2\""
   ]
  },
  {
   "cell_type": "code",
   "execution_count": null,
   "id": "f51f7731",
   "metadata": {},
   "outputs": [],
   "source": [
    "print(url) "
   ]
  },
  {
   "cell_type": "code",
   "execution_count": null,
   "id": "73148af9",
   "metadata": {},
   "outputs": [],
   "source": [
    "for i in range(1,11):\n",
    "    url = f\"https://bikroy.com/bn/ads/bangladesh/mobiles?sort=date&order=desc&buy_now=0&urgent=0&page={i}\"\n",
    "    print(url)\n",
    "    driver.get(url)\n",
    "    for j in range(1,28):\n",
    "        try:\n",
    "            single_url = driver.find_element(by = By.XPATH,value = f'//*[@id=\"app-wrapper\"]/div[1]/div[3]/div/div[2]/div[4]/div[2]/div/div[1]/div[1]/ul/li[{j}]/a').get_attribute('href')\n",
    "            print(single_url)\n",
    "        except:\n",
    "            print(\"no\")\n",
    "    "
   ]
  },
  {
   "cell_type": "markdown",
   "id": "7e4b75ee",
   "metadata": {},
   "source": [
    "## url scrapping"
   ]
  },
  {
   "cell_type": "code",
   "execution_count": 37,
   "id": "9d90e8d5",
   "metadata": {},
   "outputs": [],
   "source": [
    "s = Service('chromedriver')\n",
    "driver = webdriver.Chrome(service = s)"
   ]
  },
  {
   "cell_type": "code",
   "execution_count": 11,
   "id": "d95dddbe",
   "metadata": {},
   "outputs": [],
   "source": [
    "\n",
    "start = time.time()\n",
    "pages = 5\n",
    "all_url = []\n",
    "page_cnt,url_cnt = 0,0\n",
    "with open('url.txt','w') as f:\n",
    "    for p in range(1,pages+1):\n",
    "        url = f'https://bikroy.com/en/ads/bangladesh/home-living?sort=date&order=desc&buy_now=0&urgent=0&page={p}'\n",
    "        f.write(url+\"\\n\")\n",
    "        f.write(\"..............................................................................................................\\n\")\n",
    "    \n",
    "        driver.get(url)\n",
    "        time.sleep(3)\n",
    "        page_cnt += 1\n",
    "        for i in range(1,28):\n",
    "            try:\n",
    "                single_url = driver.find_element(by = By.XPATH,value = f'//*[@id=\"app-wrapper\"]/div[1]/div[3]/div/div[2]/div[4]/div[2]/div/div[1]/div[1]/ul/li[{i}]/a').get_attribute('href')\n",
    "                all_url.append(single_url)\n",
    "                url_cnt += 1\n",
    "#                 f.write(\"Page : \"+str(page_cnt) + \"url \" + str(url_cnt)+\"\\n\")\n",
    "                f.write(single_url+\"\\n\")\n",
    "            except Exception as e:\n",
    "                f.write(e+\"\\n\")\n",
    "                f.write(\"No data link\\n\")\n",
    "    t = time.time()-start\n",
    "    f.write(str(t))\n",
    "            "
   ]
  },
  {
   "cell_type": "code",
   "execution_count": null,
   "id": "9d76d2e2",
   "metadata": {},
   "outputs": [],
   "source": [
    "len(all_url)\n",
    "all_url"
   ]
  },
  {
   "cell_type": "markdown",
   "id": "fabcc63d",
   "metadata": {},
   "source": [
    "###  Data scrapping"
   ]
  },
  {
   "cell_type": "code",
   "execution_count": 7,
   "id": "c0622fe3",
   "metadata": {},
   "outputs": [
    {
     "name": "stdout",
     "output_type": "stream",
     "text": [
      "No images\n"
     ]
    }
   ],
   "source": [
    "url = 'https://bikroy.com/en/ad/solar-ips-utl-1000va-800w-5-fan-10-led-1-tv-for-sale-dhaka'\n",
    "driver.get(url)\n",
    "x = image_scrp(driver)\n"
   ]
  },
  {
   "cell_type": "code",
   "execution_count": null,
   "id": "d12fc711",
   "metadata": {},
   "outputs": [],
   "source": [
    "def title_scrp(driver):\n",
    "    try:\n",
    "        title = driver.find_element(By.XPATH,'//*[@id=\"app-wrapper\"]/div[1]/div[2]/div[2]/div[3]/div[1]/div[1]/div/h1')\n",
    "        print(\"Title: \", title)\n",
    "        return title\n",
    "    except:\n",
    "        print(\"Product Not found. May be sold out!\")\n",
    "        return None"
   ]
  },
  {
   "cell_type": "code",
   "execution_count": null,
   "id": "d13b9cdb",
   "metadata": {},
   "outputs": [],
   "source": [
    "def time_location(driver):\n",
    "    try:\n",
    "        time_location =  driver.find_element(By.XPATH,'//*[@id=\"app-wrapper\"]/div[1]/div[2]/div[2]/div[3]/div[1]/div[1]/div/span')\n",
    "        print(\"Time & Location: \", time_location)\n",
    "        return time_location\n",
    "    except:\n",
    "        print(\"nothing\")\n",
    "        return None\n",
    "        "
   ]
  },
  {
   "cell_type": "code",
   "execution_count": null,
   "id": "e03b809c",
   "metadata": {},
   "outputs": [],
   "source": [
    "def price_scrp(driver):\n",
    "    try:\n",
    "        price = driver.find_element(By.XPATH,'//*[@id=\"app-wrapper\"]/div[1]/div[2]/div[2]/div[3]/div[2]/div/div[1]/div/div[2]/div[1]/div/div[1]')\n",
    "        print(\"Price: \", price)\n",
    "        return price\n",
    "    except:\n",
    "        print(\"NOthing\")\n",
    "        return None"
   ]
  },
  {
   "cell_type": "code",
   "execution_count": 3,
   "id": "8c546636",
   "metadata": {},
   "outputs": [],
   "source": [
    "def feature_scrp(driver):\n",
    "    try:\n",
    "        feature = driver.find_element(By.XPATH,'//*[@id=\"app-wrapper\"]/div[1]/div[2]/div[2]/div[1]/div[1]/div/div[1]/div/div[2]/div[3]')\n",
    "        print('Features: ', feature)\n",
    "        return feature                   \n",
    "    except:\n",
    "        return None"
   ]
  },
  {
   "cell_type": "code",
   "execution_count": 22,
   "id": "168027bc",
   "metadata": {},
   "outputs": [],
   "source": [
    "def description(driver):\n",
    "    try:\n",
    "        description = driver.find_element(By.XPATH,'//*[@id=\"collapsible-content-0\"]/ul/div')\n",
    "        print(\"Description: \", description)\n",
    "        return description\n",
    "    except:\n",
    "        return None"
   ]
  },
  {
   "cell_type": "code",
   "execution_count": 58,
   "id": "b6128370",
   "metadata": {},
   "outputs": [],
   "source": [
    "def show_more_click(driver):    \n",
    "    try:\n",
    "        driver.find_element(by=By.CLASS_NAME, value='show-text--13FcL').click()\n",
    "#         s_driver.find_element(by=By.XPATH, value='//*[@id=\"app-wrapper\"]/div[1]/div[2]/div[2]/div[3]/div[2]/div/div[1]/div/div[2]/div[3]/div/div[2]/div/div[2]/button').click()\n",
    "        time.sleep(2)\n",
    "    except:\n",
    "        print(\"No 'Show more' button\")"
   ]
  },
  {
   "cell_type": "code",
   "execution_count": 12,
   "id": "04d0c599",
   "metadata": {},
   "outputs": [],
   "source": [
    "def meta_data_scrap(driver):\n",
    "    try:\n",
    "        meta_data = driver.find_element(by=By.XPATH, value='//*[@id=\"app-wrapper\"]/div[1]/div[2]/div[2]/div[3]/div[2]/div/div[1]/div/div[2]/div[2]')\n",
    "\n",
    "        md = meta_data.find_elements(by=By.TAG_NAME,value='div')\n",
    "        meta_dic = {}\n",
    "        \n",
    "        for m in md:\n",
    "            m = m.text\n",
    "            if '\\n' in m:\n",
    "                key, val = m.split('\\n')[0], m.split('\\n')[1]\n",
    "                meta_dic[key] = val\n",
    "        print(\"Meta Data: \", meta_dic)\n",
    "        return meta_dic\n",
    "    except:\n",
    "        print('No meta data found')        \n",
    "        return 'N/A'"
   ]
  },
  {
   "cell_type": "code",
   "execution_count": 62,
   "id": "76f991b6",
   "metadata": {},
   "outputs": [],
   "source": [
    "def open_driver():\n",
    "    op = webdriver.ChromeOptions()\n",
    "    op.add_argument('headless')\n",
    "    s = Service('chromedriver')\n",
    "    driver = webdriver.Chrome(service=s, options=op)\n",
    "    return driver"
   ]
  },
  {
   "cell_type": "code",
   "execution_count": 5,
   "id": "3cd5997d",
   "metadata": {},
   "outputs": [],
   "source": [
    "def image_scrp(driver):\n",
    "    try:\n",
    "        images = driver.find_element(By.XPATH,'//*[@id=\"app-wrapper\"]/div[1]/div[2]/div[2]/div[1]/div[1]/div/div[1]/div/div[1]/div[1]/div/ul/li[3]/img')\n",
    "        img_path = []\n",
    "        for img in images.find_element(By.TAG_NAME,'img'):\n",
    "            img_url = img.get_attribute('src')\n",
    "            img_url_name = '/'.join(img_url.split('/')[:-3])\n",
    "            img_url_rename = img_url_name + '/620/466/fitted.jpg'\n",
    "            img_name = '@'.join(img_url_name.split('/')[:-2])\n",
    "\n",
    "            r = requests.get(img_url_rename)\n",
    "            i = Image.open(BytesIO(r.content))\n",
    "            i.save(f\"image/{catagory}/{img_name}.jpg\")\n",
    "            img_path.append(img_name)\n",
    "            return img_path\n",
    "    except:\n",
    "        print('No images')        \n",
    "        return 'N/A'\n",
    "    "
   ]
  },
  {
   "cell_type": "code",
   "execution_count": null,
   "id": "8de8261e",
   "metadata": {},
   "outputs": [],
   "source": [
    "def product_scrap(driver, url, category):\n",
    "    driver.get(url)\n",
    "    time.sleep(5)\n",
    "\n",
    "    # single page data scrapping\n",
    "    title = title_scrap(driver)\n",
    "    # if title not found (product sold) don't proceed further for other data\n",
    "    if not title:\n",
    "        return [None]*7\n",
    "    # scrapping time and location\n",
    "    time_location = time_location_scrap(driver)\n",
    "    \n",
    "    # scrapping price\n",
    "    price = price_scrap(driver)\n",
    "    \n",
    "    # scrapping all images\n",
    "    images = image_scrap(driver, category)\n",
    "    \n",
    "\n",
    "    # extractig meta data\n",
    "    meta_data = meta_data_scrap(driver)\n",
    "        \n",
    "    # click on show_more button\n",
    "    show_more_click(driver)\n",
    "\n",
    "    # extracting feature data\n",
    "    feature = feature_scrap(driver)\n",
    "    \n",
    "    # extracting description\n",
    "    description = description_scrap(driver)\n",
    "    \n",
    "    return title, time_location, price, images, meta_data, feature, description"
   ]
  },
  {
   "cell_type": "code",
   "execution_count": null,
   "id": "5170f113",
   "metadata": {},
   "outputs": [],
   "source": [
    "category = 'mobile'\n",
    "with open('mobile_product_urls.txt', 'r') as f:\n",
    "    single_url = f.readlines()\n",
    "    titles, locations, prices, img_lst, meta_lst,  feature_lst, desc_lst = [], [], [], [], [], [], []\n",
    "    cnt = 1\n",
    "#     print(single_url)\n",
    "    for s in single_url:\n",
    "        print(cnt, s)\n",
    "        driver = open_driver()\n",
    "        \n",
    "        title, time_location, price, images, meta_data, feature, description = product_scrap(driver, s, category)\n",
    "        if title:\n",
    "            titles.append(title)\n",
    "            locations.append(time_location)\n",
    "            prices.append(price)\n",
    "            img_lst.append(images)\n",
    "            meta_lst.append(meta_data)\n",
    "            feature_lst.append(feature)\n",
    "            desc_lst.append(description) \n",
    "\n",
    "            cnt += 1\n",
    "            print(\"=============================================\")\n",
    "            clear_output(wait=True)"
   ]
  }
 ],
 "metadata": {
  "kernelspec": {
   "display_name": "Python 3",
   "language": "python",
   "name": "python3"
  },
  "language_info": {
   "codemirror_mode": {
    "name": "ipython",
    "version": 3
   },
   "file_extension": ".py",
   "mimetype": "text/x-python",
   "name": "python",
   "nbconvert_exporter": "python",
   "pygments_lexer": "ipython3",
   "version": "3.8.8"
  }
 },
 "nbformat": 4,
 "nbformat_minor": 5
}
