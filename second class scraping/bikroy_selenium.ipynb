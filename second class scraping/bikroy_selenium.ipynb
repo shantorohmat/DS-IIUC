{
 "cells": [
  {
   "cell_type": "code",
   "execution_count": 1,
   "metadata": {},
   "outputs": [],
   "source": [
    "import pandas as pd\n",
    "from datetime import datetime\n",
    "import requests\n",
    "import time \n",
    "from requests_html import HTMLSession\n",
    "from PIL import Image\n",
    "from io import BytesIO\n",
    "\n",
    "from selenium import webdriver\n",
    "from selenium.webdriver.common.keys import Keys\n",
    "from selenium.webdriver.chrome.service import Service\n",
    "from selenium.webdriver.common.by import By\n",
    "from selenium.webdriver.support.ui import WebDriverWait\n",
    "from selenium.webdriver.support import expected_conditions as EC\n",
    "from IPython.display import display, clear_output"
   ]
  },
  {
   "cell_type": "code",
   "execution_count": null,
   "metadata": {},
   "outputs": [],
   "source": [
    "!pip install selenium"
   ]
  },
  {
   "cell_type": "code",
   "execution_count": null,
   "metadata": {},
   "outputs": [],
   "source": [
    "! pip install --upgrade selenium"
   ]
  },
  {
   "cell_type": "code",
   "execution_count": 2,
   "metadata": {},
   "outputs": [],
   "source": [
    "s = Service('chromedriver')\n",
    "driver = webdriver.Chrome(service=s)"
   ]
  },
  {
   "cell_type": "code",
   "execution_count": null,
   "metadata": {},
   "outputs": [],
   "source": [
    "driver.get(\"https://bikroy.com/bn/ads/bangladesh/mobiles\")"
   ]
  },
  {
   "cell_type": "code",
   "execution_count": null,
   "metadata": {},
   "outputs": [],
   "source": [
    "driver.close()"
   ]
  },
  {
   "cell_type": "code",
   "execution_count": null,
   "metadata": {},
   "outputs": [],
   "source": [
    "driver.title"
   ]
  },
  {
   "cell_type": "code",
   "execution_count": null,
   "metadata": {},
   "outputs": [],
   "source": [
    "driver.back()"
   ]
  },
  {
   "cell_type": "code",
   "execution_count": null,
   "metadata": {},
   "outputs": [],
   "source": [
    "driver.forward()"
   ]
  },
  {
   "cell_type": "code",
   "execution_count": null,
   "metadata": {},
   "outputs": [],
   "source": [
    "product_link = driver.find_elements(by=By.CLASS_NAME, value=\"card-link--3ssYv\")\n",
    "product_link"
   ]
  },
  {
   "cell_type": "code",
   "execution_count": null,
   "metadata": {},
   "outputs": [],
   "source": [
    "product_urls = [p.get_attribute('href') for p in product_link]\n",
    "product_urls"
   ]
  },
  {
   "cell_type": "code",
   "execution_count": null,
   "metadata": {
    "scrolled": true
   },
   "outputs": [],
   "source": [
    "for p in product_urls[:5]:\n",
    "    print(p)"
   ]
  },
  {
   "cell_type": "code",
   "execution_count": null,
   "metadata": {},
   "outputs": [],
   "source": [
    "driver.get('https://bikroy.com/bn/ad/realme-x7-5g-6128-used-for-sale-barishal')"
   ]
  },
  {
   "cell_type": "code",
   "execution_count": null,
   "metadata": {},
   "outputs": [],
   "source": [
    "title_ele = driver.find_element(by=By.TAG_NAME, value='h1')\n",
    "title_ele.text"
   ]
  },
  {
   "cell_type": "code",
   "execution_count": null,
   "metadata": {},
   "outputs": [],
   "source": [
    "descript_ele = driver.find_element(by=By.XPATH, value='//*[@id=\"collapsible-content-0\"]/ul/div')\n",
    "descript_ele"
   ]
  },
  {
   "cell_type": "code",
   "execution_count": null,
   "metadata": {},
   "outputs": [],
   "source": [
    "descript_ele.text.split('\\n')"
   ]
  },
  {
   "cell_type": "code",
   "execution_count": null,
   "metadata": {},
   "outputs": [],
   "source": [
    "'বক্স নাই, ব্যাক কাভার আছে। চার্জার আছে। পলি লাগানো আছে। Amoled Display Indisplay Fingerprint Dimensity 800U octa core processor '"
   ]
  },
  {
   "cell_type": "code",
   "execution_count": null,
   "metadata": {},
   "outputs": [],
   "source": [
    "' '.join(descript_ele.text.split('\\n'))"
   ]
  },
  {
   "cell_type": "code",
   "execution_count": null,
   "metadata": {},
   "outputs": [],
   "source": []
  },
  {
   "cell_type": "code",
   "execution_count": null,
   "metadata": {},
   "outputs": [],
   "source": []
  },
  {
   "cell_type": "code",
   "execution_count": null,
   "metadata": {},
   "outputs": [],
   "source": [
    "import time"
   ]
  },
  {
   "cell_type": "code",
   "execution_count": null,
   "metadata": {},
   "outputs": [],
   "source": [
    "s = Service('chromedriver')\n",
    "driver = webdriver.Chrome(service=s)\n",
    "# session = HTMLSession()\n",
    "start = time.time()\n",
    "pages = 5\n",
    "single_page_urls = []\n",
    "page_cnt, url_cnt = 0, 0\n",
    "for p in range(1, pages+1):\n",
    "    bikroy_url = f'https://bikroy.com/en/ads/bangladesh/home-living?sort=date&order=desc&buy_now=0&urgent=0&page={p}'\n",
    "    print(bikroy_url)\n",
    "\n",
    "\n",
    "#     r = session.get('http://localhost:8050/render.html', params={'url': bikroy_url, 'wait': 1})\n",
    "#     print(r.status_code)\n",
    "\n",
    "    driver.get(bikroy_url)\n",
    "    time.sleep(3)\n",
    "    page_cnt += 1\n",
    "    for i in range (1, 28):\n",
    "        try:\n",
    "            single_url = driver.find_element(by=By.XPATH, value=f'//*[@id=\"app-wrapper\"]/div[1]/div[3]/div/div[2]/div[4]/div[2]/div/div[1]/div[1]/ul/li[{i}]/a').get_attribute('href')\n",
    "#             single_url = r.html.find(f'#app-wrapper > div.container--297Nx.all > div:nth-child(3) > div > div.row--3Vhjr.main-container--28aG5.justify-content-flex-start--1Xozy.align-items-normal--vaTgD.flex-wrap-wrap--2PCx8.flex-direction-row--27fh1.flex--3fKk1 > div.sm-col-12--30zDS.lg-col-9--20qCf.block--3v-Ow > div.ad-list-container--1UnyA > div > div.ad-list--2Y3ql > div.list-wrapper--t_A02 > ul > li:nth-child({i}) > a')\n",
    "#             single_url = single_url[0].attrs['href']\n",
    "            single_page_urls.append(single_url)\n",
    "            url_cnt += 1\n",
    "            print(\"Page: \" + str(page_cnt) + \" URL: \" + str(url_cnt))\n",
    "        except Exception as e:\n",
    "            print(e) \n",
    "            print('Not details link')\n",
    "    \n",
    "#     clear_output(wait=True)\n",
    "print(time.time()-start)\n",
    "# driver.maximize_window()"
   ]
  },
  {
   "cell_type": "code",
   "execution_count": null,
   "metadata": {},
   "outputs": [],
   "source": []
  },
  {
   "cell_type": "code",
   "execution_count": null,
   "metadata": {},
   "outputs": [],
   "source": [
    "len(single_page_urls), single_page_urls"
   ]
  },
  {
   "cell_type": "code",
   "execution_count": null,
   "metadata": {},
   "outputs": [],
   "source": [
    "url = 'https://bikroy.com/en/ad/microtek-solar-ips-1435-850w-12v-10-led-5-fan-for-sale-dhaka'\n",
    "driver.get(url)\n",
    "x = show_more_click(driver)\n",
    "x"
   ]
  },
  {
   "cell_type": "code",
   "execution_count": null,
   "metadata": {},
   "outputs": [],
   "source": [
    "temp = single_url[0].attrs['href']\n",
    "temp"
   ]
  },
  {
   "cell_type": "code",
   "execution_count": null,
   "metadata": {},
   "outputs": [],
   "source": []
  },
  {
   "cell_type": "code",
   "execution_count": null,
   "metadata": {},
   "outputs": [],
   "source": [
    "with open('category_url/home-living_product_urls.txt', 'w') as f:\n",
    "    for s in single_page_urls:\n",
    "        f.write(s)\n",
    "        f.write('\\n')"
   ]
  },
  {
   "cell_type": "code",
   "execution_count": 3,
   "metadata": {},
   "outputs": [],
   "source": [
    "def title_scrap(driver):\n",
    "    try:\n",
    "        title = driver.find_element(by=By.TAG_NAME, value='h1').text\n",
    "        print(\"Title: \", title)\n",
    "        return title        \n",
    "    except:\n",
    "        print(\"Product Not found. May be sold out!\")\n",
    "        return None"
   ]
  },
  {
   "cell_type": "code",
   "execution_count": 4,
   "metadata": {},
   "outputs": [],
   "source": [
    "def time_location_scrap(driver):\n",
    "    time_location = driver.find_element(by=By.CLASS_NAME, value='sub-title--37mkY').text\n",
    "    print(\"Time & Location: \", time_location)\n",
    "\n",
    "    return time_location"
   ]
  },
  {
   "cell_type": "code",
   "execution_count": 5,
   "metadata": {},
   "outputs": [],
   "source": [
    "def price_scrap(driver):\n",
    "    price = driver.find_element(by=By.CLASS_NAME, value='amount--3NTpl').text\n",
    "    print(\"Price: \", price)\n",
    "\n",
    "    return price"
   ]
  },
  {
   "cell_type": "code",
   "execution_count": 14,
   "metadata": {},
   "outputs": [],
   "source": [
    "def image_scrap(driver, category):\n",
    "    try:\n",
    "        images = driver.find_element(by=By.XPATH, value='//*[@id=\"app-wrapper\"]/div[1]/div[2]/div[2]/div[3]/div[2]/div/div[1]/div/div[1]/div/div/ul')\n",
    "        img_path = []\n",
    "        for img in images.find_elements(by=By.TAG_NAME,value='img'):\n",
    "            img_urls = img.get_attribute('src') ## main link = img_urls\n",
    "\n",
    "            img_urls_firstname = '/'.join(img_urls.split('/')[:-3])## main link thak 3 ta character bad\n",
    "            \n",
    "\n",
    "            \n",
    "            img_urls_rename = img_urls_firstname + '/620/466/fitted.jpg'## main link e 3 ta character plus\n",
    "                                                                        ## ei khane ekta new link create korlo\n",
    "           \n",
    "\n",
    "            img_name = '@'.join(img_urls_firstname.split('/')[-2:])## -2 index thaka string ta start hoise. and itz img_name\n",
    "\n",
    "            r = requests.get(img_urls_rename)\n",
    "            i = Image.open(BytesIO(r.content))\n",
    "            i.save(f\"E:/DS - IIUC/Python/classes/second class scraping/image/{category}/{img_name}.jpg\")\n",
    "            img_path.append(img_name)\n",
    "        return img_path\n",
    "    except:\n",
    "        print('No images')        \n",
    "        return 'N/A'"
   ]
  },
  {
   "cell_type": "code",
   "execution_count": 7,
   "metadata": {},
   "outputs": [],
   "source": [
    "def meta_data_scrap(driver):\n",
    "    try:\n",
    "        meta_data = driver.find_element(by=By.XPATH, value='//*[@id=\"app-wrapper\"]/div[1]/div[2]/div[2]/div[3]/div[2]/div/div[1]/div/div[2]/div[2]')\n",
    "\n",
    "        md = meta_data.find_elements(by=By.TAG_NAME,value='div')\n",
    "        meta_dic = {}\n",
    "        for m in md:\n",
    "            m = m.text\n",
    "            if '\\n' in m:\n",
    "                key, val = m.split('\\n')[0].replace(':', ''), m.split('\\n')[1]\n",
    "                meta_dic[key] = val\n",
    "        print(\"Meta Data: \", meta_dic)\n",
    "        return meta_dic\n",
    "    except:\n",
    "        print('No meta data found')        \n",
    "        return 'N/A'"
   ]
  },
  {
   "cell_type": "code",
   "execution_count": 8,
   "metadata": {},
   "outputs": [],
   "source": [
    "def show_more_click(driver):    \n",
    "    try:\n",
    "        s_driver.find_element(by=By.CLASS_NAME, value='show-text--13FcL').click()\n",
    "#         s_driver.find_element(by=By.XPATH, value='//*[@id=\"app-wrapper\"]/div[1]/div[2]/div[2]/div[3]/div[2]/div/div[1]/div/div[2]/div[3]/div/div[2]/div/div[2]/button').click()\n",
    "        time.sleep(2)\n",
    "    except:\n",
    "        print(\"No 'Show more' button\")"
   ]
  },
  {
   "cell_type": "code",
   "execution_count": 13,
   "metadata": {},
   "outputs": [],
   "source": [
    "def feature_scrap(driver):\n",
    "    try:\n",
    "        feature = driver.find_element(by=By.CLASS_NAME, value='text--Xap4O').text\n",
    "#         feature = s_driver.find_element(by=By.XPATH, value='//*[@id=\"app-wrapper\"]/div[1]/div[2]/div[2]/div[1]/div[1]/div/div[1]/div/div[2]/div[4]/p').text\n",
    "#         feature = feature.find_elements(by=By.TAG_NAME,value='p').text\n",
    "        print('Features: ', feature)\n",
    "        return feature\n",
    "    except:\n",
    "        print(\"No feature\")        \n",
    "        return 'N/A'"
   ]
  },
  {
   "cell_type": "code",
   "execution_count": 9,
   "metadata": {},
   "outputs": [],
   "source": [
    "def description_scrap(driver):\n",
    "    # desc = s_driver.find_element_by_xpath('/html/body/div[1]/div/div[1]/div[2]/div[2]/div[3]/div[2]/div/div[1]/div/div[2]/div[3]/div/div[2]/div/div[1]/div/ul/div')\n",
    "    # description[0].text\n",
    "    # description = [d.text.replace(\"'\\uf076\", \"\").replace(\"''\\uf0d8\", \"\") for d in desc.find_elements_by_tag_name('p')]\n",
    "    # print(description)\n",
    "\n",
    "    try:\n",
    "        desc = driver.find_element(by=By.CLASS_NAME, value='description--1nRbz').text\n",
    "        print(\"Description: \", desc)\n",
    "        return desc\n",
    "    except:\n",
    "        print(\"No description\")        \n",
    "        return 'N/A'"
   ]
  },
  {
   "cell_type": "code",
   "execution_count": 10,
   "metadata": {},
   "outputs": [],
   "source": [
    "def open_driver():\n",
    "    op = webdriver.ChromeOptions()\n",
    "    op.add_argument('headless')\n",
    "    s = Service('chromedriver')\n",
    "    driver = webdriver.Chrome(service=s, options=op)\n",
    "    return driver"
   ]
  },
  {
   "cell_type": "code",
   "execution_count": 11,
   "metadata": {},
   "outputs": [],
   "source": [
    "def product_scrap(driver, url, category):\n",
    "    driver.get(url)\n",
    "    time.sleep(5)\n",
    "\n",
    "    # single page data scrapping\n",
    "    title = title_scrap(driver)\n",
    "    # if title not found (product sold) don't proceed further for other data\n",
    "    if not title:\n",
    "        return [None]*7\n",
    "    # scrapping time and location\n",
    "    time_location = time_location_scrap(driver)\n",
    "    \n",
    "    # scrapping price\n",
    "    price = price_scrap(driver)\n",
    "    \n",
    "    # scrapping all images\n",
    "    images = image_scrap(driver, category)\n",
    "    \n",
    "\n",
    "    # extractig meta data\n",
    "    meta_data = meta_data_scrap(driver)\n",
    "        \n",
    "    # click on show_more button\n",
    "    show_more_click(driver)\n",
    "\n",
    "    # extracting feature data\n",
    "    feature = feature_scrap(driver)\n",
    "    \n",
    "    # extracting description\n",
    "    description = description_scrap(driver)\n",
    "    \n",
    "    return title, time_location, price, images, meta_data, feature, description"
   ]
  },
  {
   "cell_type": "code",
   "execution_count": 15,
   "metadata": {
    "scrolled": true
   },
   "outputs": [
    {
     "name": "stdout",
     "output_type": "stream",
     "text": [
      "3 https://bikroy.com/en/ad/computer-table-for-sale-sylhet-566\n",
      "Title:  Computer Table\n",
      "Time & Location:  Posted on 11 Oct 1:41 am, Balaganj, Sylhet\n",
      "Price:  Tk 1,550\n",
      "Meta Data:  {'Condition': 'Used', 'Furniture type': 'Tables & Chairs'}\n",
      "No 'Show more' button\n",
      "No feature\n",
      "Description:  1 Year used.\n",
      "=============================================\n"
     ]
    }
   ],
   "source": [
    "category = 'mobile'\n",
    "with open('mobile_product_urls.txt', 'r') as f:\n",
    "    single_url = f.readlines()\n",
    "    titles, locations, prices, img_lst, meta_lst,  feature_lst, desc_lst = [], [], [], [], [], [], []\n",
    "    cnt = 1\n",
    "#     print(single_url)\n",
    "    for s in single_url:\n",
    "        print(cnt, s)\n",
    "        driver = open_driver()\n",
    "        \n",
    "        title, time_location, price, images, meta_data, feature, description = product_scrap(driver, s, category)\n",
    "        if title:\n",
    "            titles.append(title)\n",
    "            locations.append(time_location)\n",
    "            prices.append(price)\n",
    "            img_lst.append(images)\n",
    "            meta_lst.append(meta_data)\n",
    "            feature_lst.append(feature)\n",
    "            desc_lst.append(description) \n",
    "\n",
    "            cnt += 1\n",
    "            print(\"=============================================\")\n",
    "            clear_output(wait=True)"
   ]
  },
  {
   "cell_type": "code",
   "execution_count": null,
   "metadata": {},
   "outputs": [],
   "source": [
    "driver.get('https://bikroy.com/bn/ad/realme-x7-5g-6128-used-for-sale-barishal')\n",
    "desc = driver.find_element(by=By.CLASS_NAME, value='description--1nRbz').text\n",
    "desc\n"
   ]
  },
  {
   "cell_type": "code",
   "execution_count": null,
   "metadata": {},
   "outputs": [],
   "source": [
    "df_lst = [titles, locations, prices, img_lst, meta_lst,  feature_lst, desc_lst, single_url[:2]]\n",
    "column_lst = ['Title', 'Location', 'Price', 'Images', 'Meta Data', 'Feature', 'Description', 'URL']\n",
    "df = pd.DataFrame (df_lst).T\n",
    "df.columns = column_lst\n",
    "df.to_csv(f'csv/{category}.csv', index=False)\n",
    "df.head()\n"
   ]
  },
  {
   "cell_type": "code",
   "execution_count": null,
   "metadata": {},
   "outputs": [],
   "source": [
    "titles"
   ]
  },
  {
   "cell_type": "code",
   "execution_count": null,
   "metadata": {},
   "outputs": [],
   "source": []
  }
 ],
 "metadata": {
  "kernelspec": {
   "display_name": "Python 3",
   "language": "python",
   "name": "python3"
  },
  "language_info": {
   "codemirror_mode": {
    "name": "ipython",
    "version": 3
   },
   "file_extension": ".py",
   "mimetype": "text/x-python",
   "name": "python",
   "nbconvert_exporter": "python",
   "pygments_lexer": "ipython3",
   "version": "3.8.8"
  }
 },
 "nbformat": 4,
 "nbformat_minor": 4
}
