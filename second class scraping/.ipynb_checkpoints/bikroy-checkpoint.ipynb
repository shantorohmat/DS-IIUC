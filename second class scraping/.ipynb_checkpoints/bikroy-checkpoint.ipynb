{
 "cells": [
  {
   "cell_type": "code",
   "execution_count": 1,
   "id": "30d525d8",
   "metadata": {
    "collapsed": true
   },
   "outputs": [
    {
     "name": "stdout",
     "output_type": "stream",
     "text": [
      "Requirement already satisfied: requests_html in c:\\users\\hp\\anaconda3\\lib\\site-packages (0.10.0)\n",
      "Requirement already satisfied: requests in c:\\users\\hp\\anaconda3\\lib\\site-packages (from requests_html) (2.25.1)\n",
      "Requirement already satisfied: pyquery in c:\\users\\hp\\anaconda3\\lib\\site-packages (from requests_html) (1.4.3)\n",
      "Requirement already satisfied: bs4 in c:\\users\\hp\\anaconda3\\lib\\site-packages (from requests_html) (0.0.1)\n",
      "Requirement already satisfied: parse in c:\\users\\hp\\anaconda3\\lib\\site-packages (from requests_html) (1.19.0)\n",
      "Requirement already satisfied: w3lib in c:\\users\\hp\\anaconda3\\lib\\site-packages (from requests_html) (2.0.1)\n",
      "Requirement already satisfied: pyppeteer>=0.0.14 in c:\\users\\hp\\anaconda3\\lib\\site-packages (from requests_html) (1.0.2)\n",
      "Requirement already satisfied: fake-useragent in c:\\users\\hp\\anaconda3\\lib\\site-packages (from requests_html) (0.1.11)\n",
      "Requirement already satisfied: urllib3<2.0.0,>=1.25.8 in c:\\users\\hp\\anaconda3\\lib\\site-packages (from pyppeteer>=0.0.14->requests_html) (1.26.4)\n",
      "Requirement already satisfied: websockets<11.0,>=10.0 in c:\\users\\hp\\anaconda3\\lib\\site-packages (from pyppeteer>=0.0.14->requests_html) (10.3)\n",
      "Requirement already satisfied: importlib-metadata>=1.4 in c:\\users\\hp\\anaconda3\\lib\\site-packages (from pyppeteer>=0.0.14->requests_html) (4.10.1)\n",
      "Requirement already satisfied: certifi>=2021 in c:\\users\\hp\\anaconda3\\lib\\site-packages (from pyppeteer>=0.0.14->requests_html) (2022.6.15)\n",
      "Requirement already satisfied: tqdm<5.0.0,>=4.42.1 in c:\\users\\hp\\anaconda3\\lib\\site-packages (from pyppeteer>=0.0.14->requests_html) (4.59.0)\n",
      "Requirement already satisfied: appdirs<2.0.0,>=1.4.3 in c:\\users\\hp\\anaconda3\\lib\\site-packages (from pyppeteer>=0.0.14->requests_html) (1.4.4)\n",
      "Requirement already satisfied: pyee<9.0.0,>=8.1.0 in c:\\users\\hp\\anaconda3\\lib\\site-packages (from pyppeteer>=0.0.14->requests_html) (8.2.2)\n",
      "Requirement already satisfied: zipp>=0.5 in c:\\users\\hp\\anaconda3\\lib\\site-packages (from importlib-metadata>=1.4->pyppeteer>=0.0.14->requests_html) (3.4.1)\n",
      "Requirement already satisfied: beautifulsoup4 in c:\\users\\hp\\anaconda3\\lib\\site-packages (from bs4->requests_html) (4.9.3)\n",
      "Requirement already satisfied: soupsieve>1.2 in c:\\users\\hp\\anaconda3\\lib\\site-packages (from beautifulsoup4->bs4->requests_html) (2.2.1)\n",
      "Requirement already satisfied: lxml>=2.1 in c:\\users\\hp\\anaconda3\\lib\\site-packages (from pyquery->requests_html) (4.6.1)\n",
      "Requirement already satisfied: cssselect>0.7.9 in c:\\users\\hp\\anaconda3\\lib\\site-packages (from pyquery->requests_html) (1.1.0)\n",
      "Requirement already satisfied: chardet<5,>=3.0.2 in c:\\users\\hp\\anaconda3\\lib\\site-packages (from requests->requests_html) (3.0.4)\n",
      "Requirement already satisfied: idna<3,>=2.5 in c:\\users\\hp\\anaconda3\\lib\\site-packages (from requests->requests_html) (2.10)\n"
     ]
    }
   ],
   "source": [
    "!pip install requests_html"
   ]
  },
  {
   "cell_type": "code",
   "execution_count": 2,
   "id": "d4f3c592",
   "metadata": {},
   "outputs": [],
   "source": [
    "from requests_html import HTMLSession"
   ]
  },
  {
   "cell_type": "code",
   "execution_count": 9,
   "id": "4262076f",
   "metadata": {},
   "outputs": [],
   "source": [
    "session = HTMLSession()"
   ]
  },
  {
   "cell_type": "code",
   "execution_count": 6,
   "id": "c5804481",
   "metadata": {},
   "outputs": [],
   "source": [
    "url = \"https://bikroy.com/bn/ad/huawei-mate-10-pro-6-128gb-full-box-new-for-sale-dhaka\""
   ]
  },
  {
   "cell_type": "code",
   "execution_count": 10,
   "id": "4fc60a1d",
   "metadata": {},
   "outputs": [],
   "source": [
    "r = session.get(url)"
   ]
  },
  {
   "cell_type": "code",
   "execution_count": 11,
   "id": "4bc0b1bc",
   "metadata": {},
   "outputs": [
    {
     "data": {
      "text/plain": [
       "<Response [200]>"
      ]
     },
     "execution_count": 11,
     "metadata": {},
     "output_type": "execute_result"
    }
   ],
   "source": [
    "r"
   ]
  },
  {
   "cell_type": "markdown",
   "id": "005e0fbe",
   "metadata": {},
   "source": [
    "## Main work"
   ]
  },
  {
   "cell_type": "code",
   "execution_count": 30,
   "id": "03a3aedc",
   "metadata": {},
   "outputs": [
    {
     "name": "stdout",
     "output_type": "stream",
     "text": [
      "<Element 'div' class=('amount--3NTpl',)>\n"
     ]
    }
   ],
   "source": [
    "price = r.html.find('#app-wrapper > div.container--3Gaei.all > div.main-section--34CB3 > div:nth-child(2) > div.details-section--2ggRy > div.justify-content-flex-start--1Xozy.align-items-normal--vaTgD.flex-wrap-nowrap--3IpfJ.flex-direction-row--27fh1.flex--3fKk1 > div > div.sm-col-12--30zDS.lg-col-8--3483a.block--3v-Ow > div > div.section--PpGYD > div.price-section--3xCm3 > div > div.amount--3NTpl',first=True)\n",
    "print(price)"
   ]
  },
  {
   "cell_type": "code",
   "execution_count": 32,
   "id": "941bc216",
   "metadata": {},
   "outputs": [
    {
     "data": {
      "text/plain": [
       "'৳ ১১,৪৯৪'"
      ]
     },
     "execution_count": 32,
     "metadata": {},
     "output_type": "execute_result"
    }
   ],
   "source": [
    "price.text"
   ]
  },
  {
   "cell_type": "code",
   "execution_count": 55,
   "id": "7bd6f0f3",
   "metadata": {},
   "outputs": [],
   "source": [
    "title = r.html.find('#app-wrapper > div.container--3Gaei.all > div.main-section--34CB3 > div:nth-child(2) > div.details-section--2ggRy > div.justify-content-flex-start--1Xozy.align-items-normal--vaTgD.flex-wrap-nowrap--3IpfJ.flex-direction-row--27fh1.flex--3fKk1 > div > div.sm-col-12--30zDS.lg-col-8--3483a.block--3v-Ow > div > div.section--PpGYD > div.ad-meta--17Bqm.justify-content-flex-start--1Xozy.align-items-normal--vaTgD.flex-wrap-wrap--2PCx8.flex-direction-row--27fh1.flex--3fKk1 > div:nth-child(2)',first = True)"
   ]
  },
  {
   "cell_type": "code",
   "execution_count": 57,
   "id": "d7ccc0fb",
   "metadata": {},
   "outputs": [
    {
     "data": {
      "text/plain": [
       "'ব্র্যান্ড:\\nHuawei'"
      ]
     },
     "execution_count": 57,
     "metadata": {},
     "output_type": "execute_result"
    }
   ],
   "source": [
    "title.text"
   ]
  },
  {
   "cell_type": "code",
   "execution_count": null,
   "id": "5c129276",
   "metadata": {},
   "outputs": [],
   "source": []
  }
 ],
 "metadata": {
  "kernelspec": {
   "display_name": "Python 3",
   "language": "python",
   "name": "python3"
  },
  "language_info": {
   "codemirror_mode": {
    "name": "ipython",
    "version": 3
   },
   "file_extension": ".py",
   "mimetype": "text/x-python",
   "name": "python",
   "nbconvert_exporter": "python",
   "pygments_lexer": "ipython3",
   "version": "3.8.8"
  }
 },
 "nbformat": 4,
 "nbformat_minor": 5
}
