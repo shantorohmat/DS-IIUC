{
 "cells": [
  {
   "cell_type": "markdown",
   "id": "0a7517cc",
   "metadata": {},
   "source": [
    "## 1D array"
   ]
  },
  {
   "cell_type": "code",
   "execution_count": 1,
   "id": "3feb34e4",
   "metadata": {},
   "outputs": [],
   "source": [
    "array = [0,3,6,9,36,56,66]"
   ]
  },
  {
   "cell_type": "code",
   "execution_count": 2,
   "id": "ca12c7b3",
   "metadata": {},
   "outputs": [
    {
     "data": {
      "text/plain": [
       "list"
      ]
     },
     "execution_count": 2,
     "metadata": {},
     "output_type": "execute_result"
    }
   ],
   "source": [
    "type(array)"
   ]
  },
  {
   "cell_type": "code",
   "execution_count": 2,
   "id": "f5599796",
   "metadata": {},
   "outputs": [],
   "source": [
    "import numpy as np"
   ]
  },
  {
   "cell_type": "code",
   "execution_count": 4,
   "id": "9d7bf9ca",
   "metadata": {},
   "outputs": [],
   "source": [
    "np_array = np.array(array)"
   ]
  },
  {
   "cell_type": "code",
   "execution_count": 5,
   "id": "db739556",
   "metadata": {},
   "outputs": [
    {
     "data": {
      "text/plain": [
       "array([ 0,  3,  6,  9, 36, 56, 66])"
      ]
     },
     "execution_count": 5,
     "metadata": {},
     "output_type": "execute_result"
    }
   ],
   "source": [
    "np_array"
   ]
  },
  {
   "cell_type": "code",
   "execution_count": 6,
   "id": "3d23f30f",
   "metadata": {},
   "outputs": [
    {
     "data": {
      "text/plain": [
       "numpy.ndarray"
      ]
     },
     "execution_count": 6,
     "metadata": {},
     "output_type": "execute_result"
    }
   ],
   "source": [
    "type(np_array)"
   ]
  },
  {
   "cell_type": "markdown",
   "id": "282bcf85",
   "metadata": {},
   "source": [
    "## properties"
   ]
  },
  {
   "cell_type": "markdown",
   "id": "9c4c6249",
   "metadata": {},
   "source": [
    "# dimention"
   ]
  },
  {
   "cell_type": "code",
   "execution_count": 9,
   "id": "34cdf3e2",
   "metadata": {},
   "outputs": [
    {
     "name": "stdout",
     "output_type": "stream",
     "text": [
      "ndim: 1\n"
     ]
    }
   ],
   "source": [
    "print(f\"dimention: {np_array.ndim}\") ## dimention of the arrray"
   ]
  },
  {
   "cell_type": "markdown",
   "id": "e1628584",
   "metadata": {},
   "source": [
    "# shape"
   ]
  },
  {
   "cell_type": "code",
   "execution_count": 10,
   "id": "066199c0",
   "metadata": {},
   "outputs": [
    {
     "name": "stdout",
     "output_type": "stream",
     "text": [
      "shape: (7,)\n"
     ]
    }
   ],
   "source": [
    "print(f\"shape: {np_array.shape}\") ## size of the array of each dimention (row,col)"
   ]
  },
  {
   "cell_type": "markdown",
   "id": "54238fa7",
   "metadata": {},
   "source": [
    "# size"
   ]
  },
  {
   "cell_type": "code",
   "execution_count": 11,
   "id": "246ed870",
   "metadata": {},
   "outputs": [
    {
     "name": "stdout",
     "output_type": "stream",
     "text": [
      "size: 7\n"
     ]
    }
   ],
   "source": [
    "print(f\"size: {np_array.size}\") ## size of the array"
   ]
  },
  {
   "cell_type": "markdown",
   "id": "bbe53c23",
   "metadata": {},
   "source": [
    "# data type"
   ]
  },
  {
   "cell_type": "code",
   "execution_count": 12,
   "id": "369c1e9f",
   "metadata": {},
   "outputs": [
    {
     "name": "stdout",
     "output_type": "stream",
     "text": [
      "data type: int32\n"
     ]
    }
   ],
   "source": [
    "print(f\"data type: {np_array.dtype}\") ## data type of the element in the array"
   ]
  },
  {
   "cell_type": "markdown",
   "id": "55bcc3cc",
   "metadata": {},
   "source": [
    "## 2D array"
   ]
  },
  {
   "cell_type": "code",
   "execution_count": 35,
   "id": "3d3b8662",
   "metadata": {},
   "outputs": [],
   "source": [
    "array2d = [[0,3,6,9],[4,16,32,64],[5,10,15,20]]"
   ]
  },
  {
   "cell_type": "code",
   "execution_count": 36,
   "id": "3257da53",
   "metadata": {},
   "outputs": [],
   "source": [
    "np_array2d = np.array(array2d)"
   ]
  },
  {
   "cell_type": "code",
   "execution_count": 37,
   "id": "5fda0efd",
   "metadata": {},
   "outputs": [
    {
     "data": {
      "text/plain": [
       "numpy.ndarray"
      ]
     },
     "execution_count": 37,
     "metadata": {},
     "output_type": "execute_result"
    }
   ],
   "source": [
    "type(np_array2d)"
   ]
  },
  {
   "cell_type": "code",
   "execution_count": 38,
   "id": "857ee7ca",
   "metadata": {},
   "outputs": [
    {
     "name": "stdout",
     "output_type": "stream",
     "text": [
      "[[ 0  3  6  9]\n",
      " [ 4 16 32 64]\n",
      " [ 5 10 15 20]]\n"
     ]
    }
   ],
   "source": [
    "print(np_array2d)"
   ]
  },
  {
   "cell_type": "markdown",
   "id": "eea0f3e9",
   "metadata": {},
   "source": [
    "# properties"
   ]
  },
  {
   "cell_type": "code",
   "execution_count": 39,
   "id": "bb533de3",
   "metadata": {},
   "outputs": [
    {
     "name": "stdout",
     "output_type": "stream",
     "text": [
      "dimention: 2\n"
     ]
    }
   ],
   "source": [
    "print(f\"dimention: {np_array2d.ndim}\")"
   ]
  },
  {
   "cell_type": "code",
   "execution_count": 41,
   "id": "e593c3eb",
   "metadata": {},
   "outputs": [
    {
     "name": "stdout",
     "output_type": "stream",
     "text": [
      "shape: (3, 4)\n"
     ]
    }
   ],
   "source": [
    "print(f\"shape: {np_array2d.shape}\") ## row and coloumn"
   ]
  },
  {
   "cell_type": "code",
   "execution_count": 43,
   "id": "bdde0f09",
   "metadata": {},
   "outputs": [
    {
     "name": "stdout",
     "output_type": "stream",
     "text": [
      "size: 12\n"
     ]
    }
   ],
   "source": [
    "print(f\"size: {np_array2d.size}\")"
   ]
  },
  {
   "cell_type": "code",
   "execution_count": 45,
   "id": "71dc355d",
   "metadata": {},
   "outputs": [
    {
     "name": "stdout",
     "output_type": "stream",
     "text": [
      "data type:int32\n"
     ]
    }
   ],
   "source": [
    "print(f\"data type:{np_array2d.dtype}\")"
   ]
  },
  {
   "cell_type": "markdown",
   "id": "5705c6c4",
   "metadata": {},
   "source": [
    "# np.ones((row,col),data type)"
   ]
  },
  {
   "cell_type": "code",
   "execution_count": 48,
   "id": "974ffa26",
   "metadata": {},
   "outputs": [
    {
     "data": {
      "text/plain": [
       "array([[1, 1, 1, 1],\n",
       "       [1, 1, 1, 1],\n",
       "       [1, 1, 1, 1]])"
      ]
     },
     "execution_count": 48,
     "metadata": {},
     "output_type": "execute_result"
    }
   ],
   "source": [
    "np.ones((3,4),int)"
   ]
  },
  {
   "cell_type": "markdown",
   "id": "e15afea6",
   "metadata": {},
   "source": [
    "# np.zeros((row,col),data type)"
   ]
  },
  {
   "cell_type": "code",
   "execution_count": 50,
   "id": "c98614ee",
   "metadata": {},
   "outputs": [
    {
     "data": {
      "text/plain": [
       "array([[0, 0, 0, 0],\n",
       "       [0, 0, 0, 0],\n",
       "       [0, 0, 0, 0]])"
      ]
     },
     "execution_count": 50,
     "metadata": {},
     "output_type": "execute_result"
    }
   ],
   "source": [
    "np.zeros((3,4),int)"
   ]
  },
  {
   "cell_type": "markdown",
   "id": "ede709b9",
   "metadata": {},
   "source": [
    "# np.arange(start,stop,step)"
   ]
  },
  {
   "cell_type": "code",
   "execution_count": 53,
   "id": "4fea393d",
   "metadata": {},
   "outputs": [
    {
     "data": {
      "text/plain": [
       "array([ 1,  2,  3,  4,  5,  6,  7,  8,  9, 10])"
      ]
     },
     "execution_count": 53,
     "metadata": {},
     "output_type": "execute_result"
    }
   ],
   "source": [
    "np.arange(1,11,1)"
   ]
  },
  {
   "cell_type": "markdown",
   "id": "fd61fd5b",
   "metadata": {},
   "source": [
    "# np.linspace(start,stop,num = 50,retstep = True) "
   ]
  },
  {
   "cell_type": "code",
   "execution_count": 60,
   "id": "4e3278d8",
   "metadata": {},
   "outputs": [
    {
     "data": {
      "text/plain": [
       "(array([ 1.        ,  3.11111111,  5.22222222,  7.33333333,  9.44444444,\n",
       "        11.55555556, 13.66666667, 15.77777778, 17.88888889, 20.        ]),\n",
       " 2.111111111111111)"
      ]
     },
     "execution_count": 60,
     "metadata": {},
     "output_type": "execute_result"
    }
   ],
   "source": [
    "np.linspace(1,20,10,retstep = True)"
   ]
  },
  {
   "cell_type": "markdown",
   "id": "a77faf99",
   "metadata": {},
   "source": [
    "# arr = np.array(new array)\n",
    "# arr.reshape(3,4)"
   ]
  },
  {
   "cell_type": "code",
   "execution_count": 76,
   "id": "bb54f45d",
   "metadata": {},
   "outputs": [
    {
     "data": {
      "text/plain": [
       "array([[1, 1, 1, 1],\n",
       "       [1, 1, 1, 1],\n",
       "       [1, 1, 1, 1]])"
      ]
     },
     "execution_count": 76,
     "metadata": {},
     "output_type": "execute_result"
    }
   ],
   "source": [
    "ones = np.ones((3,4),int)\n",
    "ones"
   ]
  },
  {
   "cell_type": "code",
   "execution_count": 77,
   "id": "5af908e0",
   "metadata": {},
   "outputs": [
    {
     "data": {
      "text/plain": [
       "array([[1, 1, 1],\n",
       "       [1, 1, 1],\n",
       "       [1, 1, 1],\n",
       "       [1, 1, 1]])"
      ]
     },
     "execution_count": 77,
     "metadata": {},
     "output_type": "execute_result"
    }
   ],
   "source": [
    "ones.reshape(4,3)"
   ]
  },
  {
   "cell_type": "code",
   "execution_count": 81,
   "id": "313f45e6",
   "metadata": {},
   "outputs": [
    {
     "data": {
      "text/plain": [
       "array([ 1,  2,  3,  4,  5,  6,  7,  8,  9, 10, 11, 12])"
      ]
     },
     "execution_count": 81,
     "metadata": {},
     "output_type": "execute_result"
    }
   ],
   "source": [
    "arr = np.arange(1,13,1)\n",
    "arr"
   ]
  },
  {
   "cell_type": "code",
   "execution_count": 82,
   "id": "210febaf",
   "metadata": {},
   "outputs": [
    {
     "data": {
      "text/plain": [
       "array([[ 1,  2,  3,  4],\n",
       "       [ 5,  6,  7,  8],\n",
       "       [ 9, 10, 11, 12]])"
      ]
     },
     "execution_count": 82,
     "metadata": {},
     "output_type": "execute_result"
    }
   ],
   "source": [
    "arr.reshape(3,4)"
   ]
  },
  {
   "cell_type": "markdown",
   "id": "64ac4b52",
   "metadata": {},
   "source": [
    "# np.full((row,col),value= x)"
   ]
  },
  {
   "cell_type": "code",
   "execution_count": 83,
   "id": "1b560964",
   "metadata": {},
   "outputs": [
    {
     "data": {
      "text/plain": [
       "array([[5, 5, 5, 5],\n",
       "       [5, 5, 5, 5],\n",
       "       [5, 5, 5, 5]])"
      ]
     },
     "execution_count": 83,
     "metadata": {},
     "output_type": "execute_result"
    }
   ],
   "source": [
    "np.full((3,4),5)"
   ]
  },
  {
   "cell_type": "markdown",
   "id": "c4b5b19b",
   "metadata": {},
   "source": [
    "# np.eye(row,col,key = 0,data type)"
   ]
  },
  {
   "cell_type": "code",
   "execution_count": 90,
   "id": "104bc65a",
   "metadata": {},
   "outputs": [
    {
     "data": {
      "text/plain": [
       "array([[1, 0, 0, 0],\n",
       "       [0, 1, 0, 0],\n",
       "       [0, 0, 1, 0]])"
      ]
     },
     "execution_count": 90,
     "metadata": {},
     "output_type": "execute_result"
    }
   ],
   "source": [
    "np.eye(3,4,0,int)"
   ]
  },
  {
   "cell_type": "markdown",
   "id": "46683c11",
   "metadata": {},
   "source": [
    "# np.random.random((row,col))"
   ]
  },
  {
   "cell_type": "code",
   "execution_count": 9,
   "id": "f1fe09d2",
   "metadata": {},
   "outputs": [
    {
     "data": {
      "text/plain": [
       "array([[0.28086539, 0.73666591, 0.18811426, 0.77695958],\n",
       "       [0.77382199, 0.26992642, 0.53554305, 0.58149021],\n",
       "       [0.59501009, 0.36475386, 0.91726093, 0.82384388]])"
      ]
     },
     "execution_count": 9,
     "metadata": {},
     "output_type": "execute_result"
    }
   ],
   "source": [
    "np.random.random((3,4))"
   ]
  },
  {
   "cell_type": "markdown",
   "id": "e93e68b2",
   "metadata": {},
   "source": [
    "# default_rng(1234)"
   ]
  },
  {
   "cell_type": "code",
   "execution_count": 10,
   "id": "78d0598e",
   "metadata": {},
   "outputs": [],
   "source": [
    "from numpy.random import default_rng"
   ]
  },
  {
   "cell_type": "code",
   "execution_count": 13,
   "id": "df6852b1",
   "metadata": {},
   "outputs": [],
   "source": [
    "rng = default_rng(246)"
   ]
  },
  {
   "cell_type": "code",
   "execution_count": 14,
   "id": "d0dc84e1",
   "metadata": {},
   "outputs": [],
   "source": [
    "random_arr = rng.random((3,4))"
   ]
  },
  {
   "cell_type": "code",
   "execution_count": 16,
   "id": "45d211cd",
   "metadata": {},
   "outputs": [
    {
     "data": {
      "text/plain": [
       "array([[0.25241047, 0.31855919, 0.78288238, 0.71969598],\n",
       "       [0.76868974, 0.21324298, 0.84089393, 0.96889796],\n",
       "       [0.12970586, 0.17215766, 0.99165005, 0.23770549]])"
      ]
     },
     "execution_count": 16,
     "metadata": {},
     "output_type": "execute_result"
    }
   ],
   "source": [
    "random_arr"
   ]
  },
  {
   "cell_type": "code",
   "execution_count": 17,
   "id": "782142a7",
   "metadata": {},
   "outputs": [],
   "source": [
    "rng = default_rng(1234)"
   ]
  },
  {
   "cell_type": "code",
   "execution_count": 18,
   "id": "5d5befb1",
   "metadata": {},
   "outputs": [],
   "source": [
    "mean,std_d = 2,0.8"
   ]
  },
  {
   "cell_type": "code",
   "execution_count": 19,
   "id": "40c74f6e",
   "metadata": {},
   "outputs": [],
   "source": [
    "random_array = rng.normal(mean,std_d,(3,4))"
   ]
  },
  {
   "cell_type": "code",
   "execution_count": 20,
   "id": "6b61a8e7",
   "metadata": {},
   "outputs": [
    {
     "data": {
      "text/plain": [
       "array([[0.71693056, 2.05127993, 2.59271304, 2.12209535],\n",
       "       [2.69099511, 4.33047938, 0.81694131, 2.75637838],\n",
       "       [0.66709163, 2.27499567, 1.59004503, 3.05900717]])"
      ]
     },
     "execution_count": 20,
     "metadata": {},
     "output_type": "execute_result"
    }
   ],
   "source": [
    "random_array"
   ]
  },
  {
   "cell_type": "code",
   "execution_count": 21,
   "id": "10ffffb8",
   "metadata": {},
   "outputs": [
    {
     "data": {
      "text/plain": [
       "array([[0.71693056, 2.69099511, 0.66709163],\n",
       "       [2.05127993, 4.33047938, 2.27499567],\n",
       "       [2.59271304, 0.81694131, 1.59004503],\n",
       "       [2.12209535, 2.75637838, 3.05900717]])"
      ]
     },
     "execution_count": 21,
     "metadata": {},
     "output_type": "execute_result"
    }
   ],
   "source": [
    "random_array.T"
   ]
  },
  {
   "cell_type": "markdown",
   "id": "9a38ffb5",
   "metadata": {},
   "source": [
    "# 1D Array Indexing & Slicing"
   ]
  },
  {
   "cell_type": "markdown",
   "id": "703e5dff",
   "metadata": {},
   "source": [
    "Indexing & slicing one-dimensional arrays is the same as base Python\n",
    "\n",
    "array[index] – indexing to access a single element (0-indexed)\n",
    "\n",
    "array[start:stop:step size] – slicing to access a series of elements (stop is not inclusive)"
   ]
  },
  {
   "cell_type": "code",
   "execution_count": 26,
   "id": "b32a950b",
   "metadata": {},
   "outputs": [
    {
     "data": {
      "text/plain": [
       "array([5, 6, 7, 8, 9])"
      ]
     },
     "execution_count": 26,
     "metadata": {},
     "output_type": "execute_result"
    }
   ],
   "source": [
    "new_arr = np.arange(5,10)\n",
    "new_arr"
   ]
  },
  {
   "cell_type": "code",
   "execution_count": 28,
   "id": "1749614e",
   "metadata": {},
   "outputs": [
    {
     "data": {
      "text/plain": [
       "8"
      ]
     },
     "execution_count": 28,
     "metadata": {},
     "output_type": "execute_result"
    }
   ],
   "source": [
    "new_arr[3] # 4 th index element"
   ]
  },
  {
   "cell_type": "code",
   "execution_count": 30,
   "id": "606c485e",
   "metadata": {},
   "outputs": [
    {
     "data": {
      "text/plain": [
       "8"
      ]
     },
     "execution_count": 30,
     "metadata": {},
     "output_type": "execute_result"
    }
   ],
   "source": [
    "new_arr[-2] # 2nd last element"
   ]
  },
  {
   "cell_type": "code",
   "execution_count": 33,
   "id": "12d2dc6f",
   "metadata": {},
   "outputs": [
    {
     "data": {
      "text/plain": [
       "array([5, 6, 7])"
      ]
     },
     "execution_count": 33,
     "metadata": {},
     "output_type": "execute_result"
    }
   ],
   "source": [
    "new_arr[0:3] # Last index is exculded"
   ]
  },
  {
   "cell_type": "code",
   "execution_count": 34,
   "id": "cf42a91e",
   "metadata": {},
   "outputs": [
    {
     "data": {
      "text/plain": [
       "array([5, 7, 9])"
      ]
     },
     "execution_count": 34,
     "metadata": {},
     "output_type": "execute_result"
    }
   ],
   "source": [
    "new_arr[::2]"
   ]
  },
  {
   "cell_type": "code",
   "execution_count": 35,
   "id": "a1eaa710",
   "metadata": {},
   "outputs": [],
   "source": [
    "new_arr[-1] = 15"
   ]
  },
  {
   "cell_type": "code",
   "execution_count": 36,
   "id": "70ebc55a",
   "metadata": {},
   "outputs": [
    {
     "data": {
      "text/plain": [
       "array([ 5,  6,  7,  8, 15])"
      ]
     },
     "execution_count": 36,
     "metadata": {},
     "output_type": "execute_result"
    }
   ],
   "source": [
    "new_arr"
   ]
  },
  {
   "cell_type": "code",
   "execution_count": 37,
   "id": "0bc2e80e",
   "metadata": {},
   "outputs": [],
   "source": [
    "new_arr[0:3] = [1,2,3]"
   ]
  },
  {
   "cell_type": "code",
   "execution_count": 38,
   "id": "b5a7e323",
   "metadata": {},
   "outputs": [
    {
     "data": {
      "text/plain": [
       "array([ 1,  2,  3,  8, 15])"
      ]
     },
     "execution_count": 38,
     "metadata": {},
     "output_type": "execute_result"
    }
   ],
   "source": [
    "new_arr"
   ]
  },
  {
   "cell_type": "markdown",
   "id": "a5de84b2",
   "metadata": {},
   "source": [
    "# 2D array"
   ]
  },
  {
   "cell_type": "markdown",
   "id": "fa84f304",
   "metadata": {},
   "source": [
    "Indexing & slicing two-dimensional arrays requires an extra index or slice\n",
    "\n",
    "array[row index, column index] – indexing to access a single element (0-indexed)\n",
    "\n",
    "array[start:stop:step_size, start:stop:step_size] – slicing to access a series of elements"
   ]
  },
  {
   "cell_type": "code",
   "execution_count": 57,
   "id": "a618501f",
   "metadata": {},
   "outputs": [
    {
     "data": {
      "text/plain": [
       "array([ 0,  1,  2,  3,  4,  5,  6,  7,  8,  9, 10, 11, 12, 13, 14, 15])"
      ]
     },
     "execution_count": 57,
     "metadata": {},
     "output_type": "execute_result"
    }
   ],
   "source": [
    "array = np.arange(16)\n",
    "array"
   ]
  },
  {
   "cell_type": "code",
   "execution_count": 58,
   "id": "9fd7ec7f",
   "metadata": {},
   "outputs": [],
   "source": [
    "new_array = array.reshape((4,4))"
   ]
  },
  {
   "cell_type": "code",
   "execution_count": 59,
   "id": "7aa6765e",
   "metadata": {},
   "outputs": [
    {
     "data": {
      "text/plain": [
       "array([[ 0,  1,  2,  3],\n",
       "       [ 4,  5,  6,  7],\n",
       "       [ 8,  9, 10, 11],\n",
       "       [12, 13, 14, 15]])"
      ]
     },
     "execution_count": 59,
     "metadata": {},
     "output_type": "execute_result"
    }
   ],
   "source": [
    "new_array"
   ]
  },
  {
   "cell_type": "code",
   "execution_count": 60,
   "id": "543b6f53",
   "metadata": {},
   "outputs": [
    {
     "data": {
      "text/plain": [
       "array([4, 5, 6, 7])"
      ]
     },
     "execution_count": 60,
     "metadata": {},
     "output_type": "execute_result"
    }
   ],
   "source": [
    "new_array[1]"
   ]
  },
  {
   "cell_type": "code",
   "execution_count": 63,
   "id": "8133ff8e",
   "metadata": {},
   "outputs": [
    {
     "name": "stdout",
     "output_type": "stream",
     "text": [
      "6\n",
      "6\n"
     ]
    },
    {
     "data": {
      "text/plain": [
       "array([[ 0,  1,  2,  3],\n",
       "       [ 4,  5,  6,  7],\n",
       "       [ 8,  9, 10, 11],\n",
       "       [12, 13, 14, 15]])"
      ]
     },
     "execution_count": 63,
     "metadata": {},
     "output_type": "execute_result"
    }
   ],
   "source": [
    "print(new_array[1,2])\n",
    "print(new_array[1][2])\n",
    "new_array"
   ]
  },
  {
   "cell_type": "code",
   "execution_count": 69,
   "id": "f1fb280a",
   "metadata": {},
   "outputs": [
    {
     "data": {
      "text/plain": [
       "array([[ 0,  1,  2],\n",
       "       [ 8,  9, 10]])"
      ]
     },
     "execution_count": 69,
     "metadata": {},
     "output_type": "execute_result"
    }
   ],
   "source": [
    "new_array[::2,0:3]"
   ]
  },
  {
   "cell_type": "code",
   "execution_count": 85,
   "id": "48f3f505",
   "metadata": {},
   "outputs": [
    {
     "data": {
      "text/plain": [
       "array([[ 4,  6],\n",
       "       [ 8, 10],\n",
       "       [12, 14]])"
      ]
     },
     "execution_count": 85,
     "metadata": {},
     "output_type": "execute_result"
    }
   ],
   "source": [
    "new_array[1: , [0,2]] # 1 no row thaka start kore baki sob row and spacific col no 0 and 2 nia matrix"
   ]
  },
  {
   "cell_type": "code",
   "execution_count": 75,
   "id": "83ee7961",
   "metadata": {},
   "outputs": [
    {
     "data": {
      "text/plain": [
       "array([[ 0,  1,  2,  3],\n",
       "       [ 4,  5,  6,  7],\n",
       "       [ 8,  9, 10, 11],\n",
       "       [12, 13, 14, 15]])"
      ]
     },
     "execution_count": 75,
     "metadata": {},
     "output_type": "execute_result"
    }
   ],
   "source": [
    "new_array"
   ]
  },
  {
   "cell_type": "code",
   "execution_count": 91,
   "id": "2fe479b9",
   "metadata": {},
   "outputs": [
    {
     "data": {
      "text/plain": [
       "array([[5, 6]])"
      ]
     },
     "execution_count": 91,
     "metadata": {},
     "output_type": "execute_result"
    }
   ],
   "source": [
    "new_array[1:2,1:3] # row 1 er col 1 and 3"
   ]
  },
  {
   "cell_type": "code",
   "execution_count": 92,
   "id": "8117437a",
   "metadata": {},
   "outputs": [
    {
     "data": {
      "text/plain": [
       "array([5, 6])"
      ]
     },
     "execution_count": 92,
     "metadata": {},
     "output_type": "execute_result"
    }
   ],
   "source": [
    "new_array[1,[1,2]] # row 1 er col 1 and 3"
   ]
  },
  {
   "cell_type": "code",
   "execution_count": 97,
   "id": "cbca2ed4",
   "metadata": {},
   "outputs": [
    {
     "name": "stdout",
     "output_type": "stream",
     "text": [
      "[ 2  6 10 14]\n",
      "[ 2  6 10 14]\n"
     ]
    }
   ],
   "source": [
    "print(new_array[0:4,2])\n",
    "print(new_array[[0,1,2,3],2])\n",
    "# 2 no col er 0,1,2,3 row er value"
   ]
  },
  {
   "cell_type": "code",
   "execution_count": 98,
   "id": "93ac9350",
   "metadata": {},
   "outputs": [
    {
     "data": {
      "text/plain": [
       "array([[ 0,  1,  2,  3],\n",
       "       [ 4,  5,  6,  7],\n",
       "       [ 8,  9, 10, 11],\n",
       "       [12, 13, 14, 15]])"
      ]
     },
     "execution_count": 98,
     "metadata": {},
     "output_type": "execute_result"
    }
   ],
   "source": [
    "new_array"
   ]
  },
  {
   "cell_type": "code",
   "execution_count": 105,
   "id": "199f15e2",
   "metadata": {},
   "outputs": [
    {
     "name": "stdout",
     "output_type": "stream",
     "text": [
      "[[10 11]\n",
      " [14 15]]\n",
      "__________\n",
      "[[10 11]\n",
      " [14 15]]\n"
     ]
    }
   ],
   "source": [
    "print(new_array[2:4,2:4])\n",
    "print(\"__________\")\n",
    "print(new_array[2:,2:])"
   ]
  },
  {
   "cell_type": "code",
   "execution_count": 106,
   "id": "0688cd5e",
   "metadata": {},
   "outputs": [
    {
     "data": {
      "text/plain": [
       "array([[ 4,  6],\n",
       "       [12, 14]])"
      ]
     },
     "execution_count": 106,
     "metadata": {},
     "output_type": "execute_result"
    }
   ],
   "source": [
    "new_array[1::2,0::2]"
   ]
  },
  {
   "cell_type": "markdown",
   "id": "3ca32ac8",
   "metadata": {},
   "source": [
    "## Array operation"
   ]
  },
  {
   "cell_type": "code",
   "execution_count": 110,
   "id": "9d5e1473",
   "metadata": {},
   "outputs": [
    {
     "data": {
      "text/plain": [
       "array([[ 2,  4,  6,  8, 10],\n",
       "       [ 3,  9, 18, 21, 26]])"
      ]
     },
     "execution_count": 110,
     "metadata": {},
     "output_type": "execute_result"
    }
   ],
   "source": [
    "sales = [[2,4,6,8,10],[3,9,18,21,26]]\n",
    "sales = np.array(sales)\n",
    "sales"
   ]
  },
  {
   "cell_type": "code",
   "execution_count": 111,
   "id": "1e12a724",
   "metadata": {},
   "outputs": [
    {
     "data": {
      "text/plain": [
       "array([[ 4,  6,  8, 10, 12],\n",
       "       [ 5, 11, 20, 23, 28]])"
      ]
     },
     "execution_count": 111,
     "metadata": {},
     "output_type": "execute_result"
    }
   ],
   "source": [
    "sales + 2"
   ]
  },
  {
   "cell_type": "code",
   "execution_count": 115,
   "id": "f2940b20",
   "metadata": {},
   "outputs": [
    {
     "name": "stdout",
     "output_type": "stream",
     "text": [
      "[ 2  4  6  8 10]\n"
     ]
    }
   ],
   "source": [
    "quantity = sales[0,]\n",
    "prices = sales[1,]\n",
    "print(quantity)"
   ]
  },
  {
   "cell_type": "code",
   "execution_count": 114,
   "id": "8c5e6d56",
   "metadata": {},
   "outputs": [
    {
     "name": "stdout",
     "output_type": "stream",
     "text": [
      "[ 3  9 18 21 26]\n"
     ]
    }
   ],
   "source": [
    "print(prices)"
   ]
  },
  {
   "cell_type": "code",
   "execution_count": 116,
   "id": "6cda16f5",
   "metadata": {},
   "outputs": [
    {
     "data": {
      "text/plain": [
       "array([  6,  36, 108, 168, 260])"
      ]
     },
     "execution_count": 116,
     "metadata": {},
     "output_type": "execute_result"
    }
   ],
   "source": [
    "quantity * prices"
   ]
  },
  {
   "cell_type": "code",
   "execution_count": null,
   "id": "786ba10f",
   "metadata": {},
   "outputs": [],
   "source": []
  }
 ],
 "metadata": {
  "kernelspec": {
   "display_name": "Python 3",
   "language": "python",
   "name": "python3"
  },
  "language_info": {
   "codemirror_mode": {
    "name": "ipython",
    "version": 3
   },
   "file_extension": ".py",
   "mimetype": "text/x-python",
   "name": "python",
   "nbconvert_exporter": "python",
   "pygments_lexer": "ipython3",
   "version": "3.8.8"
  }
 },
 "nbformat": 4,
 "nbformat_minor": 5
}
