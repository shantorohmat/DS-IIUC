{
 "cells": [
  {
   "cell_type": "markdown",
   "id": "8fe9bdc6",
   "metadata": {},
   "source": [
    "You can filter arrays by indexing them with a logical test\n",
    "\n",
    "Only the array elements in positions where the logical test returns True are returned"
   ]
  },
  {
   "cell_type": "code",
   "execution_count": 17,
   "id": "0049d140",
   "metadata": {},
   "outputs": [],
   "source": [
    "prices = [10,20,30,40,50,60]\n"
   ]
  },
  {
   "cell_type": "code",
   "execution_count": 1,
   "id": "8a540aa9",
   "metadata": {},
   "outputs": [],
   "source": [
    "import numpy as np"
   ]
  },
  {
   "cell_type": "code",
   "execution_count": 19,
   "id": "815473cd",
   "metadata": {},
   "outputs": [],
   "source": [
    "prices = np.array(prices)"
   ]
  },
  {
   "cell_type": "code",
   "execution_count": 20,
   "id": "4dc82005",
   "metadata": {},
   "outputs": [
    {
     "data": {
      "text/plain": [
       "array([10, 20, 30, 40, 50, 60])"
      ]
     },
     "execution_count": 20,
     "metadata": {},
     "output_type": "execute_result"
    }
   ],
   "source": [
    "prices"
   ]
  },
  {
   "cell_type": "code",
   "execution_count": 8,
   "id": "14bf0c90",
   "metadata": {},
   "outputs": [
    {
     "name": "stdout",
     "output_type": "stream",
     "text": [
      "[False False  True  True  True  True]\n"
     ]
    }
   ],
   "source": [
    "print(prices>20)"
   ]
  },
  {
   "cell_type": "code",
   "execution_count": 9,
   "id": "d065d8b9",
   "metadata": {},
   "outputs": [
    {
     "data": {
      "text/plain": [
       "array([30, 40, 50, 60])"
      ]
     },
     "execution_count": 9,
     "metadata": {},
     "output_type": "execute_result"
    }
   ],
   "source": [
    "prices[prices>20]"
   ]
  },
  {
   "cell_type": "code",
   "execution_count": 10,
   "id": "42aaac7d",
   "metadata": {},
   "outputs": [
    {
     "data": {
      "text/plain": [
       "array([30, 40])"
      ]
     },
     "execution_count": 10,
     "metadata": {},
     "output_type": "execute_result"
    }
   ],
   "source": [
    "prices[(prices>20) & (prices < 50)]"
   ]
  },
  {
   "cell_type": "code",
   "execution_count": 25,
   "id": "313f750f",
   "metadata": {},
   "outputs": [],
   "source": [
    "prices[2] =  0 \n",
    "prices[4] = 0"
   ]
  },
  {
   "cell_type": "code",
   "execution_count": 26,
   "id": "f5942a19",
   "metadata": {},
   "outputs": [
    {
     "data": {
      "text/plain": [
       "array([10, 20,  0, 40,  0, 60])"
      ]
     },
     "execution_count": 26,
     "metadata": {},
     "output_type": "execute_result"
    }
   ],
   "source": [
    "prices"
   ]
  },
  {
   "cell_type": "code",
   "execution_count": 27,
   "id": "f60c8a33",
   "metadata": {},
   "outputs": [],
   "source": [
    "prices[prices == 0] = 100"
   ]
  },
  {
   "cell_type": "code",
   "execution_count": 28,
   "id": "7d22441a",
   "metadata": {},
   "outputs": [
    {
     "data": {
      "text/plain": [
       "array([ 10,  20, 100,  40, 100,  60])"
      ]
     },
     "execution_count": 28,
     "metadata": {},
     "output_type": "execute_result"
    }
   ],
   "source": [
    "prices"
   ]
  },
  {
   "cell_type": "markdown",
   "id": "ac886009",
   "metadata": {},
   "source": [
    "#  np.where(logical test,value if true,value if false)"
   ]
  },
  {
   "cell_type": "code",
   "execution_count": 2,
   "id": "895a1a7a",
   "metadata": {},
   "outputs": [],
   "source": [
    "inventory_array = np.array([23,67,0,4,65,0])\n",
    "product_array = np.array(['apple','orange',\"mango\",\"banana\",\"grape\",\"piceapple\"])"
   ]
  },
  {
   "cell_type": "code",
   "execution_count": 40,
   "id": "a22183fc",
   "metadata": {},
   "outputs": [
    {
     "name": "stdout",
     "output_type": "stream",
     "text": [
      "[23 67  0  4 65  0]\n",
      "['apple' 'orange' 'mango' 'banana' 'grape' 'piceapple']\n"
     ]
    }
   ],
   "source": [
    "print(inventory_array) \n",
    "print(product_array)"
   ]
  },
  {
   "cell_type": "code",
   "execution_count": 42,
   "id": "14c86e88",
   "metadata": {},
   "outputs": [
    {
     "data": {
      "text/plain": [
       "array(['stock available', 'stock available', 'out of stock',\n",
       "       'stock available', 'stock available', 'out of stock'], dtype='<U15')"
      ]
     },
     "execution_count": 42,
     "metadata": {},
     "output_type": "execute_result"
    }
   ],
   "source": [
    "np.where(inventory_array==0,\"out of stock\",\"stock available\")"
   ]
  },
  {
   "cell_type": "code",
   "execution_count": 43,
   "id": "edf2ebe2",
   "metadata": {},
   "outputs": [
    {
     "data": {
      "text/plain": [
       "array(['apple', 'orange', 'out of stock', 'banana', 'grape',\n",
       "       'out of stock'], dtype='<U12')"
      ]
     },
     "execution_count": 43,
     "metadata": {},
     "output_type": "execute_result"
    }
   ],
   "source": [
    "np.where(inventory_array==0,\"out of stock\",product_array)"
   ]
  },
  {
   "cell_type": "code",
   "execution_count": 44,
   "id": "33f248f8",
   "metadata": {},
   "outputs": [
    {
     "data": {
      "text/plain": [
       "array([23, 67,  0,  4, 65,  0])"
      ]
     },
     "execution_count": 44,
     "metadata": {},
     "output_type": "execute_result"
    }
   ],
   "source": [
    "inventory_array"
   ]
  },
  {
   "cell_type": "code",
   "execution_count": 48,
   "id": "827f2719",
   "metadata": {},
   "outputs": [
    {
     "name": "stdout",
     "output_type": "stream",
     "text": [
      "67\n",
      "0\n",
      "26.5\n",
      "159\n"
     ]
    }
   ],
   "source": [
    "print(inventory_array.max())\n",
    "print(inventory_array.min())\n",
    "print(inventory_array.mean())\n",
    "print(inventory_array.sum()) "
   ]
  },
  {
   "cell_type": "code",
   "execution_count": 50,
   "id": "8704d7fb",
   "metadata": {},
   "outputs": [
    {
     "data": {
      "text/plain": [
       "25"
      ]
     },
     "execution_count": 50,
     "metadata": {},
     "output_type": "execute_result"
    }
   ],
   "source": [
    "np.max(inventory_array)"
   ]
  },
  {
   "cell_type": "markdown",
   "id": "8b8fbaf9",
   "metadata": {},
   "source": [
    "# You can also aggregate across rows or columns"
   ]
  },
  {
   "cell_type": "markdown",
   "id": "bd0fbddf",
   "metadata": {},
   "source": [
    "1D array"
   ]
  },
  {
   "cell_type": "code",
   "execution_count": 3,
   "id": "0b89c99c",
   "metadata": {},
   "outputs": [
    {
     "name": "stdout",
     "output_type": "stream",
     "text": [
      "1\n"
     ]
    }
   ],
   "source": [
    "print(inventory_array.argmax()) # maximum value index"
   ]
  },
  {
   "cell_type": "code",
   "execution_count": 53,
   "id": "7929511b",
   "metadata": {},
   "outputs": [
    {
     "name": "stdout",
     "output_type": "stream",
     "text": [
      "2\n"
     ]
    }
   ],
   "source": [
    "print(inventory_array.argmin()) # minimum value index"
   ]
  },
  {
   "cell_type": "markdown",
   "id": "945d6f8e",
   "metadata": {},
   "source": [
    "2D array"
   ]
  },
  {
   "cell_type": "code",
   "execution_count": 14,
   "id": "1c363c57",
   "metadata": {},
   "outputs": [
    {
     "data": {
      "text/plain": [
       "array([[23,  6,  0,  4],\n",
       "       [21,  0, 25,  7]])"
      ]
     },
     "execution_count": 14,
     "metadata": {},
     "output_type": "execute_result"
    }
   ],
   "source": [
    "inventory_array = np.array([[23, 6, 0, 4], [21, 0, 25, 7]])\n",
    "inventory_array"
   ]
  },
  {
   "cell_type": "markdown",
   "id": "0bc4079f",
   "metadata": {},
   "source": [
    "# array.max(axis = 0/axis = 1)"
   ]
  },
  {
   "cell_type": "code",
   "execution_count": 6,
   "id": "20e091ef",
   "metadata": {},
   "outputs": [
    {
     "name": "stdout",
     "output_type": "stream",
     "text": [
      "[23  6 25  7]\n"
     ]
    }
   ],
   "source": [
    "print(inventory_array.max(axis=0)) # aggregate along the row\n"
   ]
  },
  {
   "cell_type": "code",
   "execution_count": 7,
   "id": "7e0f94b3",
   "metadata": {},
   "outputs": [
    {
     "name": "stdout",
     "output_type": "stream",
     "text": [
      "[23 25]\n"
     ]
    }
   ],
   "source": [
    "print(inventory_array.max(axis=1)) # aggregate along the columns"
   ]
  },
  {
   "cell_type": "code",
   "execution_count": 75,
   "id": "3ce9ee5b",
   "metadata": {},
   "outputs": [
    {
     "name": "stdout",
     "output_type": "stream",
     "text": [
      "[44  6 25 11]\n"
     ]
    }
   ],
   "source": [
    "print(inventory_array.sum(axis=0)) # aggregate along the row\n"
   ]
  },
  {
   "cell_type": "code",
   "execution_count": 76,
   "id": "c99f0db0",
   "metadata": {},
   "outputs": [
    {
     "name": "stdout",
     "output_type": "stream",
     "text": [
      "[33 53]\n"
     ]
    }
   ],
   "source": [
    "print(inventory_array.sum(axis=1)) # aggregate along the columns"
   ]
  },
  {
   "cell_type": "markdown",
   "id": "5cffad2e",
   "metadata": {},
   "source": [
    "# np.median(array),np.percentile(array,75),np.unique(array),np.sqrt(array)"
   ]
  },
  {
   "cell_type": "code",
   "execution_count": 78,
   "id": "e5e78e68",
   "metadata": {},
   "outputs": [
    {
     "data": {
      "text/plain": [
       "6.5"
      ]
     },
     "execution_count": 78,
     "metadata": {},
     "output_type": "execute_result"
    }
   ],
   "source": [
    "np.median(inventory_array)"
   ]
  },
  {
   "cell_type": "code",
   "execution_count": 79,
   "id": "b10c0c1a",
   "metadata": {},
   "outputs": [
    {
     "data": {
      "text/plain": [
       "21.5"
      ]
     },
     "execution_count": 79,
     "metadata": {},
     "output_type": "execute_result"
    }
   ],
   "source": [
    "np.percentile(inventory_array, 75)"
   ]
  },
  {
   "cell_type": "code",
   "execution_count": 82,
   "id": "8f144342",
   "metadata": {},
   "outputs": [
    {
     "data": {
      "text/plain": [
       "array([[23,  6,  0,  4],\n",
       "       [21,  0, 25,  7]])"
      ]
     },
     "execution_count": 82,
     "metadata": {},
     "output_type": "execute_result"
    }
   ],
   "source": [
    "inventory_array"
   ]
  },
  {
   "cell_type": "code",
   "execution_count": 80,
   "id": "571a4ba8",
   "metadata": {},
   "outputs": [
    {
     "data": {
      "text/plain": [
       "array([ 0,  4,  6,  7, 21, 23, 25])"
      ]
     },
     "execution_count": 80,
     "metadata": {},
     "output_type": "execute_result"
    }
   ],
   "source": [
    "np.unique(inventory_array) "
   ]
  },
  {
   "cell_type": "code",
   "execution_count": 83,
   "id": "b5b5661d",
   "metadata": {},
   "outputs": [
    {
     "data": {
      "text/plain": [
       "array([[4.79583152, 2.44948974, 0.        , 2.        ],\n",
       "       [4.58257569, 0.        , 5.        , 2.64575131]])"
      ]
     },
     "execution_count": 83,
     "metadata": {},
     "output_type": "execute_result"
    }
   ],
   "source": [
    "np.sqrt(inventory_array)"
   ]
  },
  {
   "cell_type": "markdown",
   "id": "c19189ed",
   "metadata": {},
   "source": [
    "The sort() method will sort arrays in place\n",
    "\n",
    "Use the axis argument to specify the dimension to sort by"
   ]
  },
  {
   "cell_type": "code",
   "execution_count": 15,
   "id": "5f45fa60",
   "metadata": {},
   "outputs": [
    {
     "data": {
      "text/plain": [
       "array([[23,  6,  0,  4],\n",
       "       [21,  0, 25,  7]])"
      ]
     },
     "execution_count": 15,
     "metadata": {},
     "output_type": "execute_result"
    }
   ],
   "source": [
    "inventory_array"
   ]
  },
  {
   "cell_type": "code",
   "execution_count": 16,
   "id": "3af8bf87",
   "metadata": {},
   "outputs": [
    {
     "data": {
      "text/plain": [
       "array([[ 0,  4,  6, 23],\n",
       "       [ 0,  7, 21, 25]])"
      ]
     },
     "execution_count": 16,
     "metadata": {},
     "output_type": "execute_result"
    }
   ],
   "source": [
    "inventory_array.sort()\n",
    "inventory_array\n"
   ]
  },
  {
   "cell_type": "code",
   "execution_count": 19,
   "id": "6cd65291",
   "metadata": {},
   "outputs": [
    {
     "data": {
      "text/plain": [
       "array([[23,  6,  0,  4],\n",
       "       [21,  0, 25,  7]])"
      ]
     },
     "execution_count": 19,
     "metadata": {},
     "output_type": "execute_result"
    }
   ],
   "source": [
    "inventory_array = np.array([[23, 6, 0, 4], [21, 0, 25, 7]])\n",
    "inventory_array"
   ]
  },
  {
   "cell_type": "code",
   "execution_count": 18,
   "id": "a420d902",
   "metadata": {},
   "outputs": [
    {
     "data": {
      "text/plain": [
       "array([[21,  0,  0,  4],\n",
       "       [23,  6, 25,  7]])"
      ]
     },
     "execution_count": 18,
     "metadata": {},
     "output_type": "execute_result"
    }
   ],
   "source": [
    "inventory_array.sort(axis=0)\n",
    "inventory_array"
   ]
  },
  {
   "cell_type": "code",
   "execution_count": 20,
   "id": "31d2775f",
   "metadata": {},
   "outputs": [
    {
     "data": {
      "text/plain": [
       "array([[ 0,  4,  6, 23],\n",
       "       [ 0,  7, 21, 25]])"
      ]
     },
     "execution_count": 20,
     "metadata": {},
     "output_type": "execute_result"
    }
   ],
   "source": [
    "inventory_array.sort(axis = 1)\n",
    "inventory_array"
   ]
  },
  {
   "cell_type": "markdown",
   "id": "f1f504ec",
   "metadata": {},
   "source": [
    "# 3.copy & view"
   ]
  },
  {
   "cell_type": "code",
   "execution_count": 21,
   "id": "5409ceab",
   "metadata": {},
   "outputs": [
    {
     "name": "stdout",
     "output_type": "stream",
     "text": [
      "Original: [0 1 2 3 4 5 6 7 8 9]\n",
      "Copied: [0 1 2 3 4 5 6 7 8 9]\n"
     ]
    }
   ],
   "source": [
    "original_arr = np.arange(10)\n",
    "print(\"Original:\", original_arr)\n",
    "\n",
    "copied_arr = original_arr\n",
    "print(\"Copied:\", copied_arr)"
   ]
  },
  {
   "cell_type": "code",
   "execution_count": 23,
   "id": "615ddf9e",
   "metadata": {},
   "outputs": [
    {
     "name": "stdout",
     "output_type": "stream",
     "text": [
      "True\n",
      "1619992477088\n",
      "1619992477088\n"
     ]
    }
   ],
   "source": [
    "\n",
    "### Same or Different\n",
    "#reference equilaty\n",
    "print(original_arr is copied_arr)\n",
    "print(id(original_arr))\n",
    "print(id(copied_arr))"
   ]
  },
  {
   "cell_type": "code",
   "execution_count": 25,
   "id": "b6de5603",
   "metadata": {},
   "outputs": [
    {
     "name": "stdout",
     "output_type": "stream",
     "text": [
      "[ True  True  True  True  True  True  True  True  True  True]\n",
      "[3 1 2 3 4 5 6 7 8 9]\n"
     ]
    }
   ],
   "source": [
    "\n",
    "#value equality\n",
    "print(original_arr == copied_arr)\n",
    "copied_arr[0] = 3\n",
    "print(original_arr)\n"
   ]
  },
  {
   "cell_type": "markdown",
   "id": "e237775a",
   "metadata": {},
   "source": [
    "# np.may_share_memory(original_arr, copied_arr)"
   ]
  },
  {
   "cell_type": "code",
   "execution_count": 97,
   "id": "15023c89",
   "metadata": {},
   "outputs": [
    {
     "data": {
      "text/plain": [
       "True"
      ]
     },
     "execution_count": 97,
     "metadata": {},
     "output_type": "execute_result"
    }
   ],
   "source": [
    "np.may_share_memory(original_arr, copied_arr)"
   ]
  },
  {
   "cell_type": "markdown",
   "id": "bd182231",
   "metadata": {},
   "source": [
    "# view"
   ]
  },
  {
   "cell_type": "code",
   "execution_count": 112,
   "id": "a7ef5bf2",
   "metadata": {},
   "outputs": [
    {
     "name": "stdout",
     "output_type": "stream",
     "text": [
      "[88 91 82 89 95 85]\n",
      "[88 91 82 89 95 85]\n",
      "memory address: 1793133133376\n",
      "memory address: 1793133175632\n"
     ]
    }
   ],
   "source": [
    "### View\n",
    "raw_marks = np.array([88, 91, 82, 89, 95, 85])\n",
    "final_marks = raw_marks.view()\n",
    "print((final_marks))\n",
    "print(raw_marks)\n",
    "print(f\"memory address: {id(raw_marks)}\")\n",
    "print(f\"memory address: {id(final_marks)}\")\n"
   ]
  },
  {
   "cell_type": "code",
   "execution_count": 113,
   "id": "b396dfbe",
   "metadata": {},
   "outputs": [
    {
     "name": "stdout",
     "output_type": "stream",
     "text": [
      "[10 91 82 89 95 85]\n",
      "[10 91 82 89 95 85]\n"
     ]
    }
   ],
   "source": [
    "final_marks[0] = 10\n",
    "print(final_marks)\n",
    "print(raw_marks)"
   ]
  },
  {
   "cell_type": "code",
   "execution_count": 114,
   "id": "08ac12ae",
   "metadata": {},
   "outputs": [
    {
     "data": {
      "text/plain": [
       "True"
      ]
     },
     "execution_count": 114,
     "metadata": {},
     "output_type": "execute_result"
    }
   ],
   "source": [
    "np.may_share_memory(final_marks, raw_marks)"
   ]
  },
  {
   "cell_type": "markdown",
   "id": "9d1511d5",
   "metadata": {},
   "source": [
    "# copy"
   ]
  },
  {
   "cell_type": "code",
   "execution_count": 28,
   "id": "ace6cc50",
   "metadata": {},
   "outputs": [
    {
     "name": "stdout",
     "output_type": "stream",
     "text": [
      "[ 8 91 82 89 95 85]\n",
      "[ 8 91 82 89 95 85]\n",
      "memory address: 1619992510512\n",
      "memory address: 1619992460624\n"
     ]
    }
   ],
   "source": [
    "### Copy\n",
    "raw_marks = np.array([8, 91, 82, 89, 95, 85])\n",
    "\n",
    "final_marks = raw_marks.copy() ## np.copy(raw_marks)\n",
    "\n",
    "print((final_marks))\n",
    "print(raw_marks)\n",
    "print(f\"memory address: {id(raw_marks)}\")\n",
    "print(f\"memory address: {id(final_marks)}\")"
   ]
  },
  {
   "cell_type": "code",
   "execution_count": 29,
   "id": "c9c8afd7",
   "metadata": {},
   "outputs": [
    {
     "name": "stdout",
     "output_type": "stream",
     "text": [
      "[10 91 82 89 95 85]\n",
      "[ 8 91 82 89 95 85]\n"
     ]
    }
   ],
   "source": [
    "final_marks[0] = 10\n",
    "print(final_marks)\n",
    "print(raw_marks)"
   ]
  },
  {
   "cell_type": "code",
   "execution_count": 117,
   "id": "2d8a1944",
   "metadata": {},
   "outputs": [
    {
     "data": {
      "text/plain": [
       "False"
      ]
     },
     "execution_count": 117,
     "metadata": {},
     "output_type": "execute_result"
    }
   ],
   "source": [
    "np.may_share_memory(final_marks, raw_marks)"
   ]
  },
  {
   "cell_type": "markdown",
   "id": "96a23fdb",
   "metadata": {},
   "source": [
    "# 5. broadcasting"
   ]
  },
  {
   "cell_type": "code",
   "execution_count": 2,
   "id": "2ffbbdc3",
   "metadata": {},
   "outputs": [],
   "source": [
    "import numpy as np"
   ]
  },
  {
   "cell_type": "code",
   "execution_count": 14,
   "id": "880cfa69",
   "metadata": {},
   "outputs": [],
   "source": [
    "my_3D_array = np.arange(70)\n",
    "my_3D_array.shape = (2,7,5)"
   ]
  },
  {
   "cell_type": "code",
   "execution_count": 15,
   "id": "390905f2",
   "metadata": {},
   "outputs": [
    {
     "data": {
      "text/plain": [
       "array([[[ 0,  1,  2,  3,  4],\n",
       "        [ 5,  6,  7,  8,  9],\n",
       "        [10, 11, 12, 13, 14],\n",
       "        [15, 16, 17, 18, 19],\n",
       "        [20, 21, 22, 23, 24],\n",
       "        [25, 26, 27, 28, 29],\n",
       "        [30, 31, 32, 33, 34]],\n",
       "\n",
       "       [[35, 36, 37, 38, 39],\n",
       "        [40, 41, 42, 43, 44],\n",
       "        [45, 46, 47, 48, 49],\n",
       "        [50, 51, 52, 53, 54],\n",
       "        [55, 56, 57, 58, 59],\n",
       "        [60, 61, 62, 63, 64],\n",
       "        [65, 66, 67, 68, 69]]])"
      ]
     },
     "execution_count": 15,
     "metadata": {},
     "output_type": "execute_result"
    }
   ],
   "source": [
    "my_3D_array"
   ]
  },
  {
   "cell_type": "code",
   "execution_count": 16,
   "id": "974ac7ad",
   "metadata": {},
   "outputs": [
    {
     "data": {
      "text/plain": [
       "3"
      ]
     },
     "execution_count": 16,
     "metadata": {},
     "output_type": "execute_result"
    }
   ],
   "source": [
    "my_3D_array.ndim"
   ]
  },
  {
   "cell_type": "code",
   "execution_count": 19,
   "id": "cdb1963c",
   "metadata": {},
   "outputs": [
    {
     "data": {
      "text/plain": [
       "array([[[ -3,   0,   3,   6,   9],\n",
       "        [ 12,  15,  18,  21,  24],\n",
       "        [ 27,  30,  33,  36,  39],\n",
       "        [ 42,  45,  48,  51,  54],\n",
       "        [ 57,  60,  63,  66,  69],\n",
       "        [ 72,  75,  78,  81,  84],\n",
       "        [ 87,  90,  93,  96,  99]],\n",
       "\n",
       "       [[102, 105, 108, 111, 114],\n",
       "        [117, 120, 123, 126, 129],\n",
       "        [132, 135, 138, 141, 144],\n",
       "        [147, 150, 153, 156, 159],\n",
       "        [162, 165, 168, 171, 174],\n",
       "        [177, 180, 183, 186, 189],\n",
       "        [192, 195, 198, 201, 204]]])"
      ]
     },
     "execution_count": 19,
     "metadata": {},
     "output_type": "execute_result"
    }
   ],
   "source": [
    "my_3D_array * 3 - 3"
   ]
  },
  {
   "cell_type": "markdown",
   "id": "e4b3b390",
   "metadata": {},
   "source": [
    "# newaxis means new dimention"
   ]
  },
  {
   "cell_type": "markdown",
   "id": "85ddad0f",
   "metadata": {},
   "source": [
    "###### numpy.linspace(start, stop, num=50, endpoint=True, retstep=False, dtype=None, axis=0)[source]"
   ]
  },
  {
   "cell_type": "code",
   "execution_count": 35,
   "id": "e1d9bf99",
   "metadata": {},
   "outputs": [
    {
     "data": {
      "text/plain": [
       "array([ 4,  6,  8, 10, 12, 14])"
      ]
     },
     "execution_count": 35,
     "metadata": {},
     "output_type": "execute_result"
    }
   ],
   "source": [
    "a = np.arange(4,15,2)\n",
    "a\n"
   ]
  },
  {
   "cell_type": "code",
   "execution_count": 105,
   "id": "c3488f05",
   "metadata": {},
   "outputs": [
    {
     "data": {
      "text/plain": [
       "(6,)"
      ]
     },
     "execution_count": 105,
     "metadata": {},
     "output_type": "execute_result"
    }
   ],
   "source": [
    "a.shape"
   ]
  },
  {
   "cell_type": "code",
   "execution_count": 30,
   "id": "057692e5",
   "metadata": {},
   "outputs": [
    {
     "data": {
      "text/plain": [
       "array([12, 20, 29, 38, 47, 56])"
      ]
     },
     "execution_count": 30,
     "metadata": {},
     "output_type": "execute_result"
    }
   ],
   "source": [
    "b = np.linspace(12,56,6).astype(int)\n",
    "b"
   ]
  },
  {
   "cell_type": "code",
   "execution_count": 107,
   "id": "376200d1",
   "metadata": {},
   "outputs": [
    {
     "data": {
      "text/plain": [
       "(6,)"
      ]
     },
     "execution_count": 107,
     "metadata": {},
     "output_type": "execute_result"
    }
   ],
   "source": [
    "b.shape"
   ]
  },
  {
   "cell_type": "code",
   "execution_count": 108,
   "id": "296cf813",
   "metadata": {},
   "outputs": [
    {
     "data": {
      "text/plain": [
       "array([16. , 26.8, 37.6, 48.4, 59.2, 70. ])"
      ]
     },
     "execution_count": 108,
     "metadata": {},
     "output_type": "execute_result"
    }
   ],
   "source": [
    "a + b"
   ]
  },
  {
   "cell_type": "code",
   "execution_count": 31,
   "id": "41209406",
   "metadata": {},
   "outputs": [
    {
     "data": {
      "text/plain": [
       "array([ 3, 15, 28, 40, 53, 65, 78])"
      ]
     },
     "execution_count": 31,
     "metadata": {},
     "output_type": "execute_result"
    }
   ],
   "source": [
    "c = np.linspace(3,78,7).astype(int)\n",
    "c"
   ]
  },
  {
   "cell_type": "code",
   "execution_count": 110,
   "id": "7b6c6700",
   "metadata": {},
   "outputs": [
    {
     "data": {
      "text/plain": [
       "(7,)"
      ]
     },
     "execution_count": 110,
     "metadata": {},
     "output_type": "execute_result"
    }
   ],
   "source": [
    "c.shape"
   ]
  },
  {
   "cell_type": "code",
   "execution_count": 111,
   "id": "768799bc",
   "metadata": {},
   "outputs": [
    {
     "ename": "ValueError",
     "evalue": "operands could not be broadcast together with shapes (6,) (7,) ",
     "output_type": "error",
     "traceback": [
      "\u001b[1;31m---------------------------------------------------------------------------\u001b[0m",
      "\u001b[1;31mValueError\u001b[0m                                Traceback (most recent call last)",
      "\u001b[1;32m<ipython-input-111-e81e582b6fa9>\u001b[0m in \u001b[0;36m<module>\u001b[1;34m\u001b[0m\n\u001b[1;32m----> 1\u001b[1;33m \u001b[0ma\u001b[0m \u001b[1;33m+\u001b[0m \u001b[0mc\u001b[0m\u001b[1;33m\u001b[0m\u001b[1;33m\u001b[0m\u001b[0m\n\u001b[0m",
      "\u001b[1;31mValueError\u001b[0m: operands could not be broadcast together with shapes (6,) (7,) "
     ]
    }
   ],
   "source": [
    "a + c # 6 dimention a and 7 dimention b can't be add"
   ]
  },
  {
   "cell_type": "code",
   "execution_count": 118,
   "id": "380234d4",
   "metadata": {},
   "outputs": [
    {
     "name": "stdout",
     "output_type": "stream",
     "text": [
      "(7, 1)\n",
      "(1, 7)\n"
     ]
    }
   ],
   "source": [
    "print(c[:,np.newaxis].shape)\n",
    "print(c[np.newaxis,:].shape)"
   ]
  },
  {
   "cell_type": "code",
   "execution_count": 36,
   "id": "67106b55",
   "metadata": {},
   "outputs": [
    {
     "name": "stdout",
     "output_type": "stream",
     "text": [
      "(7,)\n",
      "(6,)\n"
     ]
    }
   ],
   "source": [
    "print(c.shape)\n",
    "print(a.shape)"
   ]
  },
  {
   "cell_type": "code",
   "execution_count": 39,
   "id": "005fd6c8",
   "metadata": {},
   "outputs": [
    {
     "data": {
      "text/plain": [
       "array([[ 3],\n",
       "       [15],\n",
       "       [28],\n",
       "       [40],\n",
       "       [53],\n",
       "       [65],\n",
       "       [78]])"
      ]
     },
     "execution_count": 39,
     "metadata": {},
     "output_type": "execute_result"
    }
   ],
   "source": [
    "c[:,np.newaxis]"
   ]
  },
  {
   "cell_type": "code",
   "execution_count": 40,
   "id": "73d57635",
   "metadata": {},
   "outputs": [
    {
     "data": {
      "text/plain": [
       "array([ 4,  6,  8, 10, 12, 14])"
      ]
     },
     "execution_count": 40,
     "metadata": {},
     "output_type": "execute_result"
    }
   ],
   "source": [
    "a\n"
   ]
  },
  {
   "cell_type": "code",
   "execution_count": 38,
   "id": "d4a68709",
   "metadata": {},
   "outputs": [
    {
     "data": {
      "text/plain": [
       "array([[ 7,  9, 11, 13, 15, 17],\n",
       "       [19, 21, 23, 25, 27, 29],\n",
       "       [32, 34, 36, 38, 40, 42],\n",
       "       [44, 46, 48, 50, 52, 54],\n",
       "       [57, 59, 61, 63, 65, 67],\n",
       "       [69, 71, 73, 75, 77, 79],\n",
       "       [82, 84, 86, 88, 90, 92]])"
      ]
     },
     "execution_count": 38,
     "metadata": {},
     "output_type": "execute_result"
    }
   ],
   "source": [
    "c[:,np.newaxis] + a"
   ]
  },
  {
   "cell_type": "code",
   "execution_count": 126,
   "id": "41b74c08",
   "metadata": {},
   "outputs": [
    {
     "name": "stdout",
     "output_type": "stream",
     "text": [
      "[[ 3. ]\n",
      " [15.5]\n",
      " [28. ]\n",
      " [40.5]\n",
      " [53. ]\n",
      " [65.5]\n",
      " [78. ]]\n",
      " * \n",
      "[ 4  6  8 10 12 14]\n"
     ]
    },
    {
     "data": {
      "text/plain": [
       "array([[ 7. ,  9. , 11. , 13. , 15. , 17. ],\n",
       "       [19.5, 21.5, 23.5, 25.5, 27.5, 29.5],\n",
       "       [32. , 34. , 36. , 38. , 40. , 42. ],\n",
       "       [44.5, 46.5, 48.5, 50.5, 52.5, 54.5],\n",
       "       [57. , 59. , 61. , 63. , 65. , 67. ],\n",
       "       [69.5, 71.5, 73.5, 75.5, 77.5, 79.5],\n",
       "       [82. , 84. , 86. , 88. , 90. , 92. ]])"
      ]
     },
     "execution_count": 126,
     "metadata": {},
     "output_type": "execute_result"
    }
   ],
   "source": [
    "print(c[:,np.newaxis] ) \n",
    "print(\" * \")\n",
    "print(a)\n",
    "c[:,np.newaxis] + a #(7,1) + (1,6) = (7,6)\n"
   ]
  },
  {
   "cell_type": "code",
   "execution_count": 113,
   "id": "c7965d73",
   "metadata": {},
   "outputs": [
    {
     "ename": "ValueError",
     "evalue": "operands could not be broadcast together with shapes (1,7) (6,) ",
     "output_type": "error",
     "traceback": [
      "\u001b[1;31m---------------------------------------------------------------------------\u001b[0m",
      "\u001b[1;31mValueError\u001b[0m                                Traceback (most recent call last)",
      "\u001b[1;32m<ipython-input-113-816d24da5a82>\u001b[0m in \u001b[0;36m<module>\u001b[1;34m\u001b[0m\n\u001b[1;32m----> 1\u001b[1;33m \u001b[0mc\u001b[0m\u001b[1;33m[\u001b[0m\u001b[0mnp\u001b[0m\u001b[1;33m.\u001b[0m\u001b[0mnewaxis\u001b[0m\u001b[1;33m,\u001b[0m\u001b[1;33m:\u001b[0m\u001b[1;33m]\u001b[0m \u001b[1;33m+\u001b[0m \u001b[0ma\u001b[0m\u001b[1;33m\u001b[0m\u001b[1;33m\u001b[0m\u001b[0m\n\u001b[0m",
      "\u001b[1;31mValueError\u001b[0m: operands could not be broadcast together with shapes (1,7) (6,) "
     ]
    }
   ],
   "source": [
    "c[np.newaxis,:] + a"
   ]
  },
  {
   "cell_type": "code",
   "execution_count": 114,
   "id": "2f7b5e87",
   "metadata": {},
   "outputs": [
    {
     "data": {
      "text/plain": [
       "array([[ 15. ,  23.8,  32.6,  41.4,  50.2,  59. ],\n",
       "       [ 27.5,  36.3,  45.1,  53.9,  62.7,  71.5],\n",
       "       [ 40. ,  48.8,  57.6,  66.4,  75.2,  84. ],\n",
       "       [ 52.5,  61.3,  70.1,  78.9,  87.7,  96.5],\n",
       "       [ 65. ,  73.8,  82.6,  91.4, 100.2, 109. ],\n",
       "       [ 77.5,  86.3,  95.1, 103.9, 112.7, 121.5],\n",
       "       [ 90. ,  98.8, 107.6, 116.4, 125.2, 134. ]])"
      ]
     },
     "execution_count": 114,
     "metadata": {},
     "output_type": "execute_result"
    }
   ],
   "source": [
    "c[:,np.newaxis] + b"
   ]
  },
  {
   "cell_type": "code",
   "execution_count": 127,
   "id": "c58c4a41",
   "metadata": {},
   "outputs": [
    {
     "ename": "ValueError",
     "evalue": "operands could not be broadcast together with shapes (1,7) (6,) ",
     "output_type": "error",
     "traceback": [
      "\u001b[1;31m---------------------------------------------------------------------------\u001b[0m",
      "\u001b[1;31mValueError\u001b[0m                                Traceback (most recent call last)",
      "\u001b[1;32m<ipython-input-127-0466fcfaff84>\u001b[0m in \u001b[0;36m<module>\u001b[1;34m\u001b[0m\n\u001b[1;32m----> 1\u001b[1;33m \u001b[0mc\u001b[0m\u001b[1;33m[\u001b[0m\u001b[0mnp\u001b[0m\u001b[1;33m.\u001b[0m\u001b[0mnewaxis\u001b[0m\u001b[1;33m,\u001b[0m\u001b[1;33m:\u001b[0m\u001b[1;33m]\u001b[0m \u001b[1;33m+\u001b[0m \u001b[0mb\u001b[0m\u001b[1;33m\u001b[0m\u001b[1;33m\u001b[0m\u001b[0m\n\u001b[0m",
      "\u001b[1;31mValueError\u001b[0m: operands could not be broadcast together with shapes (1,7) (6,) "
     ]
    }
   ],
   "source": [
    "c[np.newaxis,:] + b"
   ]
  },
  {
   "cell_type": "markdown",
   "id": "ec66b624",
   "metadata": {},
   "source": [
    "Arrays with smaller dimension are broadcasted to match the larger arrays without copying data"
   ]
  },
  {
   "cell_type": "code",
   "execution_count": 62,
   "id": "6d4fbb70",
   "metadata": {},
   "outputs": [
    {
     "name": "stdout",
     "output_type": "stream",
     "text": [
      "(1, 4, 3, 1)\n"
     ]
    }
   ],
   "source": []
  },
  {
   "cell_type": "markdown",
   "id": "ff4e3aa4",
   "metadata": {},
   "source": [
    "# Point to be noted"
   ]
  },
  {
   "cell_type": "markdown",
   "id": "b2b42227",
   "metadata": {},
   "source": [
    "\n",
    "The trailing axes of either arrays must be 1 or both must have the same size for broadcasting to occur. Otherwise, a \"ValueError: shape mismatch: obj ects cannot be exception is thrown. warning"
   ]
  },
  {
   "cell_type": "markdown",
   "id": "8315f6a9",
   "metadata": {},
   "source": [
    "# An application: Distance from center"
   ]
  },
  {
   "cell_type": "code",
   "execution_count": 134,
   "id": "0d8e8add",
   "metadata": {},
   "outputs": [
    {
     "data": {
      "image/png": "[encoded data removed]",
      "text/plain": [
       "<Figure size 432x288 with 2 Axes>"
      ]
     },
     "metadata": {
      "needs_background": "light"
     },
     "output_type": "display_data"
    }
   ],
   "source": [
    "import matplotlib.pyplot as plt\n",
    "%matplotlib inline\n",
    "a = np.linspace(0, 1, 15) - 0.5\n",
    "b = a[:, np.newaxis] # b.shape == (15, 1)\n",
    "dist2 = a**2 + b**2 # broadcasting sum.\n",
    "dist = np.sqrt(dist2)\n",
    "plt.imshow(dist)\n",
    "plt.colorbar();"
   ]
  },
  {
   "cell_type": "markdown",
   "id": "3c3eef77",
   "metadata": {},
   "source": [
    "# 6. Structure & Record arrays\n",
    "#### new data type"
   ]
  },
  {
   "attachments": {
    "image.png": {
     "image/png": "[encoded data removed]"
    }
   },
   "cell_type": "markdown",
   "id": "2b77e9bc",
   "metadata": {},
   "source": [
    "![image.png](attachment:image.png)"
   ]
  },
  {
   "cell_type": "markdown",
   "id": "e47659bd",
   "metadata": {},
   "source": [
    "Structured and record arrays are designed for heterogeneous data, while maintaining NumPy's requirement that every element in an array use the same amount of memory space"
   ]
  },
  {
   "cell_type": "code",
   "execution_count": 46,
   "id": "168d0cbb",
   "metadata": {},
   "outputs": [
    {
     "name": "stdout",
     "output_type": "stream",
     "text": [
      "[b'1' b'2' b'3' b'4']\n",
      "|S1\n"
     ]
    }
   ],
   "source": [
    "arr = np.array([1, 2, 3, 4], dtype='S')\n",
    "\n",
    "print(arr)\n",
    "print(arr.dtype)"
   ]
  },
  {
   "cell_type": "code",
   "execution_count": 49,
   "id": "2c415779",
   "metadata": {},
   "outputs": [
    {
     "name": "stdout",
     "output_type": "stream",
     "text": [
      "[b'1.1' b'2.1' b'3.1']\n",
      "|S32\n"
     ]
    }
   ],
   "source": [
    "\n",
    "\n",
    "arr = np.array([1.1, 2.1, 3.1])\n",
    "\n",
    "newarr = arr.astype('S')\n",
    "\n",
    "print(newarr)\n",
    "print(newarr.dtype)"
   ]
  },
  {
   "cell_type": "code",
   "execution_count": 157,
   "id": "239fa50f",
   "metadata": {},
   "outputs": [
    {
     "data": {
      "text/plain": [
       "[('name', 'S6'), ('height', 'f8'), ('weight', 'f8'), ('age', 'i8')]"
      ]
     },
     "execution_count": 157,
     "metadata": {},
     "output_type": "execute_result"
    }
   ],
   "source": [
    "person_data_def = [('name','S6'),('height','f8'),('weight','f8'), ('age', 'i8')]\n",
    "person_data_def"
   ]
  },
  {
   "cell_type": "code",
   "execution_count": 175,
   "id": "5498ace8",
   "metadata": {},
   "outputs": [],
   "source": [
    "people_array = np.array([('shanto',5.7,66,23),('shuvo',5.8,58,17),('akhi',5.6,60,22)], person_data_def)"
   ]
  },
  {
   "cell_type": "code",
   "execution_count": 176,
   "id": "afedd940",
   "metadata": {},
   "outputs": [
    {
     "data": {
      "text/plain": [
       "array([(b'shanto', 5.7, 66., 23), (b'shuvo', 5.8, 58., 17),\n",
       "       (b'akhi', 5.6, 60., 22)],\n",
       "      dtype=[('name', 'S6'), ('height', '<f8'), ('weight', '<f8'), ('age', '<i8')])"
      ]
     },
     "execution_count": 176,
     "metadata": {},
     "output_type": "execute_result"
    }
   ],
   "source": [
    "people_array"
   ]
  },
  {
   "cell_type": "code",
   "execution_count": 177,
   "id": "d96fc4a2",
   "metadata": {},
   "outputs": [
    {
     "data": {
      "text/plain": [
       "array([23, 17, 22], dtype=int64)"
      ]
     },
     "execution_count": 177,
     "metadata": {},
     "output_type": "execute_result"
    }
   ],
   "source": [
    "ages = people_array['age']\n",
    "ages"
   ]
  },
  {
   "cell_type": "code",
   "execution_count": 178,
   "id": "a79a6ece",
   "metadata": {},
   "outputs": [
    {
     "data": {
      "text/plain": [
       "array([11.5,  8.5, 11. ])"
      ]
     },
     "execution_count": 178,
     "metadata": {},
     "output_type": "execute_result"
    }
   ],
   "source": [
    "make_youthful = ages / 2\n",
    "make_youthful"
   ]
  },
  {
   "cell_type": "code",
   "execution_count": 179,
   "id": "fd6cb57f",
   "metadata": {},
   "outputs": [
    {
     "data": {
      "text/plain": [
       "array([(b'shanto', 5.7, 66., 23), (b'shuvo', 5.8, 58., 17),\n",
       "       (b'akhi', 5.6, 60., 22)],\n",
       "      dtype=[('name', 'S6'), ('height', '<f8'), ('weight', '<f8'), ('age', '<i8')])"
      ]
     },
     "execution_count": 179,
     "metadata": {},
     "output_type": "execute_result"
    }
   ],
   "source": [
    "people_array"
   ]
  },
  {
   "cell_type": "code",
   "execution_count": 180,
   "id": "acbd7866",
   "metadata": {},
   "outputs": [
    {
     "data": {
      "text/plain": [
       "array([23, 17, 22], dtype=int64)"
      ]
     },
     "execution_count": 180,
     "metadata": {},
     "output_type": "execute_result"
    }
   ],
   "source": [
    "ages"
   ]
  },
  {
   "cell_type": "markdown",
   "id": "331d2541",
   "metadata": {},
   "source": [
    "# Multidimentional Structed Array"
   ]
  },
  {
   "cell_type": "code",
   "execution_count": 187,
   "id": "4d41bd0b",
   "metadata": {},
   "outputs": [
    {
     "data": {
      "text/plain": [
       "array([[[(b'1', 1., 1., 1), (b'1', 1., 1., 1)],\n",
       "        [(b'1', 1., 1., 1), (b'1', 1., 1., 1)],\n",
       "        [(b'1', 1., 1., 1), (b'1', 1., 1., 1)]],\n",
       "\n",
       "       [[(b'1', 1., 1., 1), (b'1', 1., 1., 1)],\n",
       "        [(b'1', 1., 1., 1), (b'1', 1., 1., 1)],\n",
       "        [(b'1', 1., 1., 1), (b'1', 1., 1., 1)]],\n",
       "\n",
       "       [[(b'1', 1., 1., 1), (b'1', 1., 1., 1)],\n",
       "        [(b'1', 1., 1., 1), (b'1', 1., 1., 1)],\n",
       "        [(b'1', 1., 1., 1), (b'1', 1., 1., 1)]],\n",
       "\n",
       "       [[(b'1', 1., 1., 1), (b'1', 1., 1., 1)],\n",
       "        [(b'1', 1., 1., 1), (b'1', 1., 1., 1)],\n",
       "        [(b'1', 1., 1., 1), (b'1', 1., 1., 1)]]],\n",
       "      dtype=[('name', 'S6'), ('height', '<f8'), ('weight', '<f8'), ('age', '<i8')])"
      ]
     },
     "execution_count": 187,
     "metadata": {},
     "output_type": "execute_result"
    }
   ],
   "source": [
    "people_big_array = np.ones((4,3,2), dtype=person_data_def)\n",
    "people_big_array"
   ]
  },
  {
   "cell_type": "code",
   "execution_count": 188,
   "id": "6f05c620",
   "metadata": {},
   "outputs": [
    {
     "data": {
      "text/plain": [
       "array([[[(b'1',  1.,   1.,  1), (b'1',  1.,   1.,  1)],\n",
       "        [(b'1',  1.,   1.,  1), (b'1',  1.,   1.,  1)],\n",
       "        [(b'1',  1.,   1.,  1), (b'1',  1.,   1.,  1)]],\n",
       "\n",
       "       [[(b'1',  1.,   1.,  1), (b'1',  1.,   1.,  1)],\n",
       "        [(b'1',  1.,   1.,  1), (b'1',  1.,   1.,  1)],\n",
       "        [(b'1',  1.,   1.,  1), (b'1',  1.,   1.,  1)]],\n",
       "\n",
       "       [[(b'1',  1.,   1.,  1), (b'1',  1.,   1.,  1)],\n",
       "        [(b'1',  1.,   1.,  1), (b'1',  1.,   1.,  1)],\n",
       "        [(b'1',  1.,   1.,  1), (b'1',  1.,   1.,  1)]],\n",
       "\n",
       "       [[(b'1',  1.,   1.,  1), (b'1',  1.,   1.,  1)],\n",
       "        [(b'1',  1.,   1.,  1), (b'1',  1.,   1.,  1)],\n",
       "        [(b'1',  1.,   1.,  1), (b'Echo', 68., 155., 46)]]],\n",
       "      dtype=[('name', 'S6'), ('height', '<f8'), ('weight', '<f8'), ('age', '<i8')])"
      ]
     },
     "execution_count": 188,
     "metadata": {},
     "output_type": "execute_result"
    }
   ],
   "source": [
    "people_big_array[3,2,1] = ('Echo', 68, 155, 46)\n",
    "people_big_array\n"
   ]
  },
  {
   "cell_type": "code",
   "execution_count": 189,
   "id": "792b9413",
   "metadata": {},
   "outputs": [
    {
     "data": {
      "text/plain": [
       "array([[[ 1.,  1.],\n",
       "        [ 1.,  1.],\n",
       "        [ 1.,  1.]],\n",
       "\n",
       "       [[ 1.,  1.],\n",
       "        [ 1.,  1.],\n",
       "        [ 1.,  1.]],\n",
       "\n",
       "       [[ 1.,  1.],\n",
       "        [ 1.,  1.],\n",
       "        [ 1.,  1.]],\n",
       "\n",
       "       [[ 1.,  1.],\n",
       "        [ 1.,  1.],\n",
       "        [ 1., 68.]]])"
      ]
     },
     "execution_count": 189,
     "metadata": {},
     "output_type": "execute_result"
    }
   ],
   "source": [
    "people_big_array['height']"
   ]
  },
  {
   "cell_type": "code",
   "execution_count": 190,
   "id": "a59d656e",
   "metadata": {},
   "outputs": [
    {
     "data": {
      "text/plain": [
       "array([[[( 1.,   1.), ( 1.,   1.)],\n",
       "        [( 1.,   1.), ( 1.,   1.)],\n",
       "        [( 1.,   1.), ( 1.,   1.)]],\n",
       "\n",
       "       [[( 1.,   1.), ( 1.,   1.)],\n",
       "        [( 1.,   1.), ( 1.,   1.)],\n",
       "        [( 1.,   1.), ( 1.,   1.)]],\n",
       "\n",
       "       [[( 1.,   1.), ( 1.,   1.)],\n",
       "        [( 1.,   1.), ( 1.,   1.)],\n",
       "        [( 1.,   1.), ( 1.,   1.)]],\n",
       "\n",
       "       [[( 1.,   1.), ( 1.,   1.)],\n",
       "        [( 1.,   1.), ( 1.,   1.)],\n",
       "        [( 1.,   1.), (68., 155.)]]],\n",
       "      dtype={'names':['height','weight'], 'formats':['<f8','<f8'], 'offsets':[6,14], 'itemsize':30})"
      ]
     },
     "execution_count": 190,
     "metadata": {},
     "output_type": "execute_result"
    }
   ],
   "source": [
    "people_big_array[['height', 'weight']]"
   ]
  },
  {
   "cell_type": "markdown",
   "id": "0dedcbb2",
   "metadata": {},
   "source": [
    "# Creating Record Arrays"
   ]
  },
  {
   "cell_type": "code",
   "execution_count": 194,
   "id": "40a7fd0b",
   "metadata": {},
   "outputs": [
    {
     "data": {
      "text/plain": [
       "rec.array([(b'shanto', 5.7, 66., 23), (b'shuvo', 5.8, 58., 17)],\n",
       "          dtype=[('name', 'S6'), ('height', '<f8'), ('weight', '<f8'), ('age', '<i8')])"
      ]
     },
     "execution_count": 194,
     "metadata": {},
     "output_type": "execute_result"
    }
   ],
   "source": [
    "\n",
    "person_record_array = np.rec.array([('shanto', 5.7, 66, 23),('shuvo', 5.8, 58, 17)],dtype=person_data_def)\n",
    "person_record_array"
   ]
  },
  {
   "cell_type": "code",
   "execution_count": 195,
   "id": "3a145e9e",
   "metadata": {},
   "outputs": [
    {
     "data": {
      "text/plain": [
       "23"
      ]
     },
     "execution_count": 195,
     "metadata": {},
     "output_type": "execute_result"
    }
   ],
   "source": [
    "person_record_array[0].age"
   ]
  },
  {
   "cell_type": "code",
   "execution_count": 196,
   "id": "0256921e",
   "metadata": {},
   "outputs": [
    {
     "data": {
      "text/plain": [
       "array([23, 17], dtype=int64)"
      ]
     },
     "execution_count": 196,
     "metadata": {},
     "output_type": "execute_result"
    }
   ],
   "source": [
    "person_record_array['age']"
   ]
  },
  {
   "cell_type": "markdown",
   "id": "5e253988",
   "metadata": {},
   "source": [
    "# 7. Array Calculation"
   ]
  },
  {
   "cell_type": "code",
   "execution_count": 217,
   "id": "45db6700",
   "metadata": {},
   "outputs": [
    {
     "data": {
      "text/plain": [
       "array([[ 0,  1,  2,  3],\n",
       "       [ 4,  5,  6,  7],\n",
       "       [ 8,  9, 10, 11]])"
      ]
     },
     "execution_count": 217,
     "metadata": {},
     "output_type": "execute_result"
    }
   ],
   "source": [
    "arange_arr = np.arange(12).reshape(3,4)\n",
    "arange_arr"
   ]
  },
  {
   "cell_type": "code",
   "execution_count": 224,
   "id": "4361ab8a",
   "metadata": {},
   "outputs": [
    {
     "data": {
      "text/plain": [
       "66"
      ]
     },
     "execution_count": 224,
     "metadata": {},
     "output_type": "execute_result"
    }
   ],
   "source": [
    "np.sum(arange_arr)"
   ]
  },
  {
   "cell_type": "code",
   "execution_count": 219,
   "id": "72143da4",
   "metadata": {},
   "outputs": [
    {
     "data": {
      "text/plain": [
       "66"
      ]
     },
     "execution_count": 219,
     "metadata": {},
     "output_type": "execute_result"
    }
   ],
   "source": [
    "arange_arr.sum()"
   ]
  },
  {
   "cell_type": "code",
   "execution_count": 220,
   "id": "9f4df0f6",
   "metadata": {},
   "outputs": [
    {
     "name": "stdout",
     "output_type": "stream",
     "text": [
      "Column-sum: [12 15 18 21]\n"
     ]
    }
   ],
   "source": [
    "print(\"Column-sum:\", arange_arr.sum(axis=0)) # column-sum"
   ]
  },
  {
   "cell_type": "code",
   "execution_count": 221,
   "id": "5eb7b7c6",
   "metadata": {},
   "outputs": [
    {
     "name": "stdout",
     "output_type": "stream",
     "text": [
      "Row-sum: [ 6 22 38]\n"
     ]
    }
   ],
   "source": [
    "print(\"Row-sum:\", arange_arr.sum(axis=1)) # row-sum"
   ]
  },
  {
   "cell_type": "markdown",
   "id": "1349af61",
   "metadata": {},
   "source": [
    "# numpy.random.randint\n"
   ]
  },
  {
   "cell_type": "markdown",
   "id": "6e7e285f",
   "metadata": {},
   "source": [
    "## random.randint(low, high=None, size=None, dtype=int)"
   ]
  },
  {
   "cell_type": "code",
   "execution_count": 222,
   "id": "8cd6e25f",
   "metadata": {},
   "outputs": [
    {
     "name": "stdout",
     "output_type": "stream",
     "text": [
      "Array:\n",
      " [49 46 48 48 15 44 44 23 13 28 35 12 18 25  7]\n"
     ]
    }
   ],
   "source": [
    "rand_arr = np.random.randint(1, 50, size=15)\n",
    "print(\"Array:\\n\", rand_arr)"
   ]
  },
  {
   "cell_type": "code",
   "execution_count": 225,
   "id": "c3ee9957",
   "metadata": {},
   "outputs": [
    {
     "data": {
      "text/plain": [
       "array([[49, 46, 48, 48, 15],\n",
       "       [44, 44, 23, 13, 28],\n",
       "       [35, 12, 18, 25,  7]])"
      ]
     },
     "execution_count": 225,
     "metadata": {},
     "output_type": "execute_result"
    }
   ],
   "source": [
    "rand_arr = rand_arr.reshape(3,5)\n",
    "rand_arr"
   ]
  },
  {
   "cell_type": "code",
   "execution_count": 226,
   "id": "3cb5b719",
   "metadata": {},
   "outputs": [
    {
     "name": "stdout",
     "output_type": "stream",
     "text": [
      "MIn: 7\n",
      "MIn: 49\n"
     ]
    }
   ],
   "source": [
    "print(\"MIn:\",rand_arr.min())\n",
    "print(\"MIn:\",rand_arr.max())"
   ]
  },
  {
   "cell_type": "code",
   "execution_count": 227,
   "id": "18764ae5",
   "metadata": {},
   "outputs": [
    {
     "name": "stdout",
     "output_type": "stream",
     "text": [
      "col-min: [35 12 18 13  7]\n",
      "col-max: [49 46 48 48 28]\n"
     ]
    }
   ],
   "source": [
    "print(\"col-min:\",np.min(rand_arr,axis = 0))\n",
    "print(\"col-max:\",np.max(rand_arr,axis = 0))"
   ]
  },
  {
   "cell_type": "code",
   "execution_count": 229,
   "id": "41beb8f8",
   "metadata": {},
   "outputs": [
    {
     "name": "stdout",
     "output_type": "stream",
     "text": [
      "Column-min-index: [2 2 2 1 2]\n",
      "Column-max-index: [0 0 0 0 1]\n"
     ]
    }
   ],
   "source": [
    "print(\"Column-min-index:\", np.argmin(rand_arr, axis=0)) # column-min\n",
    "print(\"Column-max-index:\", np.argmax(rand_arr, axis=0)) #column-max"
   ]
  },
  {
   "cell_type": "code",
   "execution_count": 228,
   "id": "17789ebd",
   "metadata": {},
   "outputs": [
    {
     "name": "stdout",
     "output_type": "stream",
     "text": [
      "row-min: [15 13  7]\n",
      "row-max: [49 44 35]\n"
     ]
    }
   ],
   "source": [
    "print(\"row-min:\",np.min(rand_arr,axis = 1))\n",
    "print(\"row-max:\",np.max(rand_arr,axis = 1))"
   ]
  },
  {
   "cell_type": "code",
   "execution_count": 230,
   "id": "956aac8b",
   "metadata": {},
   "outputs": [
    {
     "name": "stdout",
     "output_type": "stream",
     "text": [
      "Row-min-index: [4 3 4]\n",
      "Row-max-index: [0 0 0]\n"
     ]
    }
   ],
   "source": [
    "print(\"Row-min-index:\", np.argmin(rand_arr, axis=1)) #row-min\n",
    "print(\"Row-max-index:\", np.argmax(rand_arr, axis=1)) #row-max"
   ]
  },
  {
   "cell_type": "code",
   "execution_count": 231,
   "id": "b9562609",
   "metadata": {},
   "outputs": [
    {
     "name": "stdout",
     "output_type": "stream",
     "text": [
      "Original Array:\n",
      " [[49 46 48 48 15]\n",
      " [44 44 23 13 28]\n",
      " [35 12 18 25  7]]\n"
     ]
    }
   ],
   "source": [
    "#mean\n",
    "print(\"Original Array:\\n\", rand_arr)\n"
   ]
  },
  {
   "cell_type": "code",
   "execution_count": 232,
   "id": "db388751",
   "metadata": {},
   "outputs": [
    {
     "name": "stdout",
     "output_type": "stream",
     "text": [
      "Mean\n",
      " 30.333333333333332\n"
     ]
    }
   ],
   "source": [
    "print(\"Mean\\n\", np.mean(rand_arr))\n"
   ]
  },
  {
   "cell_type": "code",
   "execution_count": 233,
   "id": "0ffd4f2a",
   "metadata": {},
   "outputs": [
    {
     "name": "stdout",
     "output_type": "stream",
     "text": [
      "Column-mean\n",
      " [42.66666667 34.         29.66666667 28.66666667 16.66666667]\n"
     ]
    }
   ],
   "source": [
    "print(\"Column-mean\\n\", np.mean(rand_arr, axis=0))\n"
   ]
  },
  {
   "cell_type": "code",
   "execution_count": 234,
   "id": "fc40a384",
   "metadata": {},
   "outputs": [
    {
     "name": "stdout",
     "output_type": "stream",
     "text": [
      "Row-mean\n",
      " [41.2 30.4 19.4]\n"
     ]
    }
   ],
   "source": [
    "print(\"Row-mean\\n\", np.mean(rand_arr, axis=1))"
   ]
  },
  {
   "cell_type": "markdown",
   "id": "59a20a99",
   "metadata": {},
   "source": [
    "# Sorting Data"
   ]
  },
  {
   "cell_type": "code",
   "execution_count": 235,
   "id": "90950a48",
   "metadata": {},
   "outputs": [
    {
     "name": "stdout",
     "output_type": "stream",
     "text": [
      "Original array:\n",
      " [[49 46 48 48 15]\n",
      " [44 44 23 13 28]\n",
      " [35 12 18 25  7]]\n"
     ]
    }
   ],
   "source": [
    "print(\"Original array:\\n\", rand_arr)\n"
   ]
  },
  {
   "cell_type": "code",
   "execution_count": 236,
   "id": "b89805c4",
   "metadata": {},
   "outputs": [
    {
     "name": "stdout",
     "output_type": "stream",
     "text": [
      "Sorting:\n",
      " [[15 46 48 48 49]\n",
      " [13 23 28 44 44]\n",
      " [ 7 12 18 25 35]]\n"
     ]
    }
   ],
   "source": [
    "print(\"Sorting:\\n\", np.sort(rand_arr))\n"
   ]
  },
  {
   "cell_type": "code",
   "execution_count": 237,
   "id": "ed85ed89",
   "metadata": {},
   "outputs": [
    {
     "name": "stdout",
     "output_type": "stream",
     "text": [
      "Column-base-sort:\n",
      " [[35 12 18 13  7]\n",
      " [44 44 23 25 15]\n",
      " [49 46 48 48 28]]\n"
     ]
    }
   ],
   "source": [
    "print(\"Column-base-sort:\\n\", np.sort(rand_arr, axis=0))\n"
   ]
  },
  {
   "cell_type": "code",
   "execution_count": 238,
   "id": "94ba5348",
   "metadata": {},
   "outputs": [
    {
     "name": "stdout",
     "output_type": "stream",
     "text": [
      "Row-base-sort:\n",
      " [[15 46 48 48 49]\n",
      " [13 23 28 44 44]\n",
      " [ 7 12 18 25 35]]\n"
     ]
    }
   ],
   "source": [
    "print(\"Row-base-sort:\\n\", np.sort(rand_arr, axis=1))"
   ]
  },
  {
   "cell_type": "code",
   "execution_count": 52,
   "id": "258e7ea5",
   "metadata": {},
   "outputs": [
    {
     "data": {
      "text/plain": [
       "array([62, 25, 48, 60, 31, 32, 22, 79, 49, 28])"
      ]
     },
     "execution_count": 52,
     "metadata": {},
     "output_type": "execute_result"
    }
   ],
   "source": [
    "a = np.random.randint(1,100,10,int)\n",
    "a"
   ]
  },
  {
   "cell_type": "code",
   "execution_count": 247,
   "id": "08a288a3",
   "metadata": {},
   "outputs": [
    {
     "name": "stdout",
     "output_type": "stream",
     "text": [
      "sort:\n",
      " [ 5 12 13 25 26 29 38 49 53 97]\n",
      "Arg-Sorting:\n",
      " [4 3 5 6 9 0 7 1 8 2]\n"
     ]
    }
   ],
   "source": [
    "print(\"sort:\\n\",np.sort(a))\n",
    "print(\"Arg-Sorting:\\n\", np.argsort(a))# address "
   ]
  },
  {
   "cell_type": "code",
   "execution_count": 250,
   "id": "3d02a0fd",
   "metadata": {},
   "outputs": [
    {
     "data": {
      "text/plain": [
       "97"
      ]
     },
     "execution_count": 250,
     "metadata": {},
     "output_type": "execute_result"
    }
   ],
   "source": [
    "a[2]"
   ]
  },
  {
   "cell_type": "code",
   "execution_count": 53,
   "id": "29e284c8",
   "metadata": {},
   "outputs": [
    {
     "name": "stdout",
     "output_type": "stream",
     "text": [
      "Array:\n",
      " [[62 25 48 60 31]\n",
      " [32 22 79 49 28]]\n"
     ]
    }
   ],
   "source": [
    "#inplace-sort\n",
    "a = a.reshape(2,5)\n",
    "print(\"Array:\\n\", a)\n"
   ]
  },
  {
   "cell_type": "code",
   "execution_count": 254,
   "id": "2b2caf67",
   "metadata": {},
   "outputs": [
    {
     "data": {
      "text/plain": [
       "array([[33, 50, 22, 62, 11],\n",
       "       [74, 99, 35, 72, 39]])"
      ]
     },
     "execution_count": 254,
     "metadata": {},
     "output_type": "execute_result"
    }
   ],
   "source": [
    "a.sort(axis=0)\n",
    "a"
   ]
  },
  {
   "cell_type": "markdown",
   "id": "686e421a",
   "metadata": {},
   "source": [
    "\n",
    "## Flattering Arrays\n"
   ]
  },
  {
   "cell_type": "markdown",
   "id": "1fda8d21",
   "metadata": {},
   "source": [
    "### FLATTEN (SAFE)\n",
    "converts a multi-dimensional array into a I-D array. The new array is a copy of the original data.\n",
    "\n",
    "### RAVEL (EFFICIENT)\n",
    "same as flatten, but returns a reference (or view) of the array if possible (i.e., the memory is contiguous). Otherwise the new array copies the data."
   ]
  },
  {
   "cell_type": "code",
   "execution_count": 256,
   "id": "a1e223de",
   "metadata": {},
   "outputs": [
    {
     "data": {
      "text/plain": [
       "array([0, 1, 2, 3, 4, 5])"
      ]
     },
     "execution_count": 256,
     "metadata": {},
     "output_type": "execute_result"
    }
   ],
   "source": [
    "a = np.arange(6)\n",
    "a"
   ]
  },
  {
   "cell_type": "code",
   "execution_count": 257,
   "id": "ca3bb1b3",
   "metadata": {},
   "outputs": [
    {
     "data": {
      "text/plain": [
       "array([[0, 1, 2],\n",
       "       [3, 4, 5]])"
      ]
     },
     "execution_count": 257,
     "metadata": {},
     "output_type": "execute_result"
    }
   ],
   "source": [
    "a = a.reshape(2,3)\n",
    "a"
   ]
  },
  {
   "cell_type": "code",
   "execution_count": 258,
   "id": "d277ceba",
   "metadata": {},
   "outputs": [
    {
     "data": {
      "text/plain": [
       "array([0, 1, 2, 3, 4, 5])"
      ]
     },
     "execution_count": 258,
     "metadata": {},
     "output_type": "execute_result"
    }
   ],
   "source": [
    "b = a.flatten()\n",
    "b"
   ]
  },
  {
   "cell_type": "code",
   "execution_count": 269,
   "id": "6038c60c",
   "metadata": {},
   "outputs": [
    {
     "name": "stdout",
     "output_type": "stream",
     "text": [
      "1925475005664\n",
      "1925475103568\n"
     ]
    }
   ],
   "source": [
    "b[0] = 10\n",
    "print(id(a))\n",
    "print(id(b))"
   ]
  },
  {
   "cell_type": "code",
   "execution_count": 275,
   "id": "8404366c",
   "metadata": {},
   "outputs": [
    {
     "name": "stdout",
     "output_type": "stream",
     "text": [
      "[[20  1  2]\n",
      " [ 3  4  5]]\n",
      "[20  1  2  3  4  5]\n"
     ]
    }
   ],
   "source": [
    "# 2 tai value change hoi nai\n",
    "print(a)\n",
    "print(b)"
   ]
  },
  {
   "cell_type": "code",
   "execution_count": 271,
   "id": "728727dd",
   "metadata": {},
   "outputs": [],
   "source": [
    "b = a.ravel()"
   ]
  },
  {
   "cell_type": "code",
   "execution_count": 270,
   "id": "dfa9aadc",
   "metadata": {},
   "outputs": [
    {
     "data": {
      "text/plain": [
       "array([10,  1,  2,  3,  4,  5])"
      ]
     },
     "execution_count": 270,
     "metadata": {},
     "output_type": "execute_result"
    }
   ],
   "source": [
    "b"
   ]
  },
  {
   "cell_type": "code",
   "execution_count": 273,
   "id": "f8893b73",
   "metadata": {},
   "outputs": [
    {
     "name": "stdout",
     "output_type": "stream",
     "text": [
      "1925475005664\n",
      "1925475415104\n"
     ]
    }
   ],
   "source": [
    "b[0] = 20\n",
    "print(id(a))\n",
    "print(id(b))"
   ]
  },
  {
   "cell_type": "code",
   "execution_count": 274,
   "id": "6f036595",
   "metadata": {},
   "outputs": [
    {
     "name": "stdout",
     "output_type": "stream",
     "text": [
      "[[20  1  2]\n",
      " [ 3  4  5]]\n",
      "[20  1  2  3  4  5]\n"
     ]
    }
   ],
   "source": [
    "# 2 tai value change hoise\n",
    "print(a)\n",
    "print(b)"
   ]
  },
  {
   "cell_type": "markdown",
   "id": "9c847ed4",
   "metadata": {},
   "source": [
    "# 8. Array Manipulation\n",
    "#### Adding & Removing Elements\n",
    "#### Joining & splitin\n",
    "#### Transpose\n",
    "#### Tiling"
   ]
  },
  {
   "cell_type": "markdown",
   "id": "a82af5e9",
   "metadata": {},
   "source": [
    "# Adding & Removing Elements"
   ]
  },
  {
   "cell_type": "code",
   "execution_count": 2,
   "id": "8f2472a8",
   "metadata": {},
   "outputs": [],
   "source": [
    "import numpy as np"
   ]
  },
  {
   "cell_type": "code",
   "execution_count": 24,
   "id": "f543acce",
   "metadata": {},
   "outputs": [
    {
     "name": "stdout",
     "output_type": "stream",
     "text": [
      "[ 0  1  2  3  4  5  6  7  8  9 10 11 12 13 14 15 16 17 18 19 20 21 22 23]\n",
      "int32\n"
     ]
    }
   ],
   "source": [
    "a = np.arange(24)\n",
    "print(a)\n",
    "print(a.dtype)"
   ]
  },
  {
   "cell_type": "code",
   "execution_count": 25,
   "id": "35c53c81",
   "metadata": {},
   "outputs": [
    {
     "name": "stdout",
     "output_type": "stream",
     "text": [
      "[ 0  1  2  3  4  5  6  7  8  9 10 11 12 13 14 15 16 17 18 19 20 21 22 23]\n",
      "int32\n"
     ]
    }
   ],
   "source": [
    "a = np.array(a)\n",
    "print(a)\n",
    "print(a.dtype)"
   ]
  },
  {
   "cell_type": "code",
   "execution_count": 26,
   "id": "53e34bb6",
   "metadata": {},
   "outputs": [
    {
     "data": {
      "text/plain": [
       "array([[[ 0,  1,  2,  3],\n",
       "        [ 4,  5,  6,  7],\n",
       "        [ 8,  9, 10, 11]],\n",
       "\n",
       "       [[12, 13, 14, 15],\n",
       "        [16, 17, 18, 19],\n",
       "        [20, 21, 22, 23]]])"
      ]
     },
     "execution_count": 26,
     "metadata": {},
     "output_type": "execute_result"
    }
   ],
   "source": [
    "a = a.reshape(2,3,4)\n",
    "a"
   ]
  },
  {
   "cell_type": "code",
   "execution_count": 13,
   "id": "bc5fbfcf",
   "metadata": {},
   "outputs": [
    {
     "data": {
      "text/plain": [
       "array([ 0,  1,  2,  3,  4,  5,  6,  7,  8,  9, 10, 11, 12, 13, 14, 15, 16,\n",
       "       17, 18, 19, 20, 21, 22, 23,  5,  6,  7,  8])"
      ]
     },
     "execution_count": 13,
     "metadata": {},
     "output_type": "execute_result"
    }
   ],
   "source": [
    "b=np.append(a, [5,6,7,8])\n",
    "b"
   ]
  },
  {
   "cell_type": "code",
   "execution_count": 32,
   "id": "78a9ac76",
   "metadata": {},
   "outputs": [
    {
     "name": "stdout",
     "output_type": "stream",
     "text": [
      "[[[  3  13  23  33]\n",
      "  [ 43  53  63  73]\n",
      "  [ 83  93 103 113]]\n",
      "\n",
      " [[123 133 143 153]\n",
      "  [163 173 183 193]\n",
      "  [203 213 223 233]]]\n",
      "____________________\n",
      "[[[ 0  1  2  3]\n",
      "  [ 4  5  6  7]\n",
      "  [ 8  9 10 11]]\n",
      "\n",
      " [[12 13 14 15]\n",
      "  [16 17 18 19]\n",
      "  [20 21 22 23]]]\n"
     ]
    }
   ],
   "source": [
    "c = a * 10 + 3\n",
    "print(c)\n",
    "print(\"____________________\")\n",
    "print(a)"
   ]
  },
  {
   "cell_type": "code",
   "execution_count": 28,
   "id": "64b4c11a",
   "metadata": {},
   "outputs": [
    {
     "data": {
      "text/plain": [
       "array([[[  0,   1,   2,   3],\n",
       "        [  4,   5,   6,   7],\n",
       "        [  8,   9,  10,  11]],\n",
       "\n",
       "       [[ 12,  13,  14,  15],\n",
       "        [ 16,  17,  18,  19],\n",
       "        [ 20,  21,  22,  23]],\n",
       "\n",
       "       [[  3,  13,  23,  33],\n",
       "        [ 43,  53,  63,  73],\n",
       "        [ 83,  93, 103, 113]],\n",
       "\n",
       "       [[123, 133, 143, 153],\n",
       "        [163, 173, 183, 193],\n",
       "        [203, 213, 223, 233]]])"
      ]
     },
     "execution_count": 28,
     "metadata": {},
     "output_type": "execute_result"
    }
   ],
   "source": [
    "np.append(a,c, axis=0)"
   ]
  },
  {
   "cell_type": "code",
   "execution_count": 33,
   "id": "e48cbc15",
   "metadata": {},
   "outputs": [
    {
     "data": {
      "text/plain": [
       "array([[[  0,   1,   2,   3],\n",
       "        [  4,   5,   6,   7],\n",
       "        [  8,   9,  10,  11],\n",
       "        [  3,  13,  23,  33],\n",
       "        [ 43,  53,  63,  73],\n",
       "        [ 83,  93, 103, 113]],\n",
       "\n",
       "       [[ 12,  13,  14,  15],\n",
       "        [ 16,  17,  18,  19],\n",
       "        [ 20,  21,  22,  23],\n",
       "        [123, 133, 143, 153],\n",
       "        [163, 173, 183, 193],\n",
       "        [203, 213, 223, 233]]])"
      ]
     },
     "execution_count": 33,
     "metadata": {},
     "output_type": "execute_result"
    }
   ],
   "source": [
    "np.append(a,c, axis=1)"
   ]
  },
  {
   "cell_type": "code",
   "execution_count": 34,
   "id": "33d3954f",
   "metadata": {},
   "outputs": [
    {
     "data": {
      "text/plain": [
       "array([[[  0,   1,   2,   3,   3,  13,  23,  33],\n",
       "        [  4,   5,   6,   7,  43,  53,  63,  73],\n",
       "        [  8,   9,  10,  11,  83,  93, 103, 113]],\n",
       "\n",
       "       [[ 12,  13,  14,  15, 123, 133, 143, 153],\n",
       "        [ 16,  17,  18,  19, 163, 173, 183, 193],\n",
       "        [ 20,  21,  22,  23, 203, 213, 223, 233]]])"
      ]
     },
     "execution_count": 34,
     "metadata": {},
     "output_type": "execute_result"
    }
   ],
   "source": [
    "np.append(a,c, axis=2)"
   ]
  },
  {
   "cell_type": "code",
   "execution_count": 35,
   "id": "491ec9ab",
   "metadata": {},
   "outputs": [
    {
     "data": {
      "text/plain": [
       "array([[[  0,   1,   2,   3],\n",
       "        [  4,   5,   6,   7],\n",
       "        [  8,   9,  10,  11],\n",
       "        [  3,  13,  23,  33],\n",
       "        [ 43,  53,  63,  73],\n",
       "        [ 83,  93, 103, 113]],\n",
       "\n",
       "       [[ 12,  13,  14,  15],\n",
       "        [ 16,  17,  18,  19],\n",
       "        [ 20,  21,  22,  23],\n",
       "        [123, 133, 143, 153],\n",
       "        [163, 173, 183, 193],\n",
       "        [203, 213, 223, 233]]])"
      ]
     },
     "execution_count": 35,
     "metadata": {},
     "output_type": "execute_result"
    }
   ],
   "source": [
    "my_hay_stack = np.hstack((a,c))\n",
    "my_hay_stack"
   ]
  },
  {
   "cell_type": "code",
   "execution_count": 36,
   "id": "691b2879",
   "metadata": {},
   "outputs": [
    {
     "data": {
      "text/plain": [
       "array([[[  0,   1, 999,   3],\n",
       "        [  4,   5,   6,   7],\n",
       "        [  8,   9,  10,  11],\n",
       "        [  3,  13,  23,  33],\n",
       "        [ 43,  53,  63,  73],\n",
       "        [ 83,  93, 103, 113]],\n",
       "\n",
       "       [[ 12,  13,  14,  15],\n",
       "        [ 16,  17,  18,  19],\n",
       "        [ 20,  21,  22,  23],\n",
       "        [123, 133, 143, 153],\n",
       "        [163, 173, 183, 193],\n",
       "        [203, 213, 223, 233]]])"
      ]
     },
     "execution_count": 36,
     "metadata": {},
     "output_type": "execute_result"
    }
   ],
   "source": [
    "my_hay_stack[0,0,2] = 999\n",
    "my_hay_stack"
   ]
  },
  {
   "cell_type": "code",
   "execution_count": 37,
   "id": "afcd66e7",
   "metadata": {},
   "outputs": [
    {
     "data": {
      "text/plain": [
       "array([[[  3,  13,  23,  33],\n",
       "        [ 43,  53,  63,  73],\n",
       "        [ 83,  93, 103, 113]],\n",
       "\n",
       "       [[123, 133, 143, 153],\n",
       "        [163, 173, 183, 193],\n",
       "        [203, 213, 223, 233]]])"
      ]
     },
     "execution_count": 37,
     "metadata": {},
     "output_type": "execute_result"
    }
   ],
   "source": [
    "c"
   ]
  },
  {
   "cell_type": "code",
   "execution_count": 38,
   "id": "3bffd224",
   "metadata": {},
   "outputs": [
    {
     "data": {
      "text/plain": [
       "array([[[  3,  13,  23,  33],\n",
       "        [ 43,  53,  63,  73],\n",
       "        [ 83,  93, 103, 113]],\n",
       "\n",
       "       [[444, 444, 444, 444],\n",
       "        [444, 444, 444, 444],\n",
       "        [444, 444, 444, 444]],\n",
       "\n",
       "       [[123, 133, 143, 153],\n",
       "        [163, 173, 183, 193],\n",
       "        [203, 213, 223, 233]]])"
      ]
     },
     "execution_count": 38,
     "metadata": {},
     "output_type": "execute_result"
    }
   ],
   "source": [
    "after_insert_array = np.insert (c, 1, 444, axis=0)\n",
    "after_insert_array"
   ]
  },
  {
   "cell_type": "code",
   "execution_count": 39,
   "id": "56317aca",
   "metadata": {},
   "outputs": [
    {
     "data": {
      "text/plain": [
       "array([[[  3,  13,  23,  33],\n",
       "        [444, 444, 444, 444],\n",
       "        [ 43,  53,  63,  73],\n",
       "        [ 83,  93, 103, 113]],\n",
       "\n",
       "       [[123, 133, 143, 153],\n",
       "        [444, 444, 444, 444],\n",
       "        [163, 173, 183, 193],\n",
       "        [203, 213, 223, 233]]])"
      ]
     },
     "execution_count": 39,
     "metadata": {},
     "output_type": "execute_result"
    }
   ],
   "source": [
    "\n",
    "np.insert (c, 1, 444, axis=1)"
   ]
  },
  {
   "cell_type": "code",
   "execution_count": 43,
   "id": "9908e1a4",
   "metadata": {},
   "outputs": [
    {
     "data": {
      "text/plain": [
       "array([[[  3, 444,  13,  23,  33],\n",
       "        [ 43, 444,  53,  63,  73],\n",
       "        [ 83, 444,  93, 103, 113]],\n",
       "\n",
       "       [[123, 444, 133, 143, 153],\n",
       "        [163, 444, 173, 183, 193],\n",
       "        [203, 444, 213, 223, 233]]])"
      ]
     },
     "execution_count": 43,
     "metadata": {},
     "output_type": "execute_result"
    }
   ],
   "source": [
    "np.insert (c, 1, 444, axis=2)"
   ]
  },
  {
   "cell_type": "code",
   "execution_count": 50,
   "id": "b2c9c0e3",
   "metadata": {},
   "outputs": [
    {
     "data": {
      "text/plain": [
       "array([[[  3.,  13.,  23.,  33.],\n",
       "        [ 43.,  53.,  63.,  73.],\n",
       "        [ 83.,  93., 103., 113.]],\n",
       "\n",
       "       [[123., 133., 143., 153.],\n",
       "        [163., 173., 183., 193.],\n",
       "        [203., 213., 223., 233.]]])"
      ]
     },
     "execution_count": 50,
     "metadata": {},
     "output_type": "execute_result"
    }
   ],
   "source": [
    "\n",
    "d = np.empty(c.shape)\n",
    "np.copyto(d, c)\n",
    "d"
   ]
  },
  {
   "cell_type": "code",
   "execution_count": 51,
   "id": "7da3ca03",
   "metadata": {},
   "outputs": [
    {
     "data": {
      "text/plain": [
       "array([[[  3.,  13.,  23.,  33.],\n",
       "        [ 43.,  53.,  63.,  73.],\n",
       "        [ 83.,  93., 103., 113.]]])"
      ]
     },
     "execution_count": 51,
     "metadata": {},
     "output_type": "execute_result"
    }
   ],
   "source": [
    "np.delete(d, 1, axis=0)"
   ]
  },
  {
   "cell_type": "code",
   "execution_count": 52,
   "id": "bd58039e",
   "metadata": {},
   "outputs": [
    {
     "data": {
      "text/plain": [
       "array([[[  3.,  13.,  23.,  33.],\n",
       "        [ 83.,  93., 103., 113.]],\n",
       "\n",
       "       [[123., 133., 143., 153.],\n",
       "        [203., 213., 223., 233.]]])"
      ]
     },
     "execution_count": 52,
     "metadata": {},
     "output_type": "execute_result"
    }
   ],
   "source": [
    "np.delete(d, 1, axis=1)"
   ]
  },
  {
   "cell_type": "code",
   "execution_count": 53,
   "id": "6a673926",
   "metadata": {},
   "outputs": [
    {
     "data": {
      "text/plain": [
       "array([[[  3.,  33.],\n",
       "        [ 43.,  73.],\n",
       "        [ 83., 113.]],\n",
       "\n",
       "       [[123., 153.],\n",
       "        [163., 193.],\n",
       "        [203., 233.]]])"
      ]
     },
     "execution_count": 53,
     "metadata": {},
     "output_type": "execute_result"
    }
   ],
   "source": [
    "\n",
    "np.delete(d, [1,2], axis=2)"
   ]
  },
  {
   "cell_type": "markdown",
   "id": "085b5dc8",
   "metadata": {},
   "source": [
    "# Joining & Spliting"
   ]
  },
  {
   "cell_type": "code",
   "execution_count": 54,
   "id": "3d909962",
   "metadata": {},
   "outputs": [
    {
     "data": {
      "text/plain": [
       "array([[1, 2],\n",
       "       [3, 4],\n",
       "       [5, 6]])"
      ]
     },
     "execution_count": 54,
     "metadata": {},
     "output_type": "execute_result"
    }
   ],
   "source": [
    "a = np.array([[1, 2], [3, 4]])\n",
    "b = np.array([[5, 6]])\n",
    "together = np.concatenate((a, b), axis=0)\n",
    "together"
   ]
  },
  {
   "cell_type": "code",
   "execution_count": 55,
   "id": "5d23fa80",
   "metadata": {},
   "outputs": [
    {
     "data": {
      "text/plain": [
       "array([[  1,   2],\n",
       "       [  3, 555],\n",
       "       [  5,   6]])"
      ]
     },
     "execution_count": 55,
     "metadata": {},
     "output_type": "execute_result"
    }
   ],
   "source": [
    "together[1,1] = 555\n",
    "together"
   ]
  },
  {
   "cell_type": "code",
   "execution_count": 56,
   "id": "f7960364",
   "metadata": {},
   "outputs": [
    {
     "data": {
      "text/plain": [
       "array([[ 8, 11],\n",
       "       [14, 17]])"
      ]
     },
     "execution_count": 56,
     "metadata": {},
     "output_type": "execute_result"
    }
   ],
   "source": [
    "c = np.array([[1, 2], [3, 4]]) *3 + 5\n",
    "c\n"
   ]
  },
  {
   "cell_type": "code",
   "execution_count": 57,
   "id": "d974f893",
   "metadata": {},
   "outputs": [
    {
     "data": {
      "text/plain": [
       "array([[ 1,  2,  8, 11],\n",
       "       [ 3,  4, 14, 17]])"
      ]
     },
     "execution_count": 57,
     "metadata": {},
     "output_type": "execute_result"
    }
   ],
   "source": [
    "np.concatenate((a, c), axis=1)"
   ]
  },
  {
   "cell_type": "markdown",
   "id": "2808f22d",
   "metadata": {},
   "source": [
    "# spliting"
   ]
  },
  {
   "cell_type": "code",
   "execution_count": 59,
   "id": "8112fb97",
   "metadata": {},
   "outputs": [
    {
     "data": {
      "text/plain": [
       "[array([0, 1]), array([2, 3]), array([4, 5])]"
      ]
     },
     "execution_count": 59,
     "metadata": {},
     "output_type": "execute_result"
    }
   ],
   "source": [
    "temp = np.arange(6)\n",
    "temp\n",
    "np.split(temp,3)"
   ]
  },
  {
   "cell_type": "code",
   "execution_count": 60,
   "id": "23e5784c",
   "metadata": {},
   "outputs": [
    {
     "data": {
      "text/plain": [
       "[array([0, 1]), array([2]), array([3, 4, 5]), array([6, 7, 8, 9])]"
      ]
     },
     "execution_count": 60,
     "metadata": {},
     "output_type": "execute_result"
    }
   ],
   "source": [
    "\n",
    "temp = np.arange(10)\n",
    "np.split(temp,[2,3,6]) # [:2] [2:3], [3, 6], [6:]"
   ]
  },
  {
   "cell_type": "markdown",
   "id": "f68661d0",
   "metadata": {},
   "source": [
    "# Transpose"
   ]
  },
  {
   "cell_type": "code",
   "execution_count": 61,
   "id": "c8fe44be",
   "metadata": {},
   "outputs": [],
   "source": [
    "my_start_array = np.array(np.arange(24))\n",
    "my_3_8_array = my_start_array.reshape((3,8))\n",
    "my_2_3_4_array = my_3_8_array.reshape((2,3,4))"
   ]
  },
  {
   "cell_type": "code",
   "execution_count": 62,
   "id": "0c052a03",
   "metadata": {},
   "outputs": [
    {
     "name": "stdout",
     "output_type": "stream",
     "text": [
      "Array:\n",
      " [ 0  1  2  3  4  5  6  7  8  9 10 11 12 13 14 15 16 17 18 19 20 21 22 23]\n"
     ]
    },
    {
     "data": {
      "text/plain": [
       "array([ 0,  1,  2,  3,  4,  5,  6,  7,  8,  9, 10, 11, 12, 13, 14, 15, 16,\n",
       "       17, 18, 19, 20, 21, 22, 23])"
      ]
     },
     "execution_count": 62,
     "metadata": {},
     "output_type": "execute_result"
    }
   ],
   "source": [
    "#1D array --> No Change\n",
    "print(\"Array:\\n\", my_start_array)\n",
    "np.transpose(my_start_array)"
   ]
  },
  {
   "cell_type": "code",
   "execution_count": 63,
   "id": "e0e1ccc9",
   "metadata": {},
   "outputs": [
    {
     "name": "stdout",
     "output_type": "stream",
     "text": [
      "Array:\n",
      " [[ 0  1  2  3  4  5  6  7]\n",
      " [ 8  9 10 11 12 13 14 15]\n",
      " [16 17 18 19 20 21 22 23]]\n"
     ]
    },
    {
     "data": {
      "text/plain": [
       "array([[ 0,  8, 16],\n",
       "       [ 1,  9, 17],\n",
       "       [ 2, 10, 18],\n",
       "       [ 3, 11, 19],\n",
       "       [ 4, 12, 20],\n",
       "       [ 5, 13, 21],\n",
       "       [ 6, 14, 22],\n",
       "       [ 7, 15, 23]])"
      ]
     },
     "execution_count": 63,
     "metadata": {},
     "output_type": "execute_result"
    }
   ],
   "source": [
    "#2D array\n",
    "print(\"Array:\\n\", my_3_8_array)\n",
    "np.transpose(my_3_8_array)"
   ]
  },
  {
   "cell_type": "code",
   "execution_count": 64,
   "id": "232bf4ba",
   "metadata": {},
   "outputs": [
    {
     "name": "stdout",
     "output_type": "stream",
     "text": [
      "Array:\n",
      " [[[ 0  1  2  3]\n",
      "  [ 4  5  6  7]\n",
      "  [ 8  9 10 11]]\n",
      "\n",
      " [[12 13 14 15]\n",
      "  [16 17 18 19]\n",
      "  [20 21 22 23]]]\n"
     ]
    },
    {
     "data": {
      "text/plain": [
       "array([[[ 0, 12],\n",
       "        [ 4, 16],\n",
       "        [ 8, 20]],\n",
       "\n",
       "       [[ 1, 13],\n",
       "        [ 5, 17],\n",
       "        [ 9, 21]],\n",
       "\n",
       "       [[ 2, 14],\n",
       "        [ 6, 18],\n",
       "        [10, 22]],\n",
       "\n",
       "       [[ 3, 15],\n",
       "        [ 7, 19],\n",
       "        [11, 23]]])"
      ]
     },
     "execution_count": 64,
     "metadata": {},
     "output_type": "execute_result"
    }
   ],
   "source": [
    "#3D array\n",
    "print(\"Array:\\n\", my_2_3_4_array)\n",
    "np.transpose(my_2_3_4_array)"
   ]
  },
  {
   "cell_type": "code",
   "execution_count": 65,
   "id": "937ea7ee",
   "metadata": {},
   "outputs": [
    {
     "data": {
      "text/plain": [
       "array([[[ 0,  4,  8],\n",
       "        [ 1,  5,  9],\n",
       "        [ 2,  6, 10],\n",
       "        [ 3,  7, 11]],\n",
       "\n",
       "       [[12, 16, 20],\n",
       "        [13, 17, 21],\n",
       "        [14, 18, 22],\n",
       "        [15, 19, 23]]])"
      ]
     },
     "execution_count": 65,
     "metadata": {},
     "output_type": "execute_result"
    }
   ],
   "source": [
    "np.transpose(my_2_3_4_array, axes=(0,2,1))"
   ]
  },
  {
   "cell_type": "code",
   "execution_count": 66,
   "id": "3b7746a6",
   "metadata": {},
   "outputs": [
    {
     "data": {
      "text/plain": [
       "array([[[ 0, 12],\n",
       "        [ 4, 16],\n",
       "        [ 8, 20]],\n",
       "\n",
       "       [[ 1, 13],\n",
       "        [ 5, 17],\n",
       "        [ 9, 21]],\n",
       "\n",
       "       [[ 2, 14],\n",
       "        [ 6, 18],\n",
       "        [10, 22]],\n",
       "\n",
       "       [[ 3, 15],\n",
       "        [ 7, 19],\n",
       "        [11, 23]]])"
      ]
     },
     "execution_count": 66,
     "metadata": {},
     "output_type": "execute_result"
    }
   ],
   "source": [
    "\n",
    "np.transpose(my_2_3_4_array, axes=(2,1,0))"
   ]
  },
  {
   "cell_type": "markdown",
   "id": "b7750f39",
   "metadata": {},
   "source": [
    "# Tiling"
   ]
  },
  {
   "cell_type": "code",
   "execution_count": 67,
   "id": "ebe3713c",
   "metadata": {},
   "outputs": [
    {
     "data": {
      "text/plain": [
       "array([ 0,  1,  2,  3,  4,  5,  6,  7,  8,  9, 10, 11])"
      ]
     },
     "execution_count": 67,
     "metadata": {},
     "output_type": "execute_result"
    }
   ],
   "source": [
    "my_start_array = np.array(np.arange(12))\n",
    "my_start_array"
   ]
  },
  {
   "cell_type": "code",
   "execution_count": 68,
   "id": "6f32b942",
   "metadata": {},
   "outputs": [
    {
     "data": {
      "text/plain": [
       "array([ 0,  1,  2,  3,  4,  5,  6,  7,  8,  9, 10, 11,  0,  1,  2,  3,  4,\n",
       "        5,  6,  7,  8,  9, 10, 11,  0,  1,  2,  3,  4,  5,  6,  7,  8,  9,\n",
       "       10, 11])"
      ]
     },
     "execution_count": 68,
     "metadata": {},
     "output_type": "execute_result"
    }
   ],
   "source": [
    "np.tile(my_start_array, 3)"
   ]
  },
  {
   "cell_type": "code",
   "execution_count": 69,
   "id": "a95d7f09",
   "metadata": {},
   "outputs": [],
   "source": [
    "\n",
    "my_second_array = np.array(np.arange(7))"
   ]
  },
  {
   "cell_type": "code",
   "execution_count": 70,
   "id": "e0b8ca87",
   "metadata": {},
   "outputs": [
    {
     "data": {
      "text/plain": [
       "array([[0, 1, 2, 3, 4, 5, 6],\n",
       "       [0, 1, 2, 3, 4, 5, 6],\n",
       "       [0, 1, 2, 3, 4, 5, 6]])"
      ]
     },
     "execution_count": 70,
     "metadata": {},
     "output_type": "execute_result"
    }
   ],
   "source": [
    "\n",
    "tile_1 = np.tile(my_second_array, (3, 1))\n",
    "tile_1"
   ]
  },
  {
   "cell_type": "code",
   "execution_count": 71,
   "id": "68b80498",
   "metadata": {},
   "outputs": [
    {
     "data": {
      "text/plain": [
       "array([[0, 1, 2, 3, 4, 5, 6, 0, 1, 2, 3, 4, 5, 6],\n",
       "       [0, 1, 2, 3, 4, 5, 6, 0, 1, 2, 3, 4, 5, 6],\n",
       "       [0, 1, 2, 3, 4, 5, 6, 0, 1, 2, 3, 4, 5, 6],\n",
       "       [0, 1, 2, 3, 4, 5, 6, 0, 1, 2, 3, 4, 5, 6],\n",
       "       [0, 1, 2, 3, 4, 5, 6, 0, 1, 2, 3, 4, 5, 6],\n",
       "       [0, 1, 2, 3, 4, 5, 6, 0, 1, 2, 3, 4, 5, 6]])"
      ]
     },
     "execution_count": 71,
     "metadata": {},
     "output_type": "execute_result"
    }
   ],
   "source": [
    "tile_2 = np.tile(tile_1, (2,2))\n",
    "tile_2"
   ]
  },
  {
   "cell_type": "code",
   "execution_count": 72,
   "id": "e87a6b12",
   "metadata": {},
   "outputs": [
    {
     "data": {
      "text/plain": [
       "array([[0, 1, 2, 3, 4, 5, 6, 0, 1, 2, 3, 4, 5, 6],\n",
       "       [0, 1, 2, 3, 4, 5, 6, 0, 1, 2, 3, 4, 5, 6],\n",
       "       [0, 1, 2, 3, 4, 5, 6, 0, 1, 2, 3, 4, 5, 6],\n",
       "       [0, 1, 2, 3, 4, 5, 6, 0, 1, 2, 3, 4, 5, 6],\n",
       "       [0, 1, 2, 3, 4, 5, 6, 0, 1, 2, 3, 4, 5, 6],\n",
       "       [0, 1, 2, 3, 4, 5, 6, 0, 1, 2, 3, 4, 5, 6],\n",
       "       [0, 1, 2, 3, 4, 5, 6, 0, 1, 2, 3, 4, 5, 6],\n",
       "       [0, 1, 2, 3, 4, 5, 6, 0, 1, 2, 3, 4, 5, 6],\n",
       "       [0, 1, 2, 3, 4, 5, 6, 0, 1, 2, 3, 4, 5, 6],\n",
       "       [0, 1, 2, 3, 4, 5, 6, 0, 1, 2, 3, 4, 5, 6],\n",
       "       [0, 1, 2, 3, 4, 5, 6, 0, 1, 2, 3, 4, 5, 6],\n",
       "       [0, 1, 2, 3, 4, 5, 6, 0, 1, 2, 3, 4, 5, 6],\n",
       "       [0, 1, 2, 3, 4, 5, 6, 0, 1, 2, 3, 4, 5, 6],\n",
       "       [0, 1, 2, 3, 4, 5, 6, 0, 1, 2, 3, 4, 5, 6],\n",
       "       [0, 1, 2, 3, 4, 5, 6, 0, 1, 2, 3, 4, 5, 6],\n",
       "       [0, 1, 2, 3, 4, 5, 6, 0, 1, 2, 3, 4, 5, 6],\n",
       "       [0, 1, 2, 3, 4, 5, 6, 0, 1, 2, 3, 4, 5, 6],\n",
       "       [0, 1, 2, 3, 4, 5, 6, 0, 1, 2, 3, 4, 5, 6]])"
      ]
     },
     "execution_count": 72,
     "metadata": {},
     "output_type": "execute_result"
    }
   ],
   "source": [
    "tile_3 = np.tile(tile_2, (3,1))\n",
    "tile_3"
   ]
  },
  {
   "cell_type": "code",
   "execution_count": 73,
   "id": "be8c1613",
   "metadata": {},
   "outputs": [
    {
     "data": {
      "text/plain": [
       "array([0, 0, 0, 1, 1, 1, 2, 2, 2, 3, 3, 3, 4, 4, 4, 5, 5, 5, 6, 6, 6])"
      ]
     },
     "execution_count": 73,
     "metadata": {},
     "output_type": "execute_result"
    }
   ],
   "source": [
    "\n",
    "np.repeat(my_second_array, 3)"
   ]
  },
  {
   "cell_type": "code",
   "execution_count": 74,
   "id": "1f219bd6",
   "metadata": {},
   "outputs": [
    {
     "data": {
      "text/plain": [
       "array([[[ 0,  1,  2,  3],\n",
       "        [ 4,  5,  6,  7],\n",
       "        [ 8,  9, 10, 11]],\n",
       "\n",
       "       [[12, 13, 14, 15],\n",
       "        [16, 17, 18, 19],\n",
       "        [20, 21, 22, 23]]])"
      ]
     },
     "execution_count": 74,
     "metadata": {},
     "output_type": "execute_result"
    }
   ],
   "source": [
    "my_repeatable_array = np.array(np.arange(24)).reshape(2,3,4)\n",
    "my_repeatable_array"
   ]
  },
  {
   "cell_type": "code",
   "execution_count": 75,
   "id": "170c8a36",
   "metadata": {},
   "outputs": [
    {
     "data": {
      "text/plain": [
       "array([[[ 0,  1,  2,  3],\n",
       "        [ 4,  5,  6,  7],\n",
       "        [ 8,  9, 10, 11]],\n",
       "\n",
       "       [[ 0,  1,  2,  3],\n",
       "        [ 4,  5,  6,  7],\n",
       "        [ 8,  9, 10, 11]],\n",
       "\n",
       "       [[12, 13, 14, 15],\n",
       "        [16, 17, 18, 19],\n",
       "        [20, 21, 22, 23]],\n",
       "\n",
       "       [[12, 13, 14, 15],\n",
       "        [16, 17, 18, 19],\n",
       "        [20, 21, 22, 23]]])"
      ]
     },
     "execution_count": 75,
     "metadata": {},
     "output_type": "execute_result"
    }
   ],
   "source": [
    "np.repeat(my_repeatable_array, 2, axis=0)"
   ]
  },
  {
   "cell_type": "code",
   "execution_count": 76,
   "id": "7b9c7ff8",
   "metadata": {},
   "outputs": [
    {
     "data": {
      "text/plain": [
       "array([[[ 0,  1,  2,  3],\n",
       "        [ 0,  1,  2,  3],\n",
       "        [ 4,  5,  6,  7],\n",
       "        [ 4,  5,  6,  7],\n",
       "        [ 8,  9, 10, 11],\n",
       "        [ 8,  9, 10, 11]],\n",
       "\n",
       "       [[12, 13, 14, 15],\n",
       "        [12, 13, 14, 15],\n",
       "        [16, 17, 18, 19],\n",
       "        [16, 17, 18, 19],\n",
       "        [20, 21, 22, 23],\n",
       "        [20, 21, 22, 23]]])"
      ]
     },
     "execution_count": 76,
     "metadata": {},
     "output_type": "execute_result"
    }
   ],
   "source": [
    "np.repeat(my_repeatable_array, 2, axis=1)"
   ]
  },
  {
   "cell_type": "code",
   "execution_count": 77,
   "id": "16d5b9d6",
   "metadata": {},
   "outputs": [
    {
     "data": {
      "text/plain": [
       "array([[[ 0,  0,  1,  1,  2,  2,  3,  3],\n",
       "        [ 4,  4,  5,  5,  6,  6,  7,  7],\n",
       "        [ 8,  8,  9,  9, 10, 10, 11, 11]],\n",
       "\n",
       "       [[12, 12, 13, 13, 14, 14, 15, 15],\n",
       "        [16, 16, 17, 17, 18, 18, 19, 19],\n",
       "        [20, 20, 21, 21, 22, 22, 23, 23]]])"
      ]
     },
     "execution_count": 77,
     "metadata": {},
     "output_type": "execute_result"
    }
   ],
   "source": [
    "\n",
    "np.repeat(my_repeatable_array, 2, axis=2)"
   ]
  },
  {
   "attachments": {
    "uni_func.png": {
     "image/png": "[encoded data removed]"
    }
   },
   "cell_type": "markdown",
   "id": "cff89fae",
   "metadata": {},
   "source": [
    "![uni_func.png](attachment:uni_func.png)"
   ]
  },
  {
   "cell_type": "markdown",
   "id": "7cdc6c85",
   "metadata": {},
   "source": [
    "# op.reduce(a)\n",
    "\n",
    "Applies op to all the elements in a 1-D array a reducing it to a single value.\n",
    "For multidimensional arrays, op.reduce(a,axis)applies op to the elements of a along the specified axis. The resulting array has dimensionality one less than a.The default value for axis is 0"
   ]
  },
  {
   "cell_type": "code",
   "execution_count": 79,
   "id": "272beca3",
   "metadata": {},
   "outputs": [
    {
     "name": "stdout",
     "output_type": "stream",
     "text": [
      "[1 2 3 4]\n"
     ]
    },
    {
     "data": {
      "text/plain": [
       "24"
      ]
     },
     "execution_count": 79,
     "metadata": {},
     "output_type": "execute_result"
    }
   ],
   "source": [
    "a = np.arange(1,5)\n",
    "print(a)\n",
    "# np.add.reduce(a)\n",
    "np.multiply.reduce(a) # 4! = 4x3x2x1"
   ]
  },
  {
   "cell_type": "code",
   "execution_count": 80,
   "id": "ed4afc9b",
   "metadata": {},
   "outputs": [
    {
     "data": {
      "text/plain": [
       "'abcdef'"
      ]
     },
     "execution_count": 80,
     "metadata": {},
     "output_type": "execute_result"
    }
   ],
   "source": [
    "a = np.array([\"ab\", \"cd\", \"ef\"], dtype=object)\n",
    "np.add.reduce(a)"
   ]
  },
  {
   "cell_type": "code",
   "execution_count": 81,
   "id": "16c97652",
   "metadata": {},
   "outputs": [
    {
     "data": {
      "text/plain": [
       "array([[ 0,  1,  2],\n",
       "       [10, 11, 12],\n",
       "       [20, 21, 22],\n",
       "       [30, 31, 32]])"
      ]
     },
     "execution_count": 81,
     "metadata": {},
     "output_type": "execute_result"
    }
   ],
   "source": [
    "a = np.arange(0,31,10)\n",
    "b = np.arange(3)\n",
    "c = a[:, np.newaxis] + b\n",
    "c"
   ]
  },
  {
   "cell_type": "code",
   "execution_count": 82,
   "id": "085bbb86",
   "metadata": {},
   "outputs": [
    {
     "data": {
      "text/plain": [
       "array([60, 64, 68])"
      ]
     },
     "execution_count": 82,
     "metadata": {},
     "output_type": "execute_result"
    }
   ],
   "source": [
    "\n",
    "np.add.reduce(c, axis=0)"
   ]
  },
  {
   "cell_type": "code",
   "execution_count": 83,
   "id": "6da1ddd7",
   "metadata": {
    "scrolled": true
   },
   "outputs": [
    {
     "data": {
      "text/plain": [
       "array([ 3, 33, 63, 93])"
      ]
     },
     "execution_count": 83,
     "metadata": {},
     "output_type": "execute_result"
    }
   ],
   "source": [
    "np.add.reduce(c, axis=1)"
   ]
  },
  {
   "cell_type": "markdown",
   "id": "39acd3ae",
   "metadata": {},
   "source": [
    "# op.accumulate(a)\n",
    "\n",
    "creates a new array containing the intermediate results of the reduce operation at each element in a."
   ]
  },
  {
   "cell_type": "code",
   "execution_count": 84,
   "id": "733b2df4",
   "metadata": {},
   "outputs": [
    {
     "data": {
      "text/plain": [
       "array([ 1,  3,  6, 10, 15, 21, 28, 36, 45], dtype=int32)"
      ]
     },
     "execution_count": 84,
     "metadata": {},
     "output_type": "execute_result"
    }
   ],
   "source": [
    "a = np.arange(1,10)\n",
    "np.add.accumulate(a)"
   ]
  },
  {
   "cell_type": "code",
   "execution_count": 85,
   "id": "dbabecf9",
   "metadata": {},
   "outputs": [
    {
     "data": {
      "text/plain": [
       "array(['ab', 'abcd', 'abcdef'], dtype=object)"
      ]
     },
     "execution_count": 85,
     "metadata": {},
     "output_type": "execute_result"
    }
   ],
   "source": [
    "a = np.array([\"ab\", \"cd\", \"ef\"], dtype=object)\n",
    "np.add.accumulate(a)"
   ]
  },
  {
   "cell_type": "markdown",
   "id": "3c88f25a",
   "metadata": {},
   "source": [
    "# op.reduceat(a,indices)\n",
    "\n",
    "Applies op to ranges in the 1-D array a defined by the values in indices. The resulting array has the same length as indices."
   ]
  },
  {
   "cell_type": "code",
   "execution_count": 92,
   "id": "be371e42",
   "metadata": {},
   "outputs": [
    {
     "data": {
      "text/plain": [
       "array([1, 2, 3, 4, 5, 6, 7, 8, 9])"
      ]
     },
     "execution_count": 92,
     "metadata": {},
     "output_type": "execute_result"
    }
   ],
   "source": [
    "a = np.array(np.arange(1,10))\n",
    "a"
   ]
  },
  {
   "cell_type": "code",
   "execution_count": 93,
   "id": "a609354c",
   "metadata": {},
   "outputs": [
    {
     "data": {
      "text/plain": [
       "array([12, 13, 17], dtype=int32)"
      ]
     },
     "execution_count": 93,
     "metadata": {},
     "output_type": "execute_result"
    }
   ],
   "source": [
    "np.add.reduceat(a, [2,5,7])"
   ]
  },
  {
   "cell_type": "markdown",
   "id": "36aa28ac",
   "metadata": {},
   "source": [
    "### inner and outer"
   ]
  },
  {
   "cell_type": "code",
   "execution_count": 95,
   "id": "71f99db1",
   "metadata": {},
   "outputs": [],
   "source": [
    "import numpy as np"
   ]
  },
  {
   "cell_type": "code",
   "execution_count": 96,
   "id": "e75f35eb",
   "metadata": {},
   "outputs": [],
   "source": [
    "a = np.arange(12).reshape(3,4)\n",
    "b = np.arange(8).reshape(2,4)"
   ]
  },
  {
   "cell_type": "code",
   "execution_count": 97,
   "id": "92c34ab9",
   "metadata": {},
   "outputs": [
    {
     "data": {
      "text/plain": [
       "array([[ 0,  1,  2,  3],\n",
       "       [ 4,  5,  6,  7],\n",
       "       [ 8,  9, 10, 11]])"
      ]
     },
     "execution_count": 97,
     "metadata": {},
     "output_type": "execute_result"
    }
   ],
   "source": [
    "a"
   ]
  },
  {
   "cell_type": "code",
   "execution_count": 98,
   "id": "be632ba4",
   "metadata": {},
   "outputs": [
    {
     "data": {
      "text/plain": [
       "array([[0, 1, 2, 3],\n",
       "       [4, 5, 6, 7]])"
      ]
     },
     "execution_count": 98,
     "metadata": {},
     "output_type": "execute_result"
    }
   ],
   "source": [
    "\n",
    "b"
   ]
  },
  {
   "cell_type": "code",
   "execution_count": 99,
   "id": "a73c9487",
   "metadata": {},
   "outputs": [
    {
     "data": {
      "text/plain": [
       "array([[ 14,  38],\n",
       "       [ 38, 126],\n",
       "       [ 62, 214]])"
      ]
     },
     "execution_count": 99,
     "metadata": {},
     "output_type": "execute_result"
    }
   ],
   "source": [
    "\n",
    "np.inner(a,b)"
   ]
  },
  {
   "cell_type": "code",
   "execution_count": 100,
   "id": "fee33b1e",
   "metadata": {},
   "outputs": [
    {
     "data": {
      "text/plain": [
       "array([[ 28,  34],\n",
       "       [ 76,  98],\n",
       "       [124, 162]])"
      ]
     },
     "execution_count": 100,
     "metadata": {},
     "output_type": "execute_result"
    }
   ],
   "source": [
    "a = np.arange(12).reshape(3,4)\n",
    "b = np.arange(8).reshape(4,2)\n",
    "a.dot(b)"
   ]
  },
  {
   "cell_type": "code",
   "execution_count": null,
   "id": "4dae9880",
   "metadata": {},
   "outputs": [],
   "source": []
  }
 ],
 "metadata": {
  "kernelspec": {
   "display_name": "Python 3",
   "language": "python",
   "name": "python3"
  },
  "language_info": {
   "codemirror_mode": {
    "name": "ipython",
    "version": 3
   },
   "file_extension": ".py",
   "mimetype": "text/x-python",
   "name": "python",
   "nbconvert_exporter": "python",
   "pygments_lexer": "ipython3",
   "version": "3.8.8"
  }
 },
 "nbformat": 4,
 "nbformat_minor": 5
}
