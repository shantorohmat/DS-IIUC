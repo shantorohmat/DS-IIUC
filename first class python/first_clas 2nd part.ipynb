{
 "cells": [
  {
   "cell_type": "markdown",
   "id": "7de9c549",
   "metadata": {},
   "source": [
    "## Built in Function "
   ]
  },
  {
   "cell_type": "markdown",
   "id": "fb64cddd",
   "metadata": {},
   "source": [
    "## List"
   ]
  },
  {
   "cell_type": "markdown",
   "id": "85be37a3",
   "metadata": {},
   "source": [
    "## List Creating ##"
   ]
  },
  {
   "cell_type": "code",
   "execution_count": 106,
   "id": "54dbe0c9",
   "metadata": {},
   "outputs": [],
   "source": [
    "L = [1,2,3]\n",
    "product = [\"Apple\", \"Chocolate\", \"Orange\", \"Onion\", \"Potato\"]"
   ]
  },
  {
   "cell_type": "code",
   "execution_count": 107,
   "id": "4de9bf43",
   "metadata": {},
   "outputs": [
    {
     "data": {
      "text/plain": [
       "list"
      ]
     },
     "execution_count": 107,
     "metadata": {},
     "output_type": "execute_result"
    }
   ],
   "source": [
    "\n",
    "type(product)"
   ]
  },
  {
   "cell_type": "code",
   "execution_count": 108,
   "id": "53f699da",
   "metadata": {},
   "outputs": [
    {
     "data": {
      "text/plain": [
       "1"
      ]
     },
     "execution_count": 108,
     "metadata": {},
     "output_type": "execute_result"
    }
   ],
   "source": [
    "L[0]"
   ]
  },
  {
   "cell_type": "markdown",
   "id": "5bea2f3e",
   "metadata": {},
   "source": [
    "### 2D list"
   ]
  },
  {
   "cell_type": "code",
   "execution_count": 8,
   "id": "077845e2",
   "metadata": {},
   "outputs": [],
   "source": [
    "all = [product,[2,3,5,7,8]]"
   ]
  },
  {
   "cell_type": "code",
   "execution_count": 9,
   "id": "afd2c5c4",
   "metadata": {},
   "outputs": [
    {
     "data": {
      "text/plain": [
       "[['Apple', 'Chocolate', 'Orange', 'Onion', 'Potato'], [2, 3, 5, 7, 8]]"
      ]
     },
     "execution_count": 9,
     "metadata": {},
     "output_type": "execute_result"
    }
   ],
   "source": [
    "all"
   ]
  },
  {
   "cell_type": "code",
   "execution_count": 27,
   "id": "cbd5ec60",
   "metadata": {},
   "outputs": [
    {
     "name": "stdout",
     "output_type": "stream",
     "text": [
      "['Apple', 'Chocolate', 'Orange', 'Onion', 'Potato']\n",
      "[2, 3, 5, 7, 8]\n"
     ]
    }
   ],
   "source": [
    "print(all[0])\n",
    "print(all[1])\n"
   ]
  },
  {
   "cell_type": "code",
   "execution_count": 25,
   "id": "07116784",
   "metadata": {},
   "outputs": [
    {
     "name": "stdout",
     "output_type": "stream",
     "text": [
      "Apple\n",
      "Chocolate\n"
     ]
    }
   ],
   "source": [
    "print(all[0][0])\n",
    "print(all[0][1])"
   ]
  },
  {
   "cell_type": "code",
   "execution_count": 29,
   "id": "658471d5",
   "metadata": {},
   "outputs": [
    {
     "name": "stdout",
     "output_type": "stream",
     "text": [
      "Apple\n",
      "2\n"
     ]
    }
   ],
   "source": [
    "print(all[0][0])\n",
    "print(all[1][0])"
   ]
  },
  {
   "cell_type": "code",
   "execution_count": 30,
   "id": "5cc6269a",
   "metadata": {},
   "outputs": [
    {
     "name": "stdout",
     "output_type": "stream",
     "text": [
      "Apple : 2\n"
     ]
    }
   ],
   "source": [
    "print(\"{} : {}\".format(all[0][0],all[1][0]))\n"
   ]
  },
  {
   "cell_type": "code",
   "execution_count": 57,
   "id": "440432b1",
   "metadata": {},
   "outputs": [
    {
     "data": {
      "text/plain": [
       "[[2, 3, 5, 7, 8]]"
      ]
     },
     "execution_count": 57,
     "metadata": {},
     "output_type": "execute_result"
    }
   ],
   "source": [
    "all[1:2:2] # all[start:end:step]"
   ]
  },
  {
   "cell_type": "code",
   "execution_count": 61,
   "id": "c1af8f00",
   "metadata": {},
   "outputs": [
    {
     "data": {
      "text/plain": [
       "[[2, 3, 5, 7, 8]]"
      ]
     },
     "execution_count": 61,
     "metadata": {},
     "output_type": "execute_result"
    }
   ],
   "source": [
    "all[1:2:2]"
   ]
  },
  {
   "cell_type": "code",
   "execution_count": 62,
   "id": "e6a38aba",
   "metadata": {},
   "outputs": [
    {
     "data": {
      "text/plain": [
       "['Apple', 'Orange', 'Potato']"
      ]
     },
     "execution_count": 62,
     "metadata": {},
     "output_type": "execute_result"
    }
   ],
   "source": [
    "all[0][0::2]"
   ]
  },
  {
   "cell_type": "code",
   "execution_count": 63,
   "id": "c529a4f1",
   "metadata": {},
   "outputs": [
    {
     "data": {
      "text/plain": [
       "[['Apple', 'Chocolate', 'Orange', 'Onion', 'Potato'], [2, 3, 5, 7, 8]]"
      ]
     },
     "execution_count": 63,
     "metadata": {},
     "output_type": "execute_result"
    }
   ],
   "source": [
    "all\n"
   ]
  },
  {
   "cell_type": "code",
   "execution_count": 66,
   "id": "65b01f38",
   "metadata": {},
   "outputs": [
    {
     "data": {
      "text/plain": [
       "2"
      ]
     },
     "execution_count": 66,
     "metadata": {},
     "output_type": "execute_result"
    }
   ],
   "source": [
    "len(all)"
   ]
  },
  {
   "cell_type": "code",
   "execution_count": 67,
   "id": "5159453b",
   "metadata": {},
   "outputs": [
    {
     "data": {
      "text/plain": [
       "5"
      ]
     },
     "execution_count": 67,
     "metadata": {},
     "output_type": "execute_result"
    }
   ],
   "source": [
    "len(all[0])#[2,3,4,5,7,8]"
   ]
  },
  {
   "cell_type": "code",
   "execution_count": 68,
   "id": "43d86c03",
   "metadata": {},
   "outputs": [
    {
     "data": {
      "text/plain": [
       "5"
      ]
     },
     "execution_count": 68,
     "metadata": {},
     "output_type": "execute_result"
    }
   ],
   "source": [
    "len(all[1]) #['Apple', 'Chocolate', 'Orange', 'Onion', 'Potato']"
   ]
  },
  {
   "cell_type": "code",
   "execution_count": 69,
   "id": "b3116583",
   "metadata": {},
   "outputs": [
    {
     "data": {
      "text/plain": [
       "9"
      ]
     },
     "execution_count": 69,
     "metadata": {},
     "output_type": "execute_result"
    }
   ],
   "source": [
    "len(all[0][1])# chocolate have 9 words"
   ]
  },
  {
   "cell_type": "code",
   "execution_count": 70,
   "id": "b931d178",
   "metadata": {},
   "outputs": [
    {
     "data": {
      "text/plain": [
       "'Chocolate'"
      ]
     },
     "execution_count": 70,
     "metadata": {},
     "output_type": "execute_result"
    }
   ],
   "source": [
    "all[0][1]"
   ]
  },
  {
   "cell_type": "code",
   "execution_count": 84,
   "id": "093d71d6",
   "metadata": {},
   "outputs": [
    {
     "data": {
      "text/plain": [
       "1"
      ]
     },
     "execution_count": 84,
     "metadata": {},
     "output_type": "execute_result"
    }
   ],
   "source": [
    "all[0].count(\"Onion\")"
   ]
  },
  {
   "cell_type": "code",
   "execution_count": 86,
   "id": "28c3ae87",
   "metadata": {},
   "outputs": [],
   "source": [
    "all[0].append(\"Mengo\") "
   ]
  },
  {
   "cell_type": "code",
   "execution_count": 87,
   "id": "ee1e8c80",
   "metadata": {},
   "outputs": [],
   "source": [
    "all[1].append(5)"
   ]
  },
  {
   "cell_type": "code",
   "execution_count": 88,
   "id": "9bd43854",
   "metadata": {},
   "outputs": [
    {
     "data": {
      "text/plain": [
       "[['Apple', 'Chocolate', 'Orange', 'Onion', 'Potato', 'Mengo', 'Mengo'],\n",
       " [2, 3, 5, 7, 8, 5, 5]]"
      ]
     },
     "execution_count": 88,
     "metadata": {},
     "output_type": "execute_result"
    }
   ],
   "source": [
    "all"
   ]
  },
  {
   "cell_type": "code",
   "execution_count": 89,
   "id": "6bbf2d4a",
   "metadata": {},
   "outputs": [],
   "source": [
    "all[0].remove(\"Mengo\")"
   ]
  },
  {
   "cell_type": "code",
   "execution_count": 90,
   "id": "4f8ffeae",
   "metadata": {},
   "outputs": [
    {
     "data": {
      "text/plain": [
       "[['Apple', 'Chocolate', 'Orange', 'Onion', 'Potato', 'Mengo'],\n",
       " [2, 3, 5, 7, 8, 5, 5]]"
      ]
     },
     "execution_count": 90,
     "metadata": {},
     "output_type": "execute_result"
    }
   ],
   "source": [
    "all"
   ]
  },
  {
   "cell_type": "code",
   "execution_count": 99,
   "id": "74b5b68a",
   "metadata": {},
   "outputs": [],
   "source": [
    "all[1].remove(all[1][-1])\n"
   ]
  },
  {
   "cell_type": "code",
   "execution_count": 100,
   "id": "fc512ffd",
   "metadata": {},
   "outputs": [
    {
     "data": {
      "text/plain": [
       "[2, 3, 7, 8, 5]"
      ]
     },
     "execution_count": 100,
     "metadata": {},
     "output_type": "execute_result"
    }
   ],
   "source": [
    "all[1]"
   ]
  },
  {
   "cell_type": "code",
   "execution_count": 102,
   "id": "2a2bca7f",
   "metadata": {},
   "outputs": [],
   "source": [
    "all[0][1] = \"Icecream\""
   ]
  },
  {
   "cell_type": "code",
   "execution_count": 103,
   "id": "b3eb7c1d",
   "metadata": {},
   "outputs": [
    {
     "data": {
      "text/plain": [
       "'Icecream'"
      ]
     },
     "execution_count": 103,
     "metadata": {},
     "output_type": "execute_result"
    }
   ],
   "source": [
    "all[0][1]"
   ]
  },
  {
   "cell_type": "code",
   "execution_count": 104,
   "id": "63d2d6e7",
   "metadata": {},
   "outputs": [
    {
     "data": {
      "text/plain": [
       "7"
      ]
     },
     "execution_count": 104,
     "metadata": {},
     "output_type": "execute_result"
    }
   ],
   "source": [
    "all[1][2]"
   ]
  },
  {
   "cell_type": "code",
   "execution_count": 105,
   "id": "533227cd",
   "metadata": {},
   "outputs": [],
   "source": [
    "all[1][2] = 5\n"
   ]
  },
  {
   "cell_type": "code",
   "execution_count": 106,
   "id": "7d823a6b",
   "metadata": {},
   "outputs": [
    {
     "data": {
      "text/plain": [
       "5"
      ]
     },
     "execution_count": 106,
     "metadata": {},
     "output_type": "execute_result"
    }
   ],
   "source": [
    "all[1][2]"
   ]
  },
  {
   "cell_type": "code",
   "execution_count": 107,
   "id": "8534a8a5",
   "metadata": {},
   "outputs": [
    {
     "data": {
      "text/plain": [
       "['Apple', 'Icecream', 'Orange', 'Onion', 'Potato', 'Mengo']"
      ]
     },
     "execution_count": 107,
     "metadata": {},
     "output_type": "execute_result"
    }
   ],
   "source": [
    "all[0]"
   ]
  },
  {
   "cell_type": "code",
   "execution_count": 108,
   "id": "5cd62fc6",
   "metadata": {},
   "outputs": [],
   "source": [
    "all[0].reverse()"
   ]
  },
  {
   "cell_type": "code",
   "execution_count": 109,
   "id": "6feac2e1",
   "metadata": {},
   "outputs": [
    {
     "data": {
      "text/plain": [
       "['Mengo', 'Potato', 'Onion', 'Orange', 'Icecream', 'Apple']"
      ]
     },
     "execution_count": 109,
     "metadata": {},
     "output_type": "execute_result"
    }
   ],
   "source": [
    "all[0]"
   ]
  },
  {
   "cell_type": "markdown",
   "id": "04f63437",
   "metadata": {},
   "source": [
    "\n",
    "### tuple"
   ]
  },
  {
   "cell_type": "code",
   "execution_count": 119,
   "id": "c127d718",
   "metadata": {},
   "outputs": [],
   "source": [
    "t = ()"
   ]
  },
  {
   "cell_type": "code",
   "execution_count": 120,
   "id": "f7eacb0e",
   "metadata": {},
   "outputs": [
    {
     "data": {
      "text/plain": [
       "tuple"
      ]
     },
     "execution_count": 120,
     "metadata": {},
     "output_type": "execute_result"
    }
   ],
   "source": [
    "type(t)"
   ]
  },
  {
   "cell_type": "code",
   "execution_count": 122,
   "id": "fde89b46",
   "metadata": {},
   "outputs": [],
   "source": [
    "t = (\"apple\",2)"
   ]
  },
  {
   "cell_type": "code",
   "execution_count": 123,
   "id": "72de1a3e",
   "metadata": {},
   "outputs": [
    {
     "data": {
      "text/plain": [
       "('apple', 2)"
      ]
     },
     "execution_count": 123,
     "metadata": {},
     "output_type": "execute_result"
    }
   ],
   "source": [
    "t"
   ]
  },
  {
   "cell_type": "code",
   "execution_count": 124,
   "id": "bebafe44",
   "metadata": {},
   "outputs": [
    {
     "data": {
      "text/plain": [
       "'apple'"
      ]
     },
     "execution_count": 124,
     "metadata": {},
     "output_type": "execute_result"
    }
   ],
   "source": [
    "t[0]"
   ]
  },
  {
   "cell_type": "code",
   "execution_count": 125,
   "id": "fd9bae8a",
   "metadata": {},
   "outputs": [
    {
     "data": {
      "text/plain": [
       "2"
      ]
     },
     "execution_count": 125,
     "metadata": {},
     "output_type": "execute_result"
    }
   ],
   "source": [
    "t[1]"
   ]
  },
  {
   "cell_type": "code",
   "execution_count": 127,
   "id": "a1447ca5",
   "metadata": {},
   "outputs": [
    {
     "data": {
      "text/plain": [
       "'apple'"
      ]
     },
     "execution_count": 127,
     "metadata": {},
     "output_type": "execute_result"
    }
   ],
   "source": [
    "t[0] "
   ]
  },
  {
   "cell_type": "markdown",
   "id": "3807b4a3",
   "metadata": {},
   "source": [
    "### set"
   ]
  },
  {
   "cell_type": "code",
   "execution_count": 132,
   "id": "94fd1435",
   "metadata": {},
   "outputs": [
    {
     "data": {
      "text/plain": [
       "{'2'}"
      ]
     },
     "execution_count": 132,
     "metadata": {},
     "output_type": "execute_result"
    }
   ],
   "source": [
    "s = set()\n",
    "s"
   ]
  },
  {
   "cell_type": "code",
   "execution_count": 129,
   "id": "f1efbac7",
   "metadata": {},
   "outputs": [
    {
     "data": {
      "text/plain": [
       "set"
      ]
     },
     "execution_count": 129,
     "metadata": {},
     "output_type": "execute_result"
    }
   ],
   "source": [
    "type(s)"
   ]
  },
  {
   "cell_type": "code",
   "execution_count": 133,
   "id": "bae89830",
   "metadata": {},
   "outputs": [],
   "source": [
    "x = {1,2,5}"
   ]
  },
  {
   "cell_type": "code",
   "execution_count": 134,
   "id": "3da0739c",
   "metadata": {},
   "outputs": [
    {
     "data": {
      "text/plain": [
       "{1, 2, 5}"
      ]
     },
     "execution_count": 134,
     "metadata": {},
     "output_type": "execute_result"
    }
   ],
   "source": [
    "x"
   ]
  },
  {
   "cell_type": "code",
   "execution_count": 138,
   "id": "c22abf24",
   "metadata": {},
   "outputs": [
    {
     "data": {
      "text/plain": [
       "set"
      ]
     },
     "execution_count": 138,
     "metadata": {},
     "output_type": "execute_result"
    }
   ],
   "source": [
    "type(x)"
   ]
  },
  {
   "cell_type": "code",
   "execution_count": 135,
   "id": "4be448e2",
   "metadata": {},
   "outputs": [
    {
     "data": {
      "text/plain": [
       "set"
      ]
     },
     "execution_count": 135,
     "metadata": {},
     "output_type": "execute_result"
    }
   ],
   "source": [
    "type(x)"
   ]
  },
  {
   "cell_type": "markdown",
   "id": "56b64950",
   "metadata": {},
   "source": [
    "### dictionary"
   ]
  },
  {
   "cell_type": "code",
   "execution_count": 136,
   "id": "d25f4ac9",
   "metadata": {},
   "outputs": [],
   "source": [
    "d = {}"
   ]
  },
  {
   "cell_type": "code",
   "execution_count": 137,
   "id": "51be59a9",
   "metadata": {},
   "outputs": [
    {
     "data": {
      "text/plain": [
       "dict"
      ]
     },
     "execution_count": 137,
     "metadata": {},
     "output_type": "execute_result"
    }
   ],
   "source": [
    "type(d)"
   ]
  },
  {
   "cell_type": "code",
   "execution_count": 139,
   "id": "58264c76",
   "metadata": {},
   "outputs": [],
   "source": [
    "d = {1,2,3}"
   ]
  },
  {
   "cell_type": "code",
   "execution_count": 140,
   "id": "91991acc",
   "metadata": {},
   "outputs": [
    {
     "data": {
      "text/plain": [
       "set"
      ]
     },
     "execution_count": 140,
     "metadata": {},
     "output_type": "execute_result"
    }
   ],
   "source": [
    "type(d)"
   ]
  },
  {
   "cell_type": "code",
   "execution_count": 145,
   "id": "ca7a569d",
   "metadata": {},
   "outputs": [],
   "source": [
    "d = {\"mango\":2,\"apple\":5,\"orange\":4}"
   ]
  },
  {
   "cell_type": "code",
   "execution_count": 146,
   "id": "c5b9a569",
   "metadata": {},
   "outputs": [
    {
     "data": {
      "text/plain": [
       "{'mango': 2, 'apple': 5, 'orange': 4}"
      ]
     },
     "execution_count": 146,
     "metadata": {},
     "output_type": "execute_result"
    }
   ],
   "source": [
    "d\n"
   ]
  },
  {
   "cell_type": "code",
   "execution_count": 147,
   "id": "0a451999",
   "metadata": {},
   "outputs": [
    {
     "data": {
      "text/plain": [
       "dict"
      ]
     },
     "execution_count": 147,
     "metadata": {},
     "output_type": "execute_result"
    }
   ],
   "source": [
    "type(d)"
   ]
  },
  {
   "cell_type": "code",
   "execution_count": 172,
   "id": "17053b7b",
   "metadata": {},
   "outputs": [],
   "source": [
    "data_science = {\"begineer\":{\"shanto\":18,\"shuvo\":14,\"sumon\":15},\n",
    "                \"advanced\":{\"rohmat\":2,\"borkat\":5,\"tapsir\":6}}"
   ]
  },
  {
   "cell_type": "code",
   "execution_count": 173,
   "id": "e34e5497",
   "metadata": {},
   "outputs": [
    {
     "data": {
      "text/plain": [
       "{'begineer': {'shanto': 18, 'shuvo': 14, 'sumon': 15},\n",
       " 'advanced': {'rohmat': 2, 'borkat': 5, 'tapsir': 6}}"
      ]
     },
     "execution_count": 173,
     "metadata": {},
     "output_type": "execute_result"
    }
   ],
   "source": [
    "data_science"
   ]
  },
  {
   "cell_type": "code",
   "execution_count": 170,
   "id": "3b0c70d3",
   "metadata": {},
   "outputs": [],
   "source": [
    "data_science = {\"begineer\":{\"shanto\":18,\"shuvo\":14,\"sumon\":15},\n",
    "                \"advanced\":[\"rohmat\",2,\"borkat\",5,\"tapsir\",6]}"
   ]
  },
  {
   "cell_type": "code",
   "execution_count": 174,
   "id": "12a7fa10",
   "metadata": {},
   "outputs": [
    {
     "data": {
      "text/plain": [
       "{'begineer': {'shanto': 18, 'shuvo': 14, 'sumon': 15},\n",
       " 'advanced': {'rohmat': 2, 'borkat': 5, 'tapsir': 6}}"
      ]
     },
     "execution_count": 174,
     "metadata": {},
     "output_type": "execute_result"
    }
   ],
   "source": [
    "data_science"
   ]
  },
  {
   "cell_type": "code",
   "execution_count": 175,
   "id": "aa458a4e",
   "metadata": {},
   "outputs": [
    {
     "data": {
      "text/plain": [
       "{'shanto': 18, 'shuvo': 14, 'sumon': 15}"
      ]
     },
     "execution_count": 175,
     "metadata": {},
     "output_type": "execute_result"
    }
   ],
   "source": [
    "data_science.get(\"begineer\")"
   ]
  },
  {
   "cell_type": "code",
   "execution_count": 191,
   "id": "b993dbd5",
   "metadata": {},
   "outputs": [
    {
     "data": {
      "text/plain": [
       "18"
      ]
     },
     "execution_count": 191,
     "metadata": {},
     "output_type": "execute_result"
    }
   ],
   "source": [
    "data_science[\"begineer\"][\"shanto\"]"
   ]
  },
  {
   "cell_type": "code",
   "execution_count": 194,
   "id": "2f1f3dc3",
   "metadata": {},
   "outputs": [
    {
     "data": {
      "text/plain": [
       "2"
      ]
     },
     "execution_count": 194,
     "metadata": {},
     "output_type": "execute_result"
    }
   ],
   "source": [
    "data_science[\"advanced\"][\"rohmat\"]"
   ]
  },
  {
   "cell_type": "code",
   "execution_count": 110,
   "id": "d1d848bf",
   "metadata": {},
   "outputs": [],
   "source": [
    "all_company = {\n",
    "    \"abc\":{\n",
    "        \"managemant\":[\n",
    "            \"abc\", \"def\", \"xyz\"\n",
    "        ],\n",
    "        \"bot\":[\n",
    "                \"pqr\", \"vrt\"\n",
    "        ],\n",
    "        \"paid_up_capital\":125684798,\n",
    "        \"total_share\" : 2146,\n",
    "        \n",
    "    },\n",
    "    \"ddd\":{\n",
    "        \"managemant\":[\n",
    "            \"aaa\", \"bbb\", \"xxx\"\n",
    "        ],\n",
    "        \"bot\":[\n",
    "                \"ppp\", \"rrr\"\n",
    "        ],\n",
    "        \"paid_up_capital\":125684798,\n",
    "        \"total_share\" : 2146,\n",
    "        \n",
    "    }\n",
    "}"
   ]
  },
  {
   "cell_type": "code",
   "execution_count": 111,
   "id": "47274c3a",
   "metadata": {},
   "outputs": [
    {
     "data": {
      "text/plain": [
       "{'abc': {'managemant': ['abc', 'def', 'xyz'],\n",
       "  'bot': ['pqr', 'vrt'],\n",
       "  'paid_up_capital': 125684798,\n",
       "  'total_share': 2146},\n",
       " 'ddd': {'managemant': ['aaa', 'bbb', 'xxx'],\n",
       "  'bot': ['ppp', 'rrr'],\n",
       "  'paid_up_capital': 125684798,\n",
       "  'total_share': 2146}}"
      ]
     },
     "execution_count": 111,
     "metadata": {},
     "output_type": "execute_result"
    }
   ],
   "source": [
    "all_company"
   ]
  },
  {
   "cell_type": "code",
   "execution_count": 6,
   "id": "8d4e5bcb",
   "metadata": {},
   "outputs": [
    {
     "data": {
      "text/plain": [
       "True"
      ]
     },
     "execution_count": 6,
     "metadata": {},
     "output_type": "execute_result"
    }
   ],
   "source": [
    "\"def\" in all_company[\"abc\"][\"managemant\"]"
   ]
  },
  {
   "cell_type": "code",
   "execution_count": 112,
   "id": "579b9d37",
   "metadata": {},
   "outputs": [
    {
     "data": {
      "text/plain": [
       "['abc', 'def', 'xyz']"
      ]
     },
     "execution_count": 112,
     "metadata": {},
     "output_type": "execute_result"
    }
   ],
   "source": [
    "all_company[\"abc\"][\"managemant\"]"
   ]
  },
  {
   "cell_type": "code",
   "execution_count": 8,
   "id": "e9c88b9d",
   "metadata": {},
   "outputs": [
    {
     "data": {
      "text/plain": [
       "['pqr', 'vrt']"
      ]
     },
     "execution_count": 8,
     "metadata": {},
     "output_type": "execute_result"
    }
   ],
   "source": [
    "all_company[\"abc\"][\"bot\"]"
   ]
  },
  {
   "cell_type": "code",
   "execution_count": 114,
   "id": "1df332b8",
   "metadata": {},
   "outputs": [
    {
     "data": {
      "text/plain": [
       "'def'"
      ]
     },
     "execution_count": 114,
     "metadata": {},
     "output_type": "execute_result"
    }
   ],
   "source": [
    "all_company[\"abc\"][\"managemant\"][1]"
   ]
  },
  {
   "cell_type": "code",
   "execution_count": 9,
   "id": "498dede8",
   "metadata": {},
   "outputs": [
    {
     "data": {
      "text/plain": [
       "125684798"
      ]
     },
     "execution_count": 9,
     "metadata": {},
     "output_type": "execute_result"
    }
   ],
   "source": [
    "all_company[\"abc\"][\"paid_up_capital\"]"
   ]
  },
  {
   "cell_type": "code",
   "execution_count": 10,
   "id": "d51118ba",
   "metadata": {},
   "outputs": [
    {
     "data": {
      "text/plain": [
       "251369596"
      ]
     },
     "execution_count": 10,
     "metadata": {},
     "output_type": "execute_result"
    }
   ],
   "source": [
    "## sum of all companies\n",
    "all_company[\"abc\"][\"paid_up_capital\"] + all_company[\"ddd\"][\"paid_up_capital\"]"
   ]
  },
  {
   "cell_type": "code",
   "execution_count": 12,
   "id": "e3e1dcdc",
   "metadata": {},
   "outputs": [
    {
     "data": {
      "text/plain": [
       "dict_keys(['abc', 'ddd'])"
      ]
     },
     "execution_count": 12,
     "metadata": {},
     "output_type": "execute_result"
    }
   ],
   "source": [
    "all_company.keys()\n"
   ]
  },
  {
   "cell_type": "code",
   "execution_count": 13,
   "id": "7f351557",
   "metadata": {},
   "outputs": [
    {
     "data": {
      "text/plain": [
       "dict_values([{'managemant': ['abc', 'def', 'xyz'], 'bot': ['pqr', 'vrt'], 'paid_up_capital': 125684798, 'total_share': 2146}, {'managemant': ['aaa', 'bbb', 'xxx'], 'bot': ['ppp', 'rrr'], 'paid_up_capital': 125684798, 'total_share': 2146}])"
      ]
     },
     "execution_count": 13,
     "metadata": {},
     "output_type": "execute_result"
    }
   ],
   "source": [
    "all_company.values()"
   ]
  },
  {
   "cell_type": "code",
   "execution_count": 15,
   "id": "fb8618c2",
   "metadata": {},
   "outputs": [
    {
     "data": {
      "text/plain": [
       "dict_items([('abc', {'managemant': ['abc', 'def', 'xyz'], 'bot': ['pqr', 'vrt'], 'paid_up_capital': 125684798, 'total_share': 2146}), ('ddd', {'managemant': ['aaa', 'bbb', 'xxx'], 'bot': ['ppp', 'rrr'], 'paid_up_capital': 125684798, 'total_share': 2146})])"
      ]
     },
     "execution_count": 15,
     "metadata": {},
     "output_type": "execute_result"
    }
   ],
   "source": [
    "all_company.items()"
   ]
  },
  {
   "cell_type": "code",
   "execution_count": 26,
   "id": "fcb87a18",
   "metadata": {},
   "outputs": [
    {
     "name": "stdout",
     "output_type": "stream",
     "text": [
      "key:  abc value:  {'managemant': ['abc', 'def', 'xyz'], 'bot': ['pqr', 'vrt'], 'paid_up_capital': 125684798, 'total_share': 2146}\n",
      "key:  ddd value:  {'managemant': ['aaa', 'bbb', 'xxx'], 'bot': ['ppp', 'rrr'], 'paid_up_capital': 125684798, 'total_share': 2146}\n",
      "total_share :  4292\n"
     ]
    }
   ],
   "source": [
    "t = 0\n",
    "for k,v in all_company.items():\n",
    "    print(\"key: \",k,\"value: \",v)\n",
    "    t += v[\"total_share\"]\n",
    "\n",
    "print(\"total_share : \", t)\n",
    "    "
   ]
  },
  {
   "cell_type": "code",
   "execution_count": 44,
   "id": "2b8f88d6",
   "metadata": {},
   "outputs": [
    {
     "name": "stdout",
     "output_type": "stream",
     "text": [
      "found\n"
     ]
    }
   ],
   "source": [
    "if \"def\" in all_company[\"abc\"][\"managemant\"]:\n",
    "    print(\"found\")\n",
    "else:\n",
    "    print(\"not found\")"
   ]
  },
  {
   "cell_type": "code",
   "execution_count": 45,
   "id": "299cf118",
   "metadata": {},
   "outputs": [],
   "source": [
    "all_company[\"std\"] = {\"managemant\":[\"abc\",\"def\",\"xyz\"],\"bot\":[\"jan\",\"mon\"]}"
   ]
  },
  {
   "cell_type": "code",
   "execution_count": 46,
   "id": "fb54b365",
   "metadata": {},
   "outputs": [
    {
     "data": {
      "text/plain": [
       "{'abc': {'managemant': ['abc', 'def', 'xyz'],\n",
       "  'bot': ['pqr', 'vrt'],\n",
       "  'paid_up_capital': 125684798,\n",
       "  'total_share': 2146},\n",
       " 'ddd': {'managemant': ['aaa', 'bbb', 'xxx'],\n",
       "  'bot': ['ppp', 'rrr'],\n",
       "  'paid_up_capital': 125684798,\n",
       "  'total_share': 2146},\n",
       " 'std': {'managemant': ['abc', 'def', 'xyz'], 'bot': ['jan', 'mon']}}"
      ]
     },
     "execution_count": 46,
     "metadata": {},
     "output_type": "execute_result"
    }
   ],
   "source": [
    "all_company"
   ]
  },
  {
   "cell_type": "markdown",
   "id": "82e99513",
   "metadata": {},
   "source": [
    "### string "
   ]
  },
  {
   "cell_type": "code",
   "execution_count": 62,
   "id": "54a468db",
   "metadata": {},
   "outputs": [],
   "source": [
    "s = \"I am student of a engineering university\""
   ]
  },
  {
   "cell_type": "code",
   "execution_count": 48,
   "id": "c09e31dc",
   "metadata": {},
   "outputs": [
    {
     "data": {
      "text/plain": [
       "str"
      ]
     },
     "execution_count": 48,
     "metadata": {},
     "output_type": "execute_result"
    }
   ],
   "source": [
    "type(s)"
   ]
  },
  {
   "cell_type": "code",
   "execution_count": 49,
   "id": "951f57d5",
   "metadata": {},
   "outputs": [
    {
     "data": {
      "text/plain": [
       "'I'"
      ]
     },
     "execution_count": 49,
     "metadata": {},
     "output_type": "execute_result"
    }
   ],
   "source": [
    "s[0]"
   ]
  },
  {
   "cell_type": "code",
   "execution_count": 61,
   "id": "1867e753",
   "metadata": {},
   "outputs": [
    {
     "data": {
      "text/plain": [
       "'Ia tdn fafciguiest'"
      ]
     },
     "execution_count": 61,
     "metadata": {},
     "output_type": "execute_result"
    }
   ],
   "source": [
    "s[0::2]"
   ]
  },
  {
   "cell_type": "code",
   "execution_count": 60,
   "id": "784b1c7b",
   "metadata": {
    "collapsed": true
   },
   "outputs": [
    {
     "ename": "NameError",
     "evalue": "name 'program' is not defined",
     "output_type": "error",
     "traceback": [
      "\u001b[1;31m---------------------------------------------------------------------------\u001b[0m",
      "\u001b[1;31mNameError\u001b[0m                                 Traceback (most recent call last)",
      "\u001b[1;32m<ipython-input-60-c07ab5a4ca9b>\u001b[0m in \u001b[0;36m<module>\u001b[1;34m\u001b[0m\n\u001b[0;32m      1\u001b[0m \u001b[1;31m# accessing\u001b[0m\u001b[1;33m\u001b[0m\u001b[1;33m\u001b[0m\u001b[1;33m\u001b[0m\u001b[0m\n\u001b[1;32m----> 2\u001b[1;33m \u001b[0mprogram\u001b[0m\u001b[1;33m[\u001b[0m\u001b[1;36m1\u001b[0m\u001b[1;33m]\u001b[0m \u001b[1;31m# single value access\u001b[0m\u001b[1;33m\u001b[0m\u001b[1;33m\u001b[0m\u001b[0m\n\u001b[0m\u001b[0;32m      3\u001b[0m \u001b[0mprogram\u001b[0m\u001b[1;33m[\u001b[0m\u001b[1;36m1\u001b[0m\u001b[1;33m:\u001b[0m\u001b[1;36m10\u001b[0m\u001b[1;33m]\u001b[0m \u001b[1;31m# range value access\u001b[0m\u001b[1;33m\u001b[0m\u001b[1;33m\u001b[0m\u001b[0m\n\u001b[0;32m      4\u001b[0m \u001b[0mprogram\u001b[0m\u001b[1;33m[\u001b[0m\u001b[1;33m:\u001b[0m\u001b[1;33m:\u001b[0m\u001b[1;36m2\u001b[0m\u001b[1;33m]\u001b[0m \u001b[1;31m# stepping\u001b[0m\u001b[1;33m\u001b[0m\u001b[1;33m\u001b[0m\u001b[0m\n",
      "\u001b[1;31mNameError\u001b[0m: name 'program' is not defined"
     ]
    }
   ],
   "source": [
    "# accessing\n",
    "program[1] # single value access\n",
    "program[1:10] # range value access\n",
    "program[::2] # stepping"
   ]
  },
  {
   "cell_type": "code",
   "execution_count": 63,
   "id": "9b49624d",
   "metadata": {},
   "outputs": [
    {
     "data": {
      "text/plain": [
       "1"
      ]
     },
     "execution_count": 63,
     "metadata": {},
     "output_type": "execute_result"
    }
   ],
   "source": [
    "s.count(\"engineering\")"
   ]
  },
  {
   "cell_type": "markdown",
   "id": "533a81e5",
   "metadata": {},
   "source": [
    "### buil-in functions"
   ]
  },
  {
   "cell_type": "code",
   "execution_count": 65,
   "id": "a5ae7691",
   "metadata": {},
   "outputs": [
    {
     "data": {
      "text/plain": [
       "'I am student of a engineering university'"
      ]
     },
     "execution_count": 65,
     "metadata": {},
     "output_type": "execute_result"
    }
   ],
   "source": [
    "s"
   ]
  },
  {
   "cell_type": "code",
   "execution_count": 67,
   "id": "bff1c1fd",
   "metadata": {},
   "outputs": [
    {
     "data": {
      "text/plain": [
       "'I AM STUDENT OF A ENGINEERING UNIVERSITY'"
      ]
     },
     "execution_count": 67,
     "metadata": {},
     "output_type": "execute_result"
    }
   ],
   "source": [
    "s.upper()"
   ]
  },
  {
   "cell_type": "code",
   "execution_count": 68,
   "id": "9bf83c3e",
   "metadata": {},
   "outputs": [
    {
     "data": {
      "text/plain": [
       "'i am student of a engineering university'"
      ]
     },
     "execution_count": 68,
     "metadata": {},
     "output_type": "execute_result"
    }
   ],
   "source": [
    "s.lower()"
   ]
  },
  {
   "cell_type": "code",
   "execution_count": 69,
   "id": "8b274e30",
   "metadata": {},
   "outputs": [
    {
     "data": {
      "text/plain": [
       "'I am student of a engineering university'"
      ]
     },
     "execution_count": 69,
     "metadata": {},
     "output_type": "execute_result"
    }
   ],
   "source": [
    "s.capitalize()"
   ]
  },
  {
   "cell_type": "code",
   "execution_count": 76,
   "id": "238766f5",
   "metadata": {},
   "outputs": [
    {
     "data": {
      "text/plain": [
       "True"
      ]
     },
     "execution_count": 76,
     "metadata": {},
     "output_type": "execute_result"
    }
   ],
   "source": [
    "s.endswith(\"ty\")"
   ]
  },
  {
   "cell_type": "code",
   "execution_count": 79,
   "id": "2602acc5",
   "metadata": {},
   "outputs": [
    {
     "data": {
      "text/plain": [
       "True"
      ]
     },
     "execution_count": 79,
     "metadata": {},
     "output_type": "execute_result"
    }
   ],
   "source": [
    "s.startswith(\"I\")"
   ]
  },
  {
   "cell_type": "code",
   "execution_count": 80,
   "id": "57b1fd0d",
   "metadata": {},
   "outputs": [
    {
     "data": {
      "text/plain": [
       "'             Data Science Bootcamp'"
      ]
     },
     "execution_count": 80,
     "metadata": {},
     "output_type": "execute_result"
    }
   ],
   "source": [
    "program = \"             Data Science Bootcamp\"\n",
    "program"
   ]
  },
  {
   "cell_type": "code",
   "execution_count": 82,
   "id": "1c348f5c",
   "metadata": {},
   "outputs": [
    {
     "data": {
      "text/plain": [
       "'Data Science Bootcamp'"
      ]
     },
     "execution_count": 82,
     "metadata": {},
     "output_type": "execute_result"
    }
   ],
   "source": [
    "program.lstrip()"
   ]
  },
  {
   "cell_type": "code",
   "execution_count": 83,
   "id": "304a5a7a",
   "metadata": {},
   "outputs": [
    {
     "data": {
      "text/plain": [
       "'Data Science Bootcamp        '"
      ]
     },
     "execution_count": 83,
     "metadata": {},
     "output_type": "execute_result"
    }
   ],
   "source": [
    "program = \"Data Science Bootcamp        \"\n",
    "program"
   ]
  },
  {
   "cell_type": "code",
   "execution_count": 84,
   "id": "aa92c5aa",
   "metadata": {},
   "outputs": [
    {
     "data": {
      "text/plain": [
       "'Data Science Bootcamp'"
      ]
     },
     "execution_count": 84,
     "metadata": {},
     "output_type": "execute_result"
    }
   ],
   "source": [
    "program.rstrip()"
   ]
  },
  {
   "cell_type": "code",
   "execution_count": 85,
   "id": "260ce876",
   "metadata": {},
   "outputs": [],
   "source": [
    "program = \"          Data Science Engineering Class                 \""
   ]
  },
  {
   "cell_type": "code",
   "execution_count": 86,
   "id": "6017984c",
   "metadata": {},
   "outputs": [
    {
     "data": {
      "text/plain": [
       "'          Data Science Engineering Class                 '"
      ]
     },
     "execution_count": 86,
     "metadata": {},
     "output_type": "execute_result"
    }
   ],
   "source": [
    "program"
   ]
  },
  {
   "cell_type": "code",
   "execution_count": 87,
   "id": "024533c5",
   "metadata": {},
   "outputs": [
    {
     "data": {
      "text/plain": [
       "'Data Science Engineering Class'"
      ]
     },
     "execution_count": 87,
     "metadata": {},
     "output_type": "execute_result"
    }
   ],
   "source": [
    "program.strip()"
   ]
  },
  {
   "cell_type": "code",
   "execution_count": 88,
   "id": "0bb85a24",
   "metadata": {},
   "outputs": [],
   "source": [
    "splited_list = s.split(\" \")"
   ]
  },
  {
   "cell_type": "code",
   "execution_count": 89,
   "id": "d44def91",
   "metadata": {},
   "outputs": [
    {
     "data": {
      "text/plain": [
       "['I', 'am', 'student', 'of', 'a', 'engineering', 'university']"
      ]
     },
     "execution_count": 89,
     "metadata": {},
     "output_type": "execute_result"
    }
   ],
   "source": [
    "splited_list"
   ]
  },
  {
   "cell_type": "code",
   "execution_count": 90,
   "id": "b97ac82c",
   "metadata": {},
   "outputs": [
    {
     "data": {
      "text/plain": [
       "7"
      ]
     },
     "execution_count": 90,
     "metadata": {},
     "output_type": "execute_result"
    }
   ],
   "source": [
    "len(splited_list)"
   ]
  },
  {
   "cell_type": "code",
   "execution_count": 95,
   "id": "b5a427bd",
   "metadata": {},
   "outputs": [
    {
     "name": "stdout",
     "output_type": "stream",
     "text": [
      "['I', 'am', 'student', 'of', 'a', 'engineering', 'university']  :  7\n"
     ]
    }
   ],
   "source": [
    "print(splited_list,\" : \", len(splited_list))"
   ]
  },
  {
   "cell_type": "code",
   "execution_count": 97,
   "id": "8ac78f84",
   "metadata": {},
   "outputs": [
    {
     "data": {
      "text/plain": [
       "'Data Science Engineering Class                 '"
      ]
     },
     "execution_count": 97,
     "metadata": {},
     "output_type": "execute_result"
    }
   ],
   "source": [
    "program.lstrip()"
   ]
  },
  {
   "cell_type": "code",
   "execution_count": 99,
   "id": "4f3ab7b2",
   "metadata": {},
   "outputs": [
    {
     "data": {
      "text/plain": [
       "'I am teacher of a engineering university'"
      ]
     },
     "execution_count": 99,
     "metadata": {},
     "output_type": "execute_result"
    }
   ],
   "source": [
    "s.replace(\"student\",\"teacher\")"
   ]
  },
  {
   "cell_type": "code",
   "execution_count": 100,
   "id": "41cc412d",
   "metadata": {},
   "outputs": [],
   "source": [
    "program = \"data science bootcamp 2022\""
   ]
  },
  {
   "cell_type": "markdown",
   "id": "c7fbc198",
   "metadata": {},
   "source": [
    "for i in program:\n",
    "    if i.isdigit():\n",
    "        print(\"digit :\",i)\n",
    "  "
   ]
  },
  {
   "cell_type": "markdown",
   "id": "1c57a2ca",
   "metadata": {},
   "source": [
    "### List comprehension"
   ]
  },
  {
   "cell_type": "code",
   "execution_count": 1,
   "id": "1e0ee4e4",
   "metadata": {},
   "outputs": [],
   "source": [
    "num = []\n",
    "for i in range(1,7):\n",
    "    num.append(i)"
   ]
  },
  {
   "cell_type": "code",
   "execution_count": 2,
   "id": "c3fc285b",
   "metadata": {},
   "outputs": [
    {
     "data": {
      "text/plain": [
       "[1, 2, 3, 4, 5, 6]"
      ]
     },
     "execution_count": 2,
     "metadata": {},
     "output_type": "execute_result"
    }
   ],
   "source": [
    "num"
   ]
  },
  {
   "cell_type": "code",
   "execution_count": 4,
   "id": "7d8cea8e",
   "metadata": {},
   "outputs": [
    {
     "data": {
      "text/plain": [
       "[0, 1, 2, 3, 4, 5, 6, 7, 8, 9]"
      ]
     },
     "execution_count": 4,
     "metadata": {},
     "output_type": "execute_result"
    }
   ],
   "source": [
    "[i for i in range(10)]"
   ]
  },
  {
   "cell_type": "code",
   "execution_count": 10,
   "id": "de8f2c13",
   "metadata": {},
   "outputs": [],
   "source": [
    "all_divided_by3 = []\n",
    "for i in range(101):\n",
    "    if(i%3==0):\n",
    "        all_divided_by3.append(i)"
   ]
  },
  {
   "cell_type": "code",
   "execution_count": 11,
   "id": "0a6e1a53",
   "metadata": {},
   "outputs": [
    {
     "data": {
      "text/plain": [
       "[0,\n",
       " 3,\n",
       " 6,\n",
       " 9,\n",
       " 12,\n",
       " 15,\n",
       " 18,\n",
       " 21,\n",
       " 24,\n",
       " 27,\n",
       " 30,\n",
       " 33,\n",
       " 36,\n",
       " 39,\n",
       " 42,\n",
       " 45,\n",
       " 48,\n",
       " 51,\n",
       " 54,\n",
       " 57,\n",
       " 60,\n",
       " 63,\n",
       " 66,\n",
       " 69,\n",
       " 72,\n",
       " 75,\n",
       " 78,\n",
       " 81,\n",
       " 84,\n",
       " 87,\n",
       " 90,\n",
       " 93,\n",
       " 96,\n",
       " 99]"
      ]
     },
     "execution_count": 11,
     "metadata": {},
     "output_type": "execute_result"
    }
   ],
   "source": [
    "all_divided_by3"
   ]
  },
  {
   "cell_type": "code",
   "execution_count": 12,
   "id": "12eb4e4f",
   "metadata": {},
   "outputs": [
    {
     "data": {
      "text/plain": [
       "[0,\n",
       " 3,\n",
       " 6,\n",
       " 9,\n",
       " 12,\n",
       " 15,\n",
       " 18,\n",
       " 21,\n",
       " 24,\n",
       " 27,\n",
       " 30,\n",
       " 33,\n",
       " 36,\n",
       " 39,\n",
       " 42,\n",
       " 45,\n",
       " 48,\n",
       " 51,\n",
       " 54,\n",
       " 57,\n",
       " 60,\n",
       " 63,\n",
       " 66,\n",
       " 69,\n",
       " 72,\n",
       " 75,\n",
       " 78,\n",
       " 81,\n",
       " 84,\n",
       " 87,\n",
       " 90,\n",
       " 93,\n",
       " 96,\n",
       " 99]"
      ]
     },
     "execution_count": 12,
     "metadata": {},
     "output_type": "execute_result"
    }
   ],
   "source": [
    "[i for i in range(101) if i%3==0]"
   ]
  },
  {
   "cell_type": "code",
   "execution_count": 15,
   "id": "0c2fcd2e",
   "metadata": {},
   "outputs": [],
   "source": [
    "divided_by_3 = []\n",
    "\n",
    "for i in range(15):\n",
    "    if(i%3 == 0):\n",
    "        divided_by_3.append(\"divided_by_3 \"+str(i))\n",
    "    else:\n",
    "        divided_by_3.append(\"!divided_by_3 \"+str(i))\n",
    "        "
   ]
  },
  {
   "cell_type": "code",
   "execution_count": 16,
   "id": "8a7f3d64",
   "metadata": {},
   "outputs": [
    {
     "data": {
      "text/plain": [
       "['divided_by_3 0',\n",
       " '!divided_by_3 1',\n",
       " '!divided_by_3 2',\n",
       " 'divided_by_3 3',\n",
       " '!divided_by_3 4',\n",
       " '!divided_by_3 5',\n",
       " 'divided_by_3 6',\n",
       " '!divided_by_3 7',\n",
       " '!divided_by_3 8',\n",
       " 'divided_by_3 9',\n",
       " '!divided_by_3 10',\n",
       " '!divided_by_3 11',\n",
       " 'divided_by_3 12',\n",
       " '!divided_by_3 13',\n",
       " '!divided_by_3 14']"
      ]
     },
     "execution_count": 16,
     "metadata": {},
     "output_type": "execute_result"
    }
   ],
   "source": [
    "divided_by_3"
   ]
  },
  {
   "cell_type": "code",
   "execution_count": 20,
   "id": "61f1e165",
   "metadata": {},
   "outputs": [
    {
     "data": {
      "text/plain": [
       "['divided_by_3 : 0',\n",
       " '!divided_by_3 : 1',\n",
       " '!divided_by_3 : 2',\n",
       " 'divided_by_3 : 3',\n",
       " '!divided_by_3 : 4',\n",
       " '!divided_by_3 : 5',\n",
       " 'divided_by_3 : 6',\n",
       " '!divided_by_3 : 7',\n",
       " '!divided_by_3 : 8',\n",
       " 'divided_by_3 : 9',\n",
       " '!divided_by_3 : 10',\n",
       " '!divided_by_3 : 11',\n",
       " 'divided_by_3 : 12',\n",
       " '!divided_by_3 : 13',\n",
       " '!divided_by_3 : 14']"
      ]
     },
     "execution_count": 20,
     "metadata": {},
     "output_type": "execute_result"
    }
   ],
   "source": [
    "[\"divided_by_3 : \"+str(i) if i%3 == 0 else \"!divided_by_3 : \"+str(i) for i in range(15) ]"
   ]
  },
  {
   "cell_type": "markdown",
   "id": "9189d1c4",
   "metadata": {},
   "source": [
    "### lambda function"
   ]
  },
  {
   "cell_type": "code",
   "execution_count": 22,
   "id": "451a3ca7",
   "metadata": {},
   "outputs": [],
   "source": [
    "def fun(n):\n",
    "    return n*n"
   ]
  },
  {
   "cell_type": "code",
   "execution_count": 23,
   "id": "faffdafa",
   "metadata": {},
   "outputs": [
    {
     "data": {
      "text/plain": [
       "9"
      ]
     },
     "execution_count": 23,
     "metadata": {},
     "output_type": "execute_result"
    }
   ],
   "source": [
    "fun(3)"
   ]
  },
  {
   "cell_type": "code",
   "execution_count": 29,
   "id": "4284db78",
   "metadata": {},
   "outputs": [],
   "source": [
    "sqr = lambda n,m:n+m"
   ]
  },
  {
   "cell_type": "code",
   "execution_count": 30,
   "id": "51cee185",
   "metadata": {},
   "outputs": [
    {
     "data": {
      "text/plain": [
       "7"
      ]
     },
     "execution_count": 30,
     "metadata": {},
     "output_type": "execute_result"
    }
   ],
   "source": [
    "sqr(3,4)"
   ]
  },
  {
   "cell_type": "markdown",
   "id": "addcf7f9",
   "metadata": {},
   "source": [
    "### File"
   ]
  },
  {
   "cell_type": "code",
   "execution_count": null,
   "id": "0118cc4f",
   "metadata": {},
   "outputs": [],
   "source": [
    "# txt, json, csv, excel, database, png, jpg, pdf, docx"
   ]
  },
  {
   "cell_type": "code",
   "execution_count": 79,
   "id": "374be296",
   "metadata": {},
   "outputs": [],
   "source": [
    "file_name = open(\"sample.txt\",\"r\")"
   ]
  },
  {
   "cell_type": "code",
   "execution_count": 80,
   "id": "3383b14c",
   "metadata": {},
   "outputs": [
    {
     "data": {
      "text/plain": [
       "'hello!\\nhow are you robot?\\ndo you understand me?\\n'"
      ]
     },
     "execution_count": 80,
     "metadata": {},
     "output_type": "execute_result"
    }
   ],
   "source": [
    "file_name.read()"
   ]
  },
  {
   "cell_type": "code",
   "execution_count": 81,
   "id": "906d8adb",
   "metadata": {},
   "outputs": [
    {
     "data": {
      "text/plain": [
       "[]"
      ]
     },
     "execution_count": 81,
     "metadata": {},
     "output_type": "execute_result"
    }
   ],
   "source": [
    "file_name.readlines()"
   ]
  },
  {
   "cell_type": "code",
   "execution_count": 82,
   "id": "bfc1ebf9",
   "metadata": {},
   "outputs": [
    {
     "data": {
      "text/plain": [
       "[]"
      ]
     },
     "execution_count": 82,
     "metadata": {},
     "output_type": "execute_result"
    }
   ],
   "source": [
    "file_name.readlines()"
   ]
  },
  {
   "cell_type": "code",
   "execution_count": 83,
   "id": "4dec9476",
   "metadata": {},
   "outputs": [],
   "source": [
    "for i in file_name.readlines():\n",
    "    print(i)"
   ]
  },
  {
   "cell_type": "code",
   "execution_count": 84,
   "id": "24b70bac",
   "metadata": {},
   "outputs": [],
   "source": [
    "file_name = open(\"sample.txt\",\"r\")"
   ]
  },
  {
   "cell_type": "code",
   "execution_count": 85,
   "id": "1f5fa3e2",
   "metadata": {},
   "outputs": [
    {
     "name": "stdout",
     "output_type": "stream",
     "text": [
      "hello!\n",
      "\n",
      "how are you robot?\n",
      "\n",
      "do you understand me?\n",
      "\n"
     ]
    }
   ],
   "source": [
    "with open(\"sample.txt\",\"r\") as f:\n",
    "    for i in f.readlines():\n",
    "        print(i)\n"
   ]
  },
  {
   "cell_type": "code",
   "execution_count": 86,
   "id": "f196291e",
   "metadata": {},
   "outputs": [],
   "source": [
    "with open(\"sample_1.txt\",\"w\") as f:\n",
    "    f.write(\"Robot is my good friend\\nhello robot\\n\")"
   ]
  },
  {
   "cell_type": "code",
   "execution_count": 87,
   "id": "7a6df054",
   "metadata": {},
   "outputs": [
    {
     "name": "stdout",
     "output_type": "stream",
     "text": [
      "Robot is my good friend\n",
      "hello robot\n",
      "\n"
     ]
    }
   ],
   "source": [
    "with open(\"sample_1.txt\",\"r\") as f:\n",
    "    print(f.read())"
   ]
  },
  {
   "cell_type": "markdown",
   "id": "ae1a3325",
   "metadata": {},
   "source": [
    "## ZIP"
   ]
  },
  {
   "cell_type": "code",
   "execution_count": 98,
   "id": "3ad09a63",
   "metadata": {},
   "outputs": [],
   "source": [
    "company_name = [\"abc\",\"def\",\"jef\",\"bill\"]\n",
    "company_est = [2005,1998,2005,1800]\n",
    "company_emp = [1500,2000,150,8000]"
   ]
  },
  {
   "cell_type": "code",
   "execution_count": 99,
   "id": "dadd3594",
   "metadata": {},
   "outputs": [
    {
     "name": "stdout",
     "output_type": "stream",
     "text": [
      "abc\n",
      "def\n",
      "jef\n",
      "bill\n"
     ]
    }
   ],
   "source": [
    "for c in company_name:\n",
    "    print(c)"
   ]
  },
  {
   "cell_type": "code",
   "execution_count": 91,
   "id": "1389123e",
   "metadata": {},
   "outputs": [
    {
     "name": "stdout",
     "output_type": "stream",
     "text": [
      "abc 2005 1500\n",
      "def 1998 2000\n",
      "jef 2005 150\n",
      "bill 1800 8000\n"
     ]
    }
   ],
   "source": [
    "for cn,ce,cm in zip(company_name,company_est,company_emp):\n",
    "    print(cn,ce,cm)"
   ]
  },
  {
   "cell_type": "code",
   "execution_count": 94,
   "id": "3c9f8a01",
   "metadata": {},
   "outputs": [],
   "source": [
    "with open(\"company_info.txt\",\"a\") as f:\n",
    "    f.write(\"company_name company_est company_emp\")\n",
    "    for cn,ce,cm in zip(company_name,company_est,company_emp):\n",
    "        f.write(f\"{cn} {ce} {cm}\")\n",
    "        f.write(\"\\n\")"
   ]
  },
  {
   "cell_type": "code",
   "execution_count": 108,
   "id": "e9e7a026",
   "metadata": {},
   "outputs": [],
   "source": [
    "with open(\"company_info.txt\",\"a\") as f:\n",
    "    f.write(\"company_name company_est company_emp\\n\")\n",
    "    for i in range(len(company_name)):\n",
    "        f.write(f\"{company_name[i]} {company_est[i]} {company_emp[i]}\")\n",
    "        f.write(\"\\n\")\n",
    "    \n",
    "    "
   ]
  },
  {
   "cell_type": "code",
   "execution_count": null,
   "id": "485cfc4e",
   "metadata": {},
   "outputs": [],
   "source": []
  }
 ],
 "metadata": {
  "kernelspec": {
   "display_name": "Python 3.9.13 64-bit (microsoft store)",
   "language": "python",
   "name": "python3"
  },
  "language_info": {
   "codemirror_mode": {
    "name": "ipython",
    "version": 3
   },
   "file_extension": ".py",
   "mimetype": "text/x-python",
   "name": "python",
   "nbconvert_exporter": "python",
   "pygments_lexer": "ipython3",
   "version": "3.9.13"
  },
  "vscode": {
   "interpreter": {
    "hash": "07c3a98431b513a05678a4f58a817834c9b5da7a769e43c202a273289ce50c45"
   }
  }
 },
 "nbformat": 4,
 "nbformat_minor": 5
}
