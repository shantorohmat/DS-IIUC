{
 "cells": [
  {
   "cell_type": "code",
   "execution_count": 1,
   "id": "90dbc018",
   "metadata": {},
   "outputs": [
    {
     "name": "stdout",
     "output_type": "stream",
     "text": [
      "5\n"
     ]
    }
   ],
   "source": [
    "numbers = [3, 6, 8, -5, -2, -8, 0, 4, 0, 66, 0, -7]\n",
    "cnt = 0\n",
    "for i in numbers:\n",
    "    if i>0:\n",
    "        cnt=cnt+1\n",
    "print(cnt)"
   ]
  },
  {
   "cell_type": "code",
   "execution_count": 2,
   "id": "430a4fa5",
   "metadata": {},
   "outputs": [
    {
     "name": "stdout",
     "output_type": "stream",
     "text": [
      "*\n",
      "\n",
      "**\n",
      "\n",
      "***\n",
      "\n",
      "****\n",
      "\n",
      "*****\n",
      "\n",
      "******\n",
      "\n"
     ]
    }
   ],
   "source": [
    "for i in range(1,7):\n",
    "    for j in range(1,i+1):\n",
    "        print(\"*\",end = \"\")\n",
    "    print('\\n')"
   ]
  },
  {
   "cell_type": "code",
   "execution_count": 3,
   "id": "fabdf5c0",
   "metadata": {},
   "outputs": [
    {
     "name": "stdout",
     "output_type": "stream",
     "text": [
      "iiuc/cse/student/1995\n",
      "iiuc/cse/student/1996\n",
      "iiuc/cse/student/1997\n",
      "iiuc/cse/student/1998\n",
      "iiuc/cse/student/1999\n",
      "iiuc/cse/student/2000\n",
      "iiuc/cse/student/2001\n",
      "iiuc/cse/student/2002\n",
      "iiuc/cse/student/2003\n",
      "iiuc/cse/student/2004\n",
      "iiuc/cse/student/2005\n",
      "iiuc/cse/student/2006\n",
      "iiuc/cse/student/2007\n",
      "iiuc/cse/student/2008\n",
      "iiuc/cse/student/2009\n",
      "iiuc/cse/student/2010\n",
      "iiuc/cse/student/2011\n",
      "iiuc/cse/student/2012\n",
      "iiuc/cse/student/2013\n",
      "iiuc/cse/student/2014\n",
      "iiuc/cse/student/2015\n",
      "iiuc/cse/student/2016\n",
      "iiuc/cse/student/2017\n",
      "iiuc/cse/student/2018\n",
      "iiuc/cse/student/2019\n",
      "iiuc/cse/student/2020\n",
      "iiuc/cse/student/2021\n",
      "iiuc/cse/student/2022\n"
     ]
    }
   ],
   "source": [
    "url = \"iiuc/cse/student/\"\n",
    "n = \"1995\"\n",
    "for i in range(28):\n",
    "    x = url+n\n",
    "    z = int(n)\n",
    "    z +=1\n",
    "    n = str(z);\n",
    "    print(x)"
   ]
  },
  {
   "cell_type": "code",
   "execution_count": 4,
   "id": "66ee06ae",
   "metadata": {},
   "outputs": [
    {
     "name": "stdout",
     "output_type": "stream",
     "text": [
      "*\n",
      "\n",
      "**\n",
      "\n",
      "***\n",
      "\n",
      "****\n",
      "\n",
      "*****\n",
      "\n",
      "******\n",
      "\n",
      "*******\n",
      "\n",
      "******\n",
      "\n",
      "*****\n",
      "\n",
      "****\n",
      "\n",
      "***\n",
      "\n",
      "**\n",
      "\n",
      "*\n",
      "\n"
     ]
    }
   ],
   "source": [
    "for i in range(1,7):\n",
    "    for j in range(1,i+1):\n",
    "        print(\"*\",end = \"\")\n",
    "    print('\\n')\n",
    "\n",
    "\n",
    "for i in range(7, 0,-1):\n",
    "    for j in range(1, i + 1):\n",
    "        print(\"*\", end=\"\")\n",
    "    print('\\n')"
   ]
  },
  {
   "cell_type": "code",
   "execution_count": null,
   "id": "3a81aea9",
   "metadata": {},
   "outputs": [],
   "source": [
    "def weight_change(w, dw, lr=0.01):\n",
    "    w = w - lr * dw\n",
    "    return w"
   ]
  },
  {
   "cell_type": "code",
   "execution_count": 5,
   "id": "31f551b9",
   "metadata": {},
   "outputs": [],
   "source": [
    "def forward_pass(w,x,b):\n",
    "    return (w*x)+b"
   ]
  },
  {
   "cell_type": "code",
   "execution_count": 6,
   "id": "8d4076ae",
   "metadata": {},
   "outputs": [
    {
     "data": {
      "text/plain": [
       "0.07300000000000001"
      ]
     },
     "execution_count": 6,
     "metadata": {},
     "output_type": "execute_result"
    }
   ],
   "source": [
    "forward_pass(.05,.06,.07)"
   ]
  },
  {
   "cell_type": "code",
   "execution_count": 7,
   "id": "9fbf206d",
   "metadata": {},
   "outputs": [],
   "source": [
    "def loss_calculation(y,y_head):\n",
    "    x = (y-y_head)\n",
    "    return x*x"
   ]
  },
  {
   "cell_type": "code",
   "execution_count": 8,
   "id": "05888295",
   "metadata": {},
   "outputs": [
    {
     "data": {
      "text/plain": [
       "4"
      ]
     },
     "execution_count": 8,
     "metadata": {},
     "output_type": "execute_result"
    }
   ],
   "source": [
    "loss_calculation(4,2)"
   ]
  },
  {
   "cell_type": "code",
   "execution_count": 9,
   "id": "2a9bbe20",
   "metadata": {},
   "outputs": [],
   "source": [
    "def gradiant_calculation(y,y_head,x):\n",
    "    y = y - y_head\n",
    "    x = y * x\n",
    "    z = -2 * x\n",
    "    return z"
   ]
  },
  {
   "cell_type": "code",
   "execution_count": 10,
   "id": "63c55d2f",
   "metadata": {},
   "outputs": [
    {
     "data": {
      "text/plain": [
       "20"
      ]
     },
     "execution_count": 10,
     "metadata": {},
     "output_type": "execute_result"
    }
   ],
   "source": [
    "gradiant_calculation(2,4,5)"
   ]
  },
  {
   "cell_type": "code",
   "execution_count": 11,
   "id": "2e8dc4a8",
   "metadata": {},
   "outputs": [],
   "source": [
    "import math"
   ]
  },
  {
   "cell_type": "code",
   "execution_count": 12,
   "id": "5f424b1a",
   "metadata": {},
   "outputs": [
    {
     "data": {
      "text/plain": [
       "20.085536923187668"
      ]
     },
     "execution_count": 12,
     "metadata": {},
     "output_type": "execute_result"
    }
   ],
   "source": [
    "math.exp(3)"
   ]
  },
  {
   "cell_type": "code",
   "execution_count": 13,
   "id": "23fe9bcc",
   "metadata": {},
   "outputs": [],
   "source": [
    "def sigmoid(x):\n",
    "    asn = 1+math.exp(-x)\n",
    "    return 1/asn\n",
    "    \n",
    "    "
   ]
  },
  {
   "cell_type": "code",
   "execution_count": 14,
   "id": "ff055439",
   "metadata": {},
   "outputs": [
    {
     "data": {
      "text/plain": [
       "0.9525741268224334"
      ]
     },
     "execution_count": 14,
     "metadata": {},
     "output_type": "execute_result"
    }
   ],
   "source": [
    "sigmoid(3)"
   ]
  },
  {
   "cell_type": "code",
   "execution_count": 15,
   "id": "4d82daf7",
   "metadata": {},
   "outputs": [],
   "source": [
    "def s(w,lr,dw):\n",
    "    return w-lr*dw"
   ]
  },
  {
   "cell_type": "code",
   "execution_count": 16,
   "id": "06c69b8c",
   "metadata": {},
   "outputs": [
    {
     "data": {
      "text/plain": [
       "-18"
      ]
     },
     "execution_count": 16,
     "metadata": {},
     "output_type": "execute_result"
    }
   ],
   "source": [
    "s(2,4,5)"
   ]
  },
  {
   "cell_type": "markdown",
   "id": "83cd6a24",
   "metadata": {},
   "source": [
    "## new code ##"
   ]
  },
  {
   "cell_type": "code",
   "execution_count": 17,
   "id": "2de251eb",
   "metadata": {},
   "outputs": [],
   "source": [
    "name = \"shanto\"\n",
    "age = 20"
   ]
  },
  {
   "cell_type": "code",
   "execution_count": 18,
   "id": "c83083b5",
   "metadata": {},
   "outputs": [
    {
     "name": "stdout",
     "output_type": "stream",
     "text": [
      "shanto\n"
     ]
    },
    {
     "data": {
      "text/plain": [
       "20"
      ]
     },
     "execution_count": 18,
     "metadata": {},
     "output_type": "execute_result"
    }
   ],
   "source": [
    "print(name)\n",
    "age"
   ]
  },
  {
   "cell_type": "code",
   "execution_count": 19,
   "id": "10e32a4d",
   "metadata": {},
   "outputs": [
    {
     "name": "stdout",
     "output_type": "stream",
     "text": [
      "shanto\n",
      "20\n"
     ]
    }
   ],
   "source": [
    "print(\"{}\\n{}\".format(name,age))"
   ]
  },
  {
   "cell_type": "code",
   "execution_count": 20,
   "id": "4743ddbc",
   "metadata": {},
   "outputs": [
    {
     "name": "stdout",
     "output_type": "stream",
     "text": [
      "enter multiple value5 6 7\n"
     ]
    }
   ],
   "source": [
    "x = input(\"enter multiple value\");\n"
   ]
  },
  {
   "cell_type": "code",
   "execution_count": 21,
   "id": "cec69e87",
   "metadata": {},
   "outputs": [
    {
     "data": {
      "text/plain": [
       "'5 6 7'"
      ]
     },
     "execution_count": 21,
     "metadata": {},
     "output_type": "execute_result"
    }
   ],
   "source": [
    "x\n"
   ]
  },
  {
   "cell_type": "code",
   "execution_count": 22,
   "id": "545f7740",
   "metadata": {},
   "outputs": [
    {
     "data": {
      "text/plain": [
       "str"
      ]
     },
     "execution_count": 22,
     "metadata": {},
     "output_type": "execute_result"
    }
   ],
   "source": [
    "type(x)"
   ]
  },
  {
   "cell_type": "code",
   "execution_count": 23,
   "id": "13388726",
   "metadata": {},
   "outputs": [
    {
     "data": {
      "text/plain": [
       "['5 6 7']"
      ]
     },
     "execution_count": 23,
     "metadata": {},
     "output_type": "execute_result"
    }
   ],
   "source": [
    "x.split(',')"
   ]
  },
  {
   "cell_type": "code",
   "execution_count": 24,
   "id": "98c02628",
   "metadata": {},
   "outputs": [
    {
     "data": {
      "text/plain": [
       "1.3333333333333333"
      ]
     },
     "execution_count": 24,
     "metadata": {},
     "output_type": "execute_result"
    }
   ],
   "source": [
    "4/3\n"
   ]
  },
  {
   "cell_type": "code",
   "execution_count": 25,
   "id": "7c7f02dd",
   "metadata": {},
   "outputs": [
    {
     "data": {
      "text/plain": [
       "1"
      ]
     },
     "execution_count": 25,
     "metadata": {},
     "output_type": "execute_result"
    }
   ],
   "source": [
    "4//3"
   ]
  },
  {
   "cell_type": "code",
   "execution_count": 26,
   "id": "f1e12319",
   "metadata": {},
   "outputs": [
    {
     "data": {
      "text/plain": [
       "1.7241379310344827"
      ]
     },
     "execution_count": 26,
     "metadata": {},
     "output_type": "execute_result"
    }
   ],
   "source": [
    "50/29"
   ]
  },
  {
   "cell_type": "code",
   "execution_count": 27,
   "id": "49901a69",
   "metadata": {},
   "outputs": [
    {
     "data": {
      "text/plain": [
       "1"
      ]
     },
     "execution_count": 27,
     "metadata": {},
     "output_type": "execute_result"
    }
   ],
   "source": [
    "50//29"
   ]
  },
  {
   "cell_type": "code",
   "execution_count": 28,
   "id": "e11ab0b8",
   "metadata": {},
   "outputs": [
    {
     "data": {
      "text/plain": [
       "2.0833333333333335"
      ]
     },
     "execution_count": 28,
     "metadata": {},
     "output_type": "execute_result"
    }
   ],
   "source": [
    "25/12"
   ]
  },
  {
   "cell_type": "code",
   "execution_count": 29,
   "id": "1d8ff1e3",
   "metadata": {},
   "outputs": [
    {
     "data": {
      "text/plain": [
       "2"
      ]
     },
     "execution_count": 29,
     "metadata": {},
     "output_type": "execute_result"
    }
   ],
   "source": [
    "25//12"
   ]
  },
  {
   "cell_type": "code",
   "execution_count": 30,
   "id": "72fb2ce1",
   "metadata": {},
   "outputs": [
    {
     "name": "stdout",
     "output_type": "stream",
     "text": [
      "enter your age : 52\n",
      "sex you up\n"
     ]
    }
   ],
   "source": [
    "age = int(input(\"enter your age : \"))\n",
    "if age>20:\n",
    "    print(\"sex you up\")\n",
    "elif age<20:\n",
    "    print(\"I love you\")"
   ]
  },
  {
   "cell_type": "code",
   "execution_count": 31,
   "id": "4b30da8a",
   "metadata": {},
   "outputs": [
    {
     "name": "stdout",
     "output_type": "stream",
     "text": [
      "32\n"
     ]
    }
   ],
   "source": [
    "age = input()"
   ]
  },
  {
   "cell_type": "code",
   "execution_count": 32,
   "id": "7b633349",
   "metadata": {},
   "outputs": [
    {
     "data": {
      "text/plain": [
       "str"
      ]
     },
     "execution_count": 32,
     "metadata": {},
     "output_type": "execute_result"
    }
   ],
   "source": [
    "type(age)"
   ]
  },
  {
   "cell_type": "markdown",
   "id": "1c4dcdb0",
   "metadata": {},
   "source": [
    "# # else if statement"
   ]
  },
  {
   "cell_type": "code",
   "execution_count": 33,
   "id": "b24eb81f",
   "metadata": {},
   "outputs": [
    {
     "name": "stdout",
     "output_type": "stream",
     "text": [
      "input your fucking number: 56\n",
      "fuck you fuck you fuck you\n"
     ]
    }
   ],
   "source": [
    "mark = int(input(\"input your fucking number: \"))\n",
    "if mark>=80:\n",
    "    print(\"fuck you\")\n",
    "elif mark<80 and mark >=70:\n",
    "    print(\"fuck you fuck you\")\n",
    "elif mark<70 and mark >= 50:\n",
    "    print(\"fuck you fuck you fuck you\")\n",
    "else:\n",
    "    print(\"fuck your system\")"
   ]
  },
  {
   "cell_type": "markdown",
   "id": "f1415dec",
   "metadata": {},
   "source": [
    "## nested loop"
   ]
  },
  {
   "cell_type": "code",
   "execution_count": 34,
   "id": "4cc44e31",
   "metadata": {},
   "outputs": [
    {
     "name": "stdout",
     "output_type": "stream",
     "text": [
      "give your marks88\n",
      "your are bychod\n"
     ]
    }
   ],
   "source": [
    "mark = int(input(\"give your marks\"))\n",
    "if mark >= 80:\n",
    "    if mark>=95 and mark <=100:\n",
    "        print(\"you are sera bychod\")\n",
    "    elif mark>=93 and mark <=90:\n",
    "        print(\"your are good bynchod\")\n",
    "    else:\n",
    "        print(\"your are bychod\")\n",
    "elif mark <80:\n",
    "    print(\"your are a small bychod\")\n"
   ]
  },
  {
   "cell_type": "markdown",
   "id": "26468e1f",
   "metadata": {},
   "source": [
    "## while"
   ]
  },
  {
   "cell_type": "code",
   "execution_count": 35,
   "id": "199b565f",
   "metadata": {},
   "outputs": [
    {
     "name": "stdout",
     "output_type": "stream",
     "text": [
      "give your marks88\n",
      "your are bychod\n",
      "give your marks88\n",
      "your are bychod\n"
     ]
    }
   ],
   "source": [
    "cnt = 1\n",
    "total_students = 3\n",
    "\n",
    "while cnt<total_students:\n",
    "    mark = int(input(\"give your marks\"))\n",
    "    if mark >= 80:\n",
    "        if mark>=95 and mark <=100:\n",
    "            print(\"you are sera bychod\")\n",
    "        elif mark>=93 and mark <=90:\n",
    "            print(\"your are good bynchod\")\n",
    "        else:\n",
    "            print(\"your are bychod\")\n",
    "    elif mark <80:\n",
    "        print(\"your are a small bychod\")\n",
    "    cnt+=1"
   ]
  },
  {
   "cell_type": "code",
   "execution_count": 36,
   "id": "e415d33f",
   "metadata": {},
   "outputs": [
    {
     "name": "stdout",
     "output_type": "stream",
     "text": [
      "hkdsjfkl\n"
     ]
    }
   ],
   "source": [
    "print(\"hkdsjfkl\")"
   ]
  },
  {
   "cell_type": "code",
   "execution_count": 37,
   "id": "058f11ed",
   "metadata": {},
   "outputs": [
    {
     "name": "stdout",
     "output_type": "stream",
     "text": [
      "2\n",
      "4\n",
      "6\n",
      "8\n",
      "10\n",
      "12\n",
      "14\n",
      "16\n",
      "18\n"
     ]
    }
   ],
   "source": [
    "for i in range(1,20):\n",
    "    if i%2 == 0:\n",
    "        print(i)"
   ]
  },
  {
   "cell_type": "code",
   "execution_count": 20,
   "id": "f3b85ba4",
   "metadata": {},
   "outputs": [
    {
     "name": "stdout",
     "output_type": "stream",
     "text": [
      "1\n",
      "2\n",
      "3\n",
      "4\n",
      "5\n",
      "6\n",
      "7\n",
      "8\n",
      "9\n",
      "10\n",
      "11\n",
      "12\n",
      "13\n",
      "14\n",
      "15\n",
      "16\n",
      "17\n",
      "18\n",
      "19\n"
     ]
    }
   ],
   "source": [
    "for i in range(1,20):\n",
    "\n",
    "        print(i)"
   ]
  },
  {
   "cell_type": "code",
   "execution_count": 38,
   "id": "d28258ec",
   "metadata": {},
   "outputs": [
    {
     "name": "stdout",
     "output_type": "stream",
     "text": [
      "0 : \n",
      "give your marks58\n",
      "your are a small bychod\n",
      "1 : \n",
      "give your marks85\n",
      "your are bychod\n",
      "2 : \n",
      "give your marks36\n",
      "your are a small bychod\n",
      "3 : \n",
      "give your marks56\n",
      "your are a small bychod\n",
      "4 : \n",
      "give your marks36\n",
      "your are a small bychod\n"
     ]
    }
   ],
   "source": [
    "for i in range(0,5):\n",
    "    print(\"{} : \".format(i))\n",
    "    mark = int(input(\"give your marks\"))\n",
    "    if mark >= 80:\n",
    "        if mark>=95 and mark <=100:\n",
    "            print(\"you are sera bychod\")\n",
    "        elif mark>=93 and mark <=90:\n",
    "            print(\"your are good bynchod\")\n",
    "        else:\n",
    "            print(\"your are bychod\")\n",
    "    elif mark <80:\n",
    "        print(\"your are a small bychod\")"
   ]
  },
  {
   "cell_type": "code",
   "execution_count": 39,
   "id": "0db7b70a",
   "metadata": {},
   "outputs": [
    {
     "name": "stdout",
     "output_type": "stream",
     "text": [
      "0 : \n",
      "give your marks10\n",
      "your are a small bychod\n",
      "1 : \n",
      "give your marks889\n",
      "your are bychod\n",
      "2 : \n",
      "give your marks99\n",
      "you are sera bychod\n",
      "3 : \n",
      "give your marks99\n",
      "you are sera bychod\n",
      "4 : \n",
      "give your marks99\n",
      "you are sera bychod\n"
     ]
    }
   ],
   "source": [
    "for i in range(5):\n",
    "    print(\"{} : \".format(i))\n",
    "    mark = int(input(\"give your marks\"))\n",
    "    if mark >= 80:\n",
    "        if mark>=95 and mark <=100:\n",
    "            print(\"you are sera bychod\")\n",
    "        elif mark>=93 and mark <=90:\n",
    "            print(\"your are good bynchod\")\n",
    "        else:\n",
    "            print(\"your are bychod\")\n",
    "    elif mark <80:\n",
    "        print(\"your are a small bychod\")"
   ]
  },
  {
   "cell_type": "code",
   "execution_count": 40,
   "id": "6b40777d",
   "metadata": {},
   "outputs": [
    {
     "name": "stdout",
     "output_type": "stream",
     "text": [
      "*\n",
      "\n",
      "**\n",
      "\n",
      "***\n",
      "\n",
      "****\n",
      "\n",
      "*****\n",
      "\n"
     ]
    }
   ],
   "source": [
    "for i in range(0,5):\n",
    "    for j in range(0,i+1):\n",
    "        print(\"*\",end=\"\")\n",
    "    print(\"\\n\")\n",
    "   "
   ]
  },
  {
   "cell_type": "code",
   "execution_count": 41,
   "id": "dd0c62a9",
   "metadata": {},
   "outputs": [
    {
     "name": "stdout",
     "output_type": "stream",
     "text": [
      "0\n",
      "\n",
      "01\n",
      "\n",
      "012\n",
      "\n",
      "0123\n",
      "\n",
      "01234\n",
      "\n",
      "012345\n",
      "\n",
      "0123456\n",
      "\n",
      "01234567\n",
      "\n",
      "0123456\n",
      "\n",
      "012345\n",
      "\n",
      "01234\n",
      "\n",
      "0123\n",
      "\n",
      "012\n",
      "\n",
      "01\n",
      "\n"
     ]
    }
   ],
   "source": [
    "for i in range(0,7):\n",
    "    for j in range(0,i+1):\n",
    "        print(j,end=\"\")\n",
    "    print(\"\\n\")\n",
    "for i in range(0,7):\n",
    "    for j in range(0,8-i):\n",
    "        print(j,end=\"\")\n",
    "    print(\"\\n\")"
   ]
  },
  {
   "cell_type": "code",
   "execution_count": 42,
   "id": "cc4f6d46",
   "metadata": {},
   "outputs": [
    {
     "name": "stdout",
     "output_type": "stream",
     "text": [
      "0\n",
      "\n",
      "01\n",
      "\n",
      "012\n",
      "\n",
      "0123\n",
      "\n",
      "01234\n",
      "\n",
      "012345\n",
      "\n",
      "0123456\n",
      "\n",
      "01234567\n",
      "\n",
      "1234567\n",
      "\n",
      "234567\n",
      "\n",
      "34567\n",
      "\n",
      "4567\n",
      "\n",
      "567\n",
      "\n",
      "67\n",
      "\n"
     ]
    }
   ],
   "source": [
    "for i in range(0,7):\n",
    "    for j in range(0,i+1):\n",
    "        print(j,end=\"\")\n",
    "    print(\"\\n\")\n",
    "for i in range(0,7):\n",
    "    for j in range(i,8):\n",
    "        print(j,end=\"\")\n",
    "    print(\"\\n\")"
   ]
  },
  {
   "cell_type": "code",
   "execution_count": 43,
   "id": "435d8883",
   "metadata": {},
   "outputs": [
    {
     "name": "stdout",
     "output_type": "stream",
     "text": [
      "1\n",
      "2\n",
      "3\n",
      "4\n",
      "5\n",
      "6\n"
     ]
    }
   ],
   "source": [
    "for i in range(1,7):\n",
    "    print(i)"
   ]
  },
  {
   "cell_type": "code",
   "execution_count": 44,
   "id": "dc6dc64e",
   "metadata": {},
   "outputs": [
    {
     "name": "stdout",
     "output_type": "stream",
     "text": [
      "\n",
      "*\n",
      "**\n",
      "***\n",
      "****\n",
      "*****\n",
      "******\n"
     ]
    }
   ],
   "source": [
    "for i in range(0,7):\n",
    "    print(\"*\"*i)\n",
    "    "
   ]
  },
  {
   "cell_type": "code",
   "execution_count": 45,
   "id": "7336886c",
   "metadata": {},
   "outputs": [],
   "source": [
    "def forward_print(n):\n",
    "    for i in range(0,n):\n",
    "        for j in range(0,i+1):\n",
    "            print(j,end=\"\")\n",
    "        print(\"\\n\")"
   ]
  },
  {
   "cell_type": "code",
   "execution_count": 46,
   "id": "9fbc8f9f",
   "metadata": {},
   "outputs": [
    {
     "name": "stdout",
     "output_type": "stream",
     "text": [
      "0\n",
      "\n",
      "01\n",
      "\n",
      "012\n",
      "\n",
      "0123\n",
      "\n",
      "01234\n",
      "\n",
      "012345\n",
      "\n",
      "0123456\n",
      "\n"
     ]
    }
   ],
   "source": [
    "forward_print(7)"
   ]
  },
  {
   "cell_type": "code",
   "execution_count": 47,
   "id": "4a6856e5",
   "metadata": {},
   "outputs": [],
   "source": [
    "def backward_print(n):\n",
    "    for i in range(0,n):\n",
    "        for j in range(i,n):\n",
    "            print(j,end=\"\")\n",
    "        print(\"\\n\")"
   ]
  },
  {
   "cell_type": "code",
   "execution_count": 48,
   "id": "81c53836",
   "metadata": {},
   "outputs": [
    {
     "name": "stdout",
     "output_type": "stream",
     "text": [
      "01234567\n",
      "\n",
      "1234567\n",
      "\n",
      "234567\n",
      "\n",
      "34567\n",
      "\n",
      "4567\n",
      "\n",
      "567\n",
      "\n",
      "67\n",
      "\n",
      "7\n",
      "\n"
     ]
    }
   ],
   "source": [
    "backward_print(8)"
   ]
  },
  {
   "cell_type": "code",
   "execution_count": 1,
   "id": "77124f34",
   "metadata": {},
   "outputs": [],
   "source": [
    "def d(n):\n",
    "    for i in range(0,7):\n",
    "        for j in range(0,i+1):\n",
    "            print(j,end=\"\")\n",
    "        print(\"\\n\")\n",
    "    for i in range(0,7):\n",
    "        for j in range(i,8):\n",
    "            print(j,end=\"\")\n",
    "        print(\"\\n\")"
   ]
  },
  {
   "cell_type": "code",
   "execution_count": 2,
   "id": "b9a9d6b9",
   "metadata": {},
   "outputs": [
    {
     "name": "stdout",
     "output_type": "stream",
     "text": [
      "0\n",
      "\n",
      "01\n",
      "\n",
      "012\n",
      "\n",
      "0123\n",
      "\n",
      "01234\n",
      "\n",
      "012345\n",
      "\n",
      "0123456\n",
      "\n",
      "01234567\n",
      "\n",
      "1234567\n",
      "\n",
      "234567\n",
      "\n",
      "34567\n",
      "\n",
      "4567\n",
      "\n",
      "567\n",
      "\n",
      "67\n",
      "\n"
     ]
    }
   ],
   "source": [
    "d(8)"
   ]
  },
  {
   "cell_type": "code",
   "execution_count": null,
   "id": "68baa362",
   "metadata": {},
   "outputs": [],
   "source": [
    "s = \"https://iiuc.ac.bd/cse/students/\"\n",
    "for i in range(1995,2022):\n",
    " \n",
    "    z = s + str(i)\n",
    "    print(z)"
   ]
  },
  {
   "cell_type": "code",
   "execution_count": 3,
   "id": "e062f66f",
   "metadata": {},
   "outputs": [],
   "source": [
    "def weight_change(w, dw, lr=0.01):\n",
    "    w = w - lr * dw\n",
    "    return w"
   ]
  },
  {
   "cell_type": "code",
   "execution_count": 4,
   "id": "60907f93",
   "metadata": {},
   "outputs": [],
   "source": [
    "def forward_pass(w,x,b):\n",
    "    return (w*x)+b"
   ]
  },
  {
   "cell_type": "code",
   "execution_count": 5,
   "id": "00a2ba94",
   "metadata": {},
   "outputs": [],
   "source": [
    "def loss_calculation(y,y_head):\n",
    "    x = (y-y_head)\n",
    "    return x*x"
   ]
  },
  {
   "cell_type": "code",
   "execution_count": 6,
   "id": "22534947",
   "metadata": {},
   "outputs": [],
   "source": [
    "def gradiant_calculation(y,y_head,x):\n",
    "    y = y - y_head\n",
    "    x = y * x\n",
    "    z = -2 * x\n",
    "    return z"
   ]
  },
  {
   "cell_type": "code",
   "execution_count": 14,
   "id": "54620058",
   "metadata": {},
   "outputs": [],
   "source": [
    "def gradiant_w(y, y_head, x):\n",
    "    '''\n",
    "    Input\n",
    "        y = real value\n",
    "        y_head = predicted value\n",
    "        x = input_feature\n",
    "    Output\n",
    "        -2*(y-y_head)*x\n",
    "    '''\n",
    "    return -2*(y-y_head)*x"
   ]
  },
  {
   "cell_type": "code",
   "execution_count": 15,
   "id": "742ff126",
   "metadata": {},
   "outputs": [],
   "source": [
    "def gradiant_b(y, y_head):\n",
    "    '''\n",
    "    Input\n",
    "        y = real value\n",
    "        y_head = predicted value\n",
    "        x = input_feature\n",
    "    Output\n",
    "        -2*(y-y_head)\n",
    "    '''\n",
    "    return -2*(y-y_head)"
   ]
  },
  {
   "cell_type": "code",
   "execution_count": 7,
   "id": "6570d42a",
   "metadata": {},
   "outputs": [],
   "source": [
    "import math"
   ]
  },
  {
   "cell_type": "code",
   "execution_count": 8,
   "id": "c2869e26",
   "metadata": {},
   "outputs": [],
   "source": [
    "def sigmoid(x):\n",
    "    asn = 1+math.exp(-x)\n",
    "    return 1/asn"
   ]
  },
  {
   "cell_type": "code",
   "execution_count": 9,
   "id": "d6049999",
   "metadata": {},
   "outputs": [],
   "source": [
    "def update_weight(w, dw, lr=0.001):\n",
    "  \n",
    "    return w - lr * dw"
   ]
  },
  {
   "cell_type": "code",
   "execution_count": 10,
   "id": "78284b1b",
   "metadata": {},
   "outputs": [],
   "source": [
    "def update_bias(b, db, lr=0.001):\n",
    "    return b - lr * db"
   ]
  },
  {
   "cell_type": "code",
   "execution_count": 11,
   "id": "7a66836c",
   "metadata": {},
   "outputs": [],
   "source": [
    "import random"
   ]
  },
  {
   "cell_type": "code",
   "execution_count": 18,
   "id": "35e50185",
   "metadata": {},
   "outputs": [],
   "source": [
    "def main(x, y):\n",
    "    '''\n",
    "    Input\n",
    "        x = input feature\n",
    "        y = real value\n",
    "    Output\n",
    "        None\n",
    "    Task\n",
    "        0. Do the following task 1-4 50 times\n",
    "        1. call forward_pass function and save the returned value in a variable say \"y_head\"\n",
    "        2. calculate the loss using y and y_head (loss_calculation)\n",
    "        3. find out the gradiant and save in a variable say \"dw\"\n",
    "        4. update w with the previous gradiant output \"dw\"\n",
    "        5. Return w, b\n",
    "    '''\n",
    "    w = random.random()\n",
    "    b = 1\n",
    "    for i in range(50):\n",
    "        y_head = forward_pass(w, x, b)\n",
    "        loss = loss_calculation(y, y_head)\n",
    "        dw = gradiant_w(y, y_head, x)\n",
    "        db = gradiant_b(y, y_head)\n",
    "        w = update_weight(w, dw)\n",
    "        b = update_bias(b, db)\n",
    "#         print(w, b)\n",
    "    return w, b\n",
    "        "
   ]
  },
  {
   "cell_type": "code",
   "execution_count": 19,
   "id": "c1453fce",
   "metadata": {},
   "outputs": [
    {
     "name": "stdout",
     "output_type": "stream",
     "text": [
      "-1.1975799665205697e+65 -1.1975799665205697e+63\n"
     ]
    }
   ],
   "source": [
    "x = 100\n",
    "y = 1450\n",
    "w, b = main(x, y)\n",
    "print(w, b)"
   ]
  },
  {
   "cell_type": "code",
   "execution_count": null,
   "id": "fd8330a3",
   "metadata": {},
   "outputs": [],
   "source": []
  }
 ],
 "metadata": {
  "kernelspec": {
   "display_name": "shanto_kernel",
   "language": "python",
   "name": "env"
  },
  "language_info": {
   "codemirror_mode": {
    "name": "ipython",
    "version": 3
   },
   "file_extension": ".py",
   "mimetype": "text/x-python",
   "name": "python",
   "nbconvert_exporter": "python",
   "pygments_lexer": "ipython3",
   "version": "3.8.8"
  }
 },
 "nbformat": 4,
 "nbformat_minor": 5
}
